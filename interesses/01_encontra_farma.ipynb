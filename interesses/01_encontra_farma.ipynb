{
 "cells": [
  {
   "cell_type": "code",
   "execution_count": 1,
   "metadata": {},
   "outputs": [],
   "source": [
    "# -*- coding: utf-8\n",
    "# Abraji (https://www.abraji.org.br)\n",
    "# Reinaldo Chaves (reinaldo@abraji.org.br)\n",
    "# Programa 01 do curso Como usar Python para descobrir uma rede de interesses\n",
    "#"
   ]
  },
  {
   "cell_type": "code",
   "execution_count": 1,
   "metadata": {},
   "outputs": [],
   "source": [
    "import pandas as pd\n",
    "import numpy as np\n",
    "from datetime import datetime"
   ]
  },
  {
   "cell_type": "code",
   "execution_count": null,
   "metadata": {},
   "outputs": [],
   "source": []
  },
  {
   "cell_type": "markdown",
   "metadata": {},
   "source": [
    "# Indústria Farmacêutica\n",
    "\n",
    "## Procura empresas brasileiras e seus sócios "
   ]
  },
  {
   "cell_type": "code",
   "execution_count": null,
   "metadata": {},
   "outputs": [],
   "source": []
  },
  {
   "cell_type": "markdown",
   "metadata": {},
   "source": [
    "Gerou estas reportagens: \n",
    "    \n",
    "https://reporterbrasil.org.br/2019/02/industria-farmaceutica-ganha-assento-e-amplia-lobby-no-novo-congresso/\n",
    "    \n",
    "https://reporterbrasil.org.br/2019/02/executivo-conta-como-ganhou-subgabinete-no-senado-apos-investir-r-15-milhao-em-campanha/\n",
    "\n",
    "https://brasil.elpais.com/brasil/2019/02/19/politica/1550534951_105635.html\n",
    "    \n",
    "https://brasil.elpais.com/brasil/2019/02/19/politica/1550580934_709058.html\n"
   ]
  },
  {
   "cell_type": "code",
   "execution_count": null,
   "metadata": {},
   "outputs": [],
   "source": []
  },
  {
   "cell_type": "markdown",
   "metadata": {},
   "source": [
    "1 - Primeiro foram procurados quais são as CNAEs (Classificação Nacional de Atividades Econômicas) das maiores empresas do setor em faturamento\n",
    "\n",
    "57.507.378/0003-65 - EMS\n",
    "\n",
    "02.932.074/0001-91 - Hypera\n",
    "\n",
    "02.685.377/0001-57 - Sanofi\n",
    "\n",
    "56994502000130 - Novartis\n",
    "\n",
    "60.659.463/0001-91 - Aché\n",
    "\n",
    "61.190.096/0001-92 - Eurofarma\n",
    "\n",
    "60.397.775/0001-74 - Taked Pharma\n",
    "\n",
    "18459628000115 - Bayer\n",
    "\n",
    "17.159.229/0001-76 - Teuto Brasileiro\n",
    "\n",
    "33.247.743/0001-10 - GSK\n",
    "\n",
    "O resultado foi:\n",
    "\n",
    "2121-1/01 Fabricação de medicamentos alopáticos para uso humano  \n",
    "\n",
    "4771-7/01 Comércio varejista de produtos farmacêuticos, sem manipulação de fórmulas \n",
    "\n",
    "21.21-1-03 - Fabricação de medicamentos fitoterápicos para uso humano \n",
    "\n",
    "46.44-3-01 - Comércio atacadista de medicamentos e drogas de uso humano \n",
    "\n",
    "21.10-6-00 - Fabricação de produtos farmoquímicos \n",
    "\n",
    "21.21-1-02 - Fabricação de medicamentos homeopáticos para uso humano\n",
    "\n",
    "Como são empresas referência, então esses CNAEs foram usados para procurar todas do setor farmacêutica no Brasil\n",
    "\n",
    "Os CNAEs em geral podem ser vistos neste site: https://concla.ibge.gov.br/busca-online-cnae.html\n",
    "\n",
    "Ou https://servicodados.ibge.gov.br/api/docs/cnae?versao=2"
   ]
  },
  {
   "cell_type": "code",
   "execution_count": null,
   "metadata": {},
   "outputs": [],
   "source": []
  },
  {
   "cell_type": "markdown",
   "metadata": {},
   "source": [
    "2 - Foi escrita uma rotina então para procurar os CNPJs que tivessem os CNAEs - no arquivo de empresas da Receita Federal"
   ]
  },
  {
   "cell_type": "markdown",
   "metadata": {},
   "source": [
    "A fonte é: http://receita.economia.gov.br/orientacao/tributaria/cadastros/cadastro-nacional-de-pessoas-juridicas-cnpj/dados-publicos-cnpj"
   ]
  },
  {
   "cell_type": "code",
   "execution_count": 2,
   "metadata": {},
   "outputs": [],
   "source": [
    "# Delimita o arquivo em chunks, em 100.000 divisões\n",
    "# Aponta qual é o separador de informações\n",
    "# Dá novos nomes para colunas\n",
    "# Indica para ignorar o cabeçalho\n",
    "# Define quais são os tipos das colunas\n",
    "# Separa apenas as colunas de interesse\n",
    "# Aponta o decimal usado"
   ]
  },
  {
   "cell_type": "code",
   "execution_count": 3,
   "metadata": {},
   "outputs": [],
   "source": [
    "TextFileReader = pd.read_csv('dados/empresa.csv',\\\n",
    "                             chunksize=100000,\\\n",
    "                             sep=',',\\\n",
    "                             names=['cnpj',\n",
    "                                    'identificador_matrizfilial',\n",
    "                                    'razao_social',\n",
    "                                    'nome_fantasia', \n",
    "                                    'situacao_cadastral',\n",
    "                                    'data_situacao_cadastral',\n",
    "                                    'motivo_situacao_cadastral', \n",
    "                                    'nome_cidade_exterior',\n",
    "                                    'codigo_natureza_juridica',\n",
    "                                    'data_inicio_atividade',\n",
    "                                    'cnae_fiscal',\n",
    "                                    'descricao_tipo_logradouro',\n",
    "                                    'logradouro', \n",
    "                                    'numero', \n",
    "                                    'complemento', \n",
    "                                    'bairro', \n",
    "                                    'cep', \n",
    "                                    'uf', \n",
    "                                    'codigo_municipio', \n",
    "                                    'municipio', \n",
    "                                    'ddd_telefone_1',\n",
    "                                    'ddd_telefone_2', \n",
    "                                    'ddd_fax', \n",
    "                                    'qualificacao_do_responsavel', \n",
    "                                    'capital_social', \n",
    "                                    'porte', \n",
    "                                    'opcao_pelo_simples', \n",
    "                                    'data_opcao_pelo_simples', \n",
    "                                    'data_exclusao_do_simples', \n",
    "                                    'opcao_pelo_mei', \n",
    "                                    'situacao_especial', \n",
    "                                    'data_situacao_especial'],\\\n",
    "                             header=None,\\\n",
    "                             dtype={'cnpj': str,\n",
    "                                    'identificador_matrizfilial': str,\n",
    "                                    'razao_social': str,\n",
    "                                    'nome_fantasia': str, \n",
    "                                    'situacao_cadastral': str,\n",
    "                                    'data_situacao_cadastral': str,\n",
    "                                    'motivo_situacao_cadastral': str, \n",
    "                                    'nome_cidade_exterior': str,\n",
    "                                    'codigo_natureza_juridica': str,\n",
    "                                    'data_inicio_atividade': str,\n",
    "                                    'cnae_fiscal': str,\n",
    "                                    'descricao_tipo_logradouro': str,\n",
    "                                    'logradouro': str, \n",
    "                                    'numero': str, \n",
    "                                    'complemento': str, \n",
    "                                    'bairro': str, \n",
    "                                    'cep': str, \n",
    "                                    'uf': str, \n",
    "                                    'codigo_municipio': str, \n",
    "                                    'municipio': str, \n",
    "                                    'ddd_telefone_1': str,\n",
    "                                    'ddd_telefone_2': str, \n",
    "                                    'ddd_fax': str, \n",
    "                                    'qualificacao_do_responsavel': str, \n",
    "                                    'capital_social': str, \n",
    "                                    'porte': str, \n",
    "                                    'opcao_pelo_simples': str, \n",
    "                                    'data_opcao_pelo_simples': str, \n",
    "                                    'data_exclusao_do_simples': str, \n",
    "                                    'opcao_pelo_mei': str, \n",
    "                                    'situacao_especial': str, \n",
    "                                    'data_situacao_especial': str},\\\n",
    "                             usecols=['cnpj',\n",
    "                                      'identificador_matrizfilial',\n",
    "                                      'razao_social',\n",
    "                                      'nome_fantasia', \n",
    "                                      'situacao_cadastral',\n",
    "                                      'data_situacao_cadastral',\n",
    "                                      'motivo_situacao_cadastral', \n",
    "                                      'nome_cidade_exterior',\n",
    "                                      'codigo_natureza_juridica',\n",
    "                                      'data_inicio_atividade',\n",
    "                                      'cnae_fiscal',\n",
    "                                      'uf', \n",
    "                                      'municipio', \n",
    "                                      'qualificacao_do_responsavel', \n",
    "                                      'capital_social'\n",
    "                                    ],\\\n",
    "                            decimal=',') "
   ]
  },
  {
   "cell_type": "code",
   "execution_count": null,
   "metadata": {},
   "outputs": [],
   "source": []
  },
  {
   "cell_type": "code",
   "execution_count": 4,
   "metadata": {},
   "outputs": [
    {
     "name": "stdout",
     "output_type": "stream",
     "text": [
      "A extração começou às:  2019-06-22 12:56:56.451549\n",
      "A extração terminou às:  2019-06-22 13:00:42.786024\n"
     ]
    }
   ],
   "source": [
    "now = datetime.now()\n",
    "print(\"A extração começou às: \", now)\n",
    "\n",
    "# Estabelece contagem de vezes\n",
    "conta = 0\n",
    "\n",
    "# Iteração em cada chunk\n",
    "for df in TextFileReader:\n",
    "        \n",
    "    # Procura as informações de interesse\n",
    "    # Situacao cadastral 2 são empresas Ativas\n",
    "    identificador = df['cnae_fiscal'].isin(['2121101', \n",
    "                                  '4771701',\n",
    "                                  '2121103',\n",
    "                                  '4644301',\n",
    "                                  '2110600',\n",
    "                                  '2121102']) & (df['situacao_cadastral'] == '2')\n",
    "    nome = df[identificador]\n",
    "    \n",
    "    # Testa se encontrou algo\n",
    "    if nome.empty is False:\n",
    "        # Se for a primeira vez cria o dataframe df_procura1\n",
    "        if conta == 0:\n",
    "            df_procura1 = nome\n",
    "        # Se não for a primeira vez faz append no dataframe df_procura1\n",
    "        else:\n",
    "            df_procura1 = df_procura1.append(nome)\n",
    "    \n",
    "        conta = conta + 1\n",
    "    \n",
    "now = datetime.now()\n",
    "print(\"A extração terminou às: \", now)"
   ]
  },
  {
   "cell_type": "code",
   "execution_count": null,
   "metadata": {},
   "outputs": [],
   "source": []
  },
  {
   "cell_type": "code",
   "execution_count": 5,
   "metadata": {},
   "outputs": [
    {
     "data": {
      "text/html": [
       "<div>\n",
       "<style scoped>\n",
       "    .dataframe tbody tr th:only-of-type {\n",
       "        vertical-align: middle;\n",
       "    }\n",
       "\n",
       "    .dataframe tbody tr th {\n",
       "        vertical-align: top;\n",
       "    }\n",
       "\n",
       "    .dataframe thead th {\n",
       "        text-align: right;\n",
       "    }\n",
       "</style>\n",
       "<table border=\"1\" class=\"dataframe\">\n",
       "  <thead>\n",
       "    <tr style=\"text-align: right;\">\n",
       "      <th></th>\n",
       "      <th>cnpj</th>\n",
       "      <th>identificador_matrizfilial</th>\n",
       "      <th>razao_social</th>\n",
       "      <th>nome_fantasia</th>\n",
       "      <th>situacao_cadastral</th>\n",
       "      <th>data_situacao_cadastral</th>\n",
       "      <th>motivo_situacao_cadastral</th>\n",
       "      <th>nome_cidade_exterior</th>\n",
       "      <th>codigo_natureza_juridica</th>\n",
       "      <th>data_inicio_atividade</th>\n",
       "      <th>cnae_fiscal</th>\n",
       "      <th>uf</th>\n",
       "      <th>municipio</th>\n",
       "      <th>qualificacao_do_responsavel</th>\n",
       "      <th>capital_social</th>\n",
       "    </tr>\n",
       "  </thead>\n",
       "  <tbody>\n",
       "    <tr>\n",
       "      <th>9103</th>\n",
       "      <td>00001108000107</td>\n",
       "      <td>1</td>\n",
       "      <td>NOELI SEILA BOIAN</td>\n",
       "      <td>DROGARIA SAO JUDAS TADEU</td>\n",
       "      <td>2</td>\n",
       "      <td>2004-02-20</td>\n",
       "      <td>0</td>\n",
       "      <td>NaN</td>\n",
       "      <td>2135</td>\n",
       "      <td>1994-05-05</td>\n",
       "      <td>4771701</td>\n",
       "      <td>SP</td>\n",
       "      <td>GUARARAPES</td>\n",
       "      <td>50</td>\n",
       "      <td>0</td>\n",
       "    </tr>\n",
       "    <tr>\n",
       "      <th>10101</th>\n",
       "      <td>00002034000115</td>\n",
       "      <td>1</td>\n",
       "      <td>FABIO ZATTE</td>\n",
       "      <td>DROGARIA SAO LUCAS</td>\n",
       "      <td>2</td>\n",
       "      <td>2005-06-24</td>\n",
       "      <td>0</td>\n",
       "      <td>NaN</td>\n",
       "      <td>2135</td>\n",
       "      <td>1994-05-13</td>\n",
       "      <td>4771701</td>\n",
       "      <td>SP</td>\n",
       "      <td>TUPI PAULISTA</td>\n",
       "      <td>50</td>\n",
       "      <td>1000000</td>\n",
       "    </tr>\n",
       "    <tr>\n",
       "      <th>11007</th>\n",
       "      <td>00002903000101</td>\n",
       "      <td>1</td>\n",
       "      <td>DROGARIA SANTA RITA DE CANDIDO MOTA LTDA</td>\n",
       "      <td>NaN</td>\n",
       "      <td>2</td>\n",
       "      <td>2004-01-23</td>\n",
       "      <td>0</td>\n",
       "      <td>NaN</td>\n",
       "      <td>2062</td>\n",
       "      <td>1994-05-12</td>\n",
       "      <td>4771701</td>\n",
       "      <td>SP</td>\n",
       "      <td>CANDIDO MOTA</td>\n",
       "      <td>49</td>\n",
       "      <td>200000</td>\n",
       "    </tr>\n",
       "    <tr>\n",
       "      <th>11388</th>\n",
       "      <td>00003230000104</td>\n",
       "      <td>1</td>\n",
       "      <td>FOLTRAN &amp; NATALIO LTDA</td>\n",
       "      <td>FARMACIA BELA VISTA</td>\n",
       "      <td>2</td>\n",
       "      <td>2000-12-01</td>\n",
       "      <td>0</td>\n",
       "      <td>NaN</td>\n",
       "      <td>2062</td>\n",
       "      <td>1994-05-12</td>\n",
       "      <td>4771701</td>\n",
       "      <td>SP</td>\n",
       "      <td>PIRACICABA</td>\n",
       "      <td>49</td>\n",
       "      <td>0</td>\n",
       "    </tr>\n",
       "    <tr>\n",
       "      <th>13240</th>\n",
       "      <td>00005012000109</td>\n",
       "      <td>1</td>\n",
       "      <td>ANALICE SOARES LEITE DE ARAUJO</td>\n",
       "      <td>NaN</td>\n",
       "      <td>2</td>\n",
       "      <td>2006-10-13</td>\n",
       "      <td>0</td>\n",
       "      <td>NaN</td>\n",
       "      <td>2135</td>\n",
       "      <td>1994-05-16</td>\n",
       "      <td>4771701</td>\n",
       "      <td>SP</td>\n",
       "      <td>ANGATUBA</td>\n",
       "      <td>50</td>\n",
       "      <td>1000000</td>\n",
       "    </tr>\n",
       "  </tbody>\n",
       "</table>\n",
       "</div>"
      ],
      "text/plain": [
       "                 cnpj identificador_matrizfilial  \\\n",
       "9103   00001108000107                          1   \n",
       "10101  00002034000115                          1   \n",
       "11007  00002903000101                          1   \n",
       "11388  00003230000104                          1   \n",
       "13240  00005012000109                          1   \n",
       "\n",
       "                                   razao_social             nome_fantasia  \\\n",
       "9103                          NOELI SEILA BOIAN  DROGARIA SAO JUDAS TADEU   \n",
       "10101                               FABIO ZATTE        DROGARIA SAO LUCAS   \n",
       "11007  DROGARIA SANTA RITA DE CANDIDO MOTA LTDA                       NaN   \n",
       "11388                    FOLTRAN & NATALIO LTDA       FARMACIA BELA VISTA   \n",
       "13240            ANALICE SOARES LEITE DE ARAUJO                       NaN   \n",
       "\n",
       "      situacao_cadastral data_situacao_cadastral motivo_situacao_cadastral  \\\n",
       "9103                   2              2004-02-20                         0   \n",
       "10101                  2              2005-06-24                         0   \n",
       "11007                  2              2004-01-23                         0   \n",
       "11388                  2              2000-12-01                         0   \n",
       "13240                  2              2006-10-13                         0   \n",
       "\n",
       "      nome_cidade_exterior codigo_natureza_juridica data_inicio_atividade  \\\n",
       "9103                   NaN                     2135            1994-05-05   \n",
       "10101                  NaN                     2135            1994-05-13   \n",
       "11007                  NaN                     2062            1994-05-12   \n",
       "11388                  NaN                     2062            1994-05-12   \n",
       "13240                  NaN                     2135            1994-05-16   \n",
       "\n",
       "      cnae_fiscal  uf      municipio qualificacao_do_responsavel  \\\n",
       "9103      4771701  SP     GUARARAPES                          50   \n",
       "10101     4771701  SP  TUPI PAULISTA                          50   \n",
       "11007     4771701  SP   CANDIDO MOTA                          49   \n",
       "11388     4771701  SP     PIRACICABA                          49   \n",
       "13240     4771701  SP       ANGATUBA                          50   \n",
       "\n",
       "      capital_social  \n",
       "9103               0  \n",
       "10101        1000000  \n",
       "11007         200000  \n",
       "11388              0  \n",
       "13240        1000000  "
      ]
     },
     "execution_count": 5,
     "metadata": {},
     "output_type": "execute_result"
    }
   ],
   "source": [
    "df_procura1.head()"
   ]
  },
  {
   "cell_type": "code",
   "execution_count": 5,
   "metadata": {},
   "outputs": [
    {
     "name": "stdout",
     "output_type": "stream",
     "text": [
      "<class 'pandas.core.frame.DataFrame'>\n",
      "Int64Index: 118639 entries, 9103 to 40754222\n",
      "Data columns (total 15 columns):\n",
      "cnpj                           118639 non-null object\n",
      "identificador_matrizfilial     118639 non-null object\n",
      "razao_social                   118639 non-null object\n",
      "nome_fantasia                  89674 non-null object\n",
      "situacao_cadastral             118639 non-null object\n",
      "data_situacao_cadastral        118639 non-null object\n",
      "motivo_situacao_cadastral      118639 non-null object\n",
      "nome_cidade_exterior           42 non-null object\n",
      "codigo_natureza_juridica       118639 non-null object\n",
      "data_inicio_atividade          118639 non-null object\n",
      "cnae_fiscal                    118639 non-null object\n",
      "uf                             118639 non-null object\n",
      "municipio                      118639 non-null object\n",
      "qualificacao_do_responsavel    118639 non-null object\n",
      "capital_social                 118639 non-null object\n",
      "dtypes: object(15)\n",
      "memory usage: 14.5+ MB\n"
     ]
    }
   ],
   "source": [
    "df_procura1.info()"
   ]
  },
  {
   "cell_type": "code",
   "execution_count": 6,
   "metadata": {},
   "outputs": [],
   "source": [
    "# Salva o resultado"
   ]
  },
  {
   "cell_type": "code",
   "execution_count": 7,
   "metadata": {},
   "outputs": [],
   "source": [
    "df_procura1.to_csv('resultados/empresas_farm_cnae_principal.csv', index=False)"
   ]
  },
  {
   "cell_type": "code",
   "execution_count": null,
   "metadata": {},
   "outputs": [],
   "source": []
  },
  {
   "cell_type": "code",
   "execution_count": null,
   "metadata": {},
   "outputs": [],
   "source": []
  },
  {
   "cell_type": "markdown",
   "metadata": {},
   "source": [
    "3 - A Receita tem um arquivo também com os CNPJs divididos pelo CNAEs secundários. \n",
    "\n",
    "Às vezes as empresas cadastram suas atividades mais diretas no CNAE secundário. Não é o caso da indústria farmacêutica\n",
    "\n",
    "Aqui foi feito para fins de exemplo\n",
    "\n",
    "Foi escrita a mesma rotina para este arquivo"
   ]
  },
  {
   "cell_type": "code",
   "execution_count": 8,
   "metadata": {},
   "outputs": [],
   "source": [
    "TextFileReader = pd.read_csv('dados/cnae-secundaria.csv',\\\n",
    "                             chunksize=100000,\\\n",
    "                             sep=',',\\\n",
    "                             names=['cnpj',\n",
    "                                    'cnae_secundaria'\n",
    "                                    ],\\\n",
    "                             header=None,\\\n",
    "                             dtype={'cnpj': str,\n",
    "                                    'cnae_secundaria': str},\n",
    "                             usecols=['cnpj',\n",
    "                                      'cnae_secundaria']) "
   ]
  },
  {
   "cell_type": "code",
   "execution_count": null,
   "metadata": {},
   "outputs": [],
   "source": []
  },
  {
   "cell_type": "code",
   "execution_count": 9,
   "metadata": {},
   "outputs": [
    {
     "name": "stdout",
     "output_type": "stream",
     "text": [
      "A extração começou às:  2019-06-22 13:01:10.224689\n",
      "A extração terminou às:  2019-06-22 13:01:40.302683\n"
     ]
    }
   ],
   "source": [
    "now = datetime.now()\n",
    "print(\"A extração começou às: \", now)\n",
    "\n",
    "# Estabelece contagem de vezes\n",
    "conta = 0\n",
    "\n",
    "# Iteração em cada chunk\n",
    "for df in TextFileReader:\n",
    "        \n",
    "    # Procura as informações de interesse    \n",
    "    identificador = df['cnae_secundaria'].isin(['2121101', \n",
    "                                  '4771701',\n",
    "                                  '2121103',\n",
    "                                  '4644301',\n",
    "                                  '2110600',\n",
    "                                  '2121102'])\n",
    "    nome = df[identificador]\n",
    "    \n",
    "    # Testa se encontrou algo\n",
    "    if nome.empty is False:\n",
    "        # Se for a primeira vez cria o dataframe df_procura1\n",
    "        if conta == 0:\n",
    "            df_procura2 = nome\n",
    "        # Se não for a primeira vez faz append no dataframe df_procura1\n",
    "        else:\n",
    "            df_procura2 = df_procura2.append(nome)\n",
    "    \n",
    "        conta = conta + 1\n",
    "    \n",
    "now = datetime.now()\n",
    "print(\"A extração terminou às: \", now)"
   ]
  },
  {
   "cell_type": "code",
   "execution_count": 10,
   "metadata": {},
   "outputs": [
    {
     "name": "stdout",
     "output_type": "stream",
     "text": [
      "<class 'pandas.core.frame.DataFrame'>\n",
      "Int64Index: 45252 entries, 6758 to 49321774\n",
      "Data columns (total 2 columns):\n",
      "cnpj               45252 non-null object\n",
      "cnae_secundaria    45252 non-null object\n",
      "dtypes: object(2)\n",
      "memory usage: 1.0+ MB\n"
     ]
    }
   ],
   "source": [
    "df_procura2.info()"
   ]
  },
  {
   "cell_type": "code",
   "execution_count": 11,
   "metadata": {},
   "outputs": [],
   "source": [
    "df_procura2.to_csv('resultados/empresas_farm_cnae_secundaria.csv', index=False)"
   ]
  },
  {
   "cell_type": "code",
   "execution_count": null,
   "metadata": {},
   "outputs": [],
   "source": []
  },
  {
   "cell_type": "code",
   "execution_count": null,
   "metadata": {},
   "outputs": [],
   "source": []
  },
  {
   "cell_type": "markdown",
   "metadata": {},
   "source": [
    "O arquivo do CNAE principal precisa ser carregado apenas se o usuário encerrar a sessão\n",
    "\n",
    "Se continuar na mesma seção pode pular esta parte"
   ]
  },
  {
   "cell_type": "code",
   "execution_count": 18,
   "metadata": {},
   "outputs": [],
   "source": [
    "df_procura1 = pd.read_csv(\"resultados/empresas_farm_cnae_principal.csv\", converters={'cnpj': lambda x: str(x),\n",
    "                                                                              'cnae_fiscal': lambda x: str(x)},\\\n",
    "                  decimal=',')"
   ]
  },
  {
   "cell_type": "code",
   "execution_count": 19,
   "metadata": {},
   "outputs": [
    {
     "name": "stdout",
     "output_type": "stream",
     "text": [
      "<class 'pandas.core.frame.DataFrame'>\n",
      "RangeIndex: 118639 entries, 0 to 118638\n",
      "Data columns (total 15 columns):\n",
      "cnpj                           118639 non-null object\n",
      "identificador_matrizfilial     118639 non-null int64\n",
      "razao_social                   118639 non-null object\n",
      "nome_fantasia                  89674 non-null object\n",
      "situacao_cadastral             118639 non-null int64\n",
      "data_situacao_cadastral        118639 non-null object\n",
      "motivo_situacao_cadastral      118639 non-null int64\n",
      "nome_cidade_exterior           42 non-null object\n",
      "codigo_natureza_juridica       118639 non-null int64\n",
      "data_inicio_atividade          118639 non-null object\n",
      "cnae_fiscal                    118639 non-null object\n",
      "uf                             118639 non-null object\n",
      "municipio                      118639 non-null object\n",
      "qualificacao_do_responsavel    118639 non-null int64\n",
      "capital_social                 118639 non-null object\n",
      "dtypes: int64(5), object(10)\n",
      "memory usage: 13.6+ MB\n"
     ]
    }
   ],
   "source": [
    "df_procura1.info()"
   ]
  },
  {
   "cell_type": "code",
   "execution_count": 21,
   "metadata": {},
   "outputs": [
    {
     "data": {
      "text/html": [
       "<div>\n",
       "<style scoped>\n",
       "    .dataframe tbody tr th:only-of-type {\n",
       "        vertical-align: middle;\n",
       "    }\n",
       "\n",
       "    .dataframe tbody tr th {\n",
       "        vertical-align: top;\n",
       "    }\n",
       "\n",
       "    .dataframe thead th {\n",
       "        text-align: right;\n",
       "    }\n",
       "</style>\n",
       "<table border=\"1\" class=\"dataframe\">\n",
       "  <thead>\n",
       "    <tr style=\"text-align: right;\">\n",
       "      <th></th>\n",
       "      <th>index</th>\n",
       "      <th>cnpj</th>\n",
       "      <th>identificador_matrizfilial</th>\n",
       "      <th>razao_social</th>\n",
       "      <th>nome_fantasia</th>\n",
       "      <th>situacao_cadastral</th>\n",
       "      <th>data_situacao_cadastral</th>\n",
       "      <th>motivo_situacao_cadastral</th>\n",
       "      <th>nome_cidade_exterior</th>\n",
       "      <th>codigo_natureza_juridica</th>\n",
       "      <th>data_inicio_atividade</th>\n",
       "      <th>cnae_fiscal</th>\n",
       "      <th>uf</th>\n",
       "      <th>municipio</th>\n",
       "      <th>qualificacao_do_responsavel</th>\n",
       "      <th>capital_social</th>\n",
       "    </tr>\n",
       "  </thead>\n",
       "  <tbody>\n",
       "    <tr>\n",
       "      <th>0</th>\n",
       "      <td>0</td>\n",
       "      <td>00001108000107</td>\n",
       "      <td>1</td>\n",
       "      <td>NOELI SEILA BOIAN</td>\n",
       "      <td>DROGARIA SAO JUDAS TADEU</td>\n",
       "      <td>2</td>\n",
       "      <td>2004-02-20</td>\n",
       "      <td>0</td>\n",
       "      <td>NaN</td>\n",
       "      <td>2135</td>\n",
       "      <td>1994-05-05</td>\n",
       "      <td>4771701</td>\n",
       "      <td>SP</td>\n",
       "      <td>GUARARAPES</td>\n",
       "      <td>50</td>\n",
       "      <td>0.00</td>\n",
       "    </tr>\n",
       "    <tr>\n",
       "      <th>1</th>\n",
       "      <td>1</td>\n",
       "      <td>00002034000115</td>\n",
       "      <td>1</td>\n",
       "      <td>FABIO ZATTE</td>\n",
       "      <td>DROGARIA SAO LUCAS</td>\n",
       "      <td>2</td>\n",
       "      <td>2005-06-24</td>\n",
       "      <td>0</td>\n",
       "      <td>NaN</td>\n",
       "      <td>2135</td>\n",
       "      <td>1994-05-13</td>\n",
       "      <td>4771701</td>\n",
       "      <td>SP</td>\n",
       "      <td>TUPI PAULISTA</td>\n",
       "      <td>50</td>\n",
       "      <td>10000.00</td>\n",
       "    </tr>\n",
       "    <tr>\n",
       "      <th>2</th>\n",
       "      <td>2</td>\n",
       "      <td>00002903000101</td>\n",
       "      <td>1</td>\n",
       "      <td>DROGARIA SANTA RITA DE CANDIDO MOTA LTDA</td>\n",
       "      <td>NaN</td>\n",
       "      <td>2</td>\n",
       "      <td>2004-01-23</td>\n",
       "      <td>0</td>\n",
       "      <td>NaN</td>\n",
       "      <td>2062</td>\n",
       "      <td>1994-05-12</td>\n",
       "      <td>4771701</td>\n",
       "      <td>SP</td>\n",
       "      <td>CANDIDO MOTA</td>\n",
       "      <td>49</td>\n",
       "      <td>2000.00</td>\n",
       "    </tr>\n",
       "    <tr>\n",
       "      <th>3</th>\n",
       "      <td>3</td>\n",
       "      <td>00003230000104</td>\n",
       "      <td>1</td>\n",
       "      <td>FOLTRAN &amp; NATALIO LTDA</td>\n",
       "      <td>FARMACIA BELA VISTA</td>\n",
       "      <td>2</td>\n",
       "      <td>2000-12-01</td>\n",
       "      <td>0</td>\n",
       "      <td>NaN</td>\n",
       "      <td>2062</td>\n",
       "      <td>1994-05-12</td>\n",
       "      <td>4771701</td>\n",
       "      <td>SP</td>\n",
       "      <td>PIRACICABA</td>\n",
       "      <td>49</td>\n",
       "      <td>0.00</td>\n",
       "    </tr>\n",
       "    <tr>\n",
       "      <th>4</th>\n",
       "      <td>4</td>\n",
       "      <td>00005012000109</td>\n",
       "      <td>1</td>\n",
       "      <td>ANALICE SOARES LEITE DE ARAUJO</td>\n",
       "      <td>NaN</td>\n",
       "      <td>2</td>\n",
       "      <td>2006-10-13</td>\n",
       "      <td>0</td>\n",
       "      <td>NaN</td>\n",
       "      <td>2135</td>\n",
       "      <td>1994-05-16</td>\n",
       "      <td>4771701</td>\n",
       "      <td>SP</td>\n",
       "      <td>ANGATUBA</td>\n",
       "      <td>50</td>\n",
       "      <td>10000.00</td>\n",
       "    </tr>\n",
       "  </tbody>\n",
       "</table>\n",
       "</div>"
      ],
      "text/plain": [
       "   index            cnpj  identificador_matrizfilial  \\\n",
       "0      0  00001108000107                           1   \n",
       "1      1  00002034000115                           1   \n",
       "2      2  00002903000101                           1   \n",
       "3      3  00003230000104                           1   \n",
       "4      4  00005012000109                           1   \n",
       "\n",
       "                               razao_social             nome_fantasia  \\\n",
       "0                         NOELI SEILA BOIAN  DROGARIA SAO JUDAS TADEU   \n",
       "1                               FABIO ZATTE        DROGARIA SAO LUCAS   \n",
       "2  DROGARIA SANTA RITA DE CANDIDO MOTA LTDA                       NaN   \n",
       "3                    FOLTRAN & NATALIO LTDA       FARMACIA BELA VISTA   \n",
       "4            ANALICE SOARES LEITE DE ARAUJO                       NaN   \n",
       "\n",
       "   situacao_cadastral data_situacao_cadastral  motivo_situacao_cadastral  \\\n",
       "0                   2              2004-02-20                          0   \n",
       "1                   2              2005-06-24                          0   \n",
       "2                   2              2004-01-23                          0   \n",
       "3                   2              2000-12-01                          0   \n",
       "4                   2              2006-10-13                          0   \n",
       "\n",
       "  nome_cidade_exterior  codigo_natureza_juridica data_inicio_atividade  \\\n",
       "0                  NaN                      2135            1994-05-05   \n",
       "1                  NaN                      2135            1994-05-13   \n",
       "2                  NaN                      2062            1994-05-12   \n",
       "3                  NaN                      2062            1994-05-12   \n",
       "4                  NaN                      2135            1994-05-16   \n",
       "\n",
       "  cnae_fiscal  uf      municipio  qualificacao_do_responsavel capital_social  \n",
       "0     4771701  SP     GUARARAPES                           50           0.00  \n",
       "1     4771701  SP  TUPI PAULISTA                           50       10000.00  \n",
       "2     4771701  SP   CANDIDO MOTA                           49        2000.00  \n",
       "3     4771701  SP     PIRACICABA                           49           0.00  \n",
       "4     4771701  SP       ANGATUBA                           50       10000.00  "
      ]
     },
     "execution_count": 21,
     "metadata": {},
     "output_type": "execute_result"
    }
   ],
   "source": [
    "df_procura1.reset_index().head()"
   ]
  },
  {
   "cell_type": "code",
   "execution_count": null,
   "metadata": {},
   "outputs": [],
   "source": []
  },
  {
   "cell_type": "markdown",
   "metadata": {},
   "source": [
    "Diminue o número de colunas, só as que interessam"
   ]
  },
  {
   "cell_type": "code",
   "execution_count": 12,
   "metadata": {},
   "outputs": [],
   "source": [
    "farma_final = df_procura1.drop(['motivo_situacao_cadastral',\n",
    "                        ] , axis=1)"
   ]
  },
  {
   "cell_type": "code",
   "execution_count": 13,
   "metadata": {},
   "outputs": [
    {
     "name": "stdout",
     "output_type": "stream",
     "text": [
      "<class 'pandas.core.frame.DataFrame'>\n",
      "Int64Index: 118639 entries, 9103 to 40754222\n",
      "Data columns (total 14 columns):\n",
      "cnpj                           118639 non-null object\n",
      "identificador_matrizfilial     118639 non-null object\n",
      "razao_social                   118639 non-null object\n",
      "nome_fantasia                  89674 non-null object\n",
      "situacao_cadastral             118639 non-null object\n",
      "data_situacao_cadastral        118639 non-null object\n",
      "nome_cidade_exterior           42 non-null object\n",
      "codigo_natureza_juridica       118639 non-null object\n",
      "data_inicio_atividade          118639 non-null object\n",
      "cnae_fiscal                    118639 non-null object\n",
      "uf                             118639 non-null object\n",
      "municipio                      118639 non-null object\n",
      "qualificacao_do_responsavel    118639 non-null object\n",
      "capital_social                 118639 non-null object\n",
      "dtypes: object(14)\n",
      "memory usage: 13.6+ MB\n"
     ]
    }
   ],
   "source": [
    "farma_final.info()"
   ]
  },
  {
   "cell_type": "code",
   "execution_count": null,
   "metadata": {},
   "outputs": [],
   "source": []
  },
  {
   "cell_type": "markdown",
   "metadata": {},
   "source": [
    "4 - Agora é o momento de preencher o dataframe de empresas com os nomes e CPFs de sócios\n",
    "\n",
    "A Receita tem um outro arquivo apenas com esses dados\n",
    "\n",
    "Os dados de CPF são gravados neste formato: 3 asterisicos + seis números + dois asteriscos"
   ]
  },
  {
   "cell_type": "code",
   "execution_count": 14,
   "metadata": {},
   "outputs": [],
   "source": [
    "TextFileReader = pd.read_csv('dados/socio.csv',\\\n",
    "                             chunksize=100000,\\\n",
    "                             sep=',',\\\n",
    "                             names=['cnpj',\n",
    "                                    'identificador_de_socio',\n",
    "                                    'nome_socio',\n",
    "                                    'cnpj_cpf_do_socio',\n",
    "                                    'codigo_qualificacao_socio',\n",
    "                                    'percentual_capital_social',\n",
    "                                    'data_entrada_sociedade',\n",
    "                                    'cpf_representante_legal',\n",
    "                                    'nome_representante_legal',\n",
    "                                    'codigo_qualificacao_representante_legal'],\\\n",
    "                             header=None,\\\n",
    "                             dtype={'cnpj': str,\n",
    "                                    'identificador_de_socio': str,\n",
    "                                    'nome_socio': str,\n",
    "                                    'cnpj_cpf_do_socio': str,\n",
    "                                    'codigo_qualificacao_socio': str,\n",
    "                                    'percentual_capital_social': str,\n",
    "                                    'data_entrada_sociedade': str,\n",
    "                                    'cpf_representante_legal': str,\n",
    "                                    'nome_representante_legal': str,\n",
    "                                    'codigo_qualificacao_representante_legal': str\n",
    "},\\\n",
    "                             usecols=['cnpj',\n",
    "                                      'nome_socio',\n",
    "                                      'cnpj_cpf_do_socio',\n",
    "                                      'percentual_capital_social',\n",
    "                                      'codigo_qualificacao_socio',\n",
    "                                      'cpf_representante_legal',\n",
    "                                      'nome_representante_legal'],\n",
    "                             decimal=',')  "
   ]
  },
  {
   "cell_type": "code",
   "execution_count": null,
   "metadata": {},
   "outputs": [],
   "source": []
  },
  {
   "cell_type": "code",
   "execution_count": 15,
   "metadata": {},
   "outputs": [
    {
     "name": "stdout",
     "output_type": "stream",
     "text": [
      "A extração começou às:  2019-06-22 13:02:06.183891\n",
      "A extração terminou às:  2019-06-22 13:03:53.724043\n"
     ]
    }
   ],
   "source": [
    "now = datetime.now()\n",
    "print(\"A extração começou às: \", now)\n",
    "\n",
    "conta = 0\n",
    "for df in TextFileReader:\n",
    "\n",
    "    # Caso deseja-se pegar o CNPJ raiz poderia criar uma nova coluna\n",
    "    #df['cnpj_raiz'] = df.cnpj.str[:8]\n",
    "    \n",
    "    # Faz merge dos dataframes pelo número do CNPJ\n",
    "    # Se por algum motivo no dataframe original existirem CNPJ duplicados faz um drop\n",
    "    farm_encontrados = pd.merge(farma_final.drop_duplicates('cnpj'), df, left_on='cnpj', right_on='cnpj')\n",
    "    \n",
    "    if farm_encontrados.empty is False:\n",
    "        if conta == 0:\n",
    "            df_procura3 = farm_encontrados\n",
    "        else:\n",
    "            df_procura3 = df_procura3.append(farm_encontrados)\n",
    "    \n",
    "        conta = conta + 1\n",
    "        \n",
    "now = datetime.now()\n",
    "print(\"A extração terminou às: \", now)"
   ]
  },
  {
   "cell_type": "code",
   "execution_count": 16,
   "metadata": {},
   "outputs": [
    {
     "name": "stdout",
     "output_type": "stream",
     "text": [
      "<class 'pandas.core.frame.DataFrame'>\n",
      "Int64Index: 201085 entries, 0 to 479\n",
      "Data columns (total 20 columns):\n",
      "cnpj                           201085 non-null object\n",
      "identificador_matrizfilial     201085 non-null object\n",
      "razao_social                   201085 non-null object\n",
      "nome_fantasia                  141779 non-null object\n",
      "situacao_cadastral             201085 non-null object\n",
      "data_situacao_cadastral        201085 non-null object\n",
      "nome_cidade_exterior           11 non-null object\n",
      "codigo_natureza_juridica       201085 non-null object\n",
      "data_inicio_atividade          201085 non-null object\n",
      "cnae_fiscal                    201085 non-null object\n",
      "uf                             201085 non-null object\n",
      "municipio                      201085 non-null object\n",
      "qualificacao_do_responsavel    201085 non-null object\n",
      "capital_social                 201085 non-null object\n",
      "nome_socio                     201085 non-null object\n",
      "cnpj_cpf_do_socio              201085 non-null object\n",
      "codigo_qualificacao_socio      201085 non-null object\n",
      "percentual_capital_social      201085 non-null object\n",
      "cpf_representante_legal        10130 non-null object\n",
      "nome_representante_legal       1614 non-null object\n",
      "dtypes: object(20)\n",
      "memory usage: 32.2+ MB\n"
     ]
    }
   ],
   "source": [
    "df_procura3.info()"
   ]
  },
  {
   "cell_type": "code",
   "execution_count": 17,
   "metadata": {},
   "outputs": [],
   "source": [
    "df_procura3.to_csv('resultados/empresas_farm_com_socios.csv', index=False)"
   ]
  },
  {
   "cell_type": "code",
   "execution_count": null,
   "metadata": {},
   "outputs": [],
   "source": []
  },
  {
   "cell_type": "markdown",
   "metadata": {},
   "source": [
    "### Atenção: os campos capital_social_da_empresa e percentual_capital_social a Receita ainda fornece no arquivo com erros de formatação. É necessários checar eles no site antes de usar - http://www.receita.fazenda.gov.br/PessoaJuridica/CNPJ/cnpjreva/Cnpjreva_Solicitacao.asp"
   ]
  },
  {
   "cell_type": "code",
   "execution_count": null,
   "metadata": {},
   "outputs": [],
   "source": []
  }
 ],
 "metadata": {
  "kernelspec": {
   "display_name": "Python 3",
   "language": "python",
   "name": "python3"
  },
  "language_info": {
   "codemirror_mode": {
    "name": "ipython",
    "version": 3
   },
   "file_extension": ".py",
   "mimetype": "text/x-python",
   "name": "python",
   "nbconvert_exporter": "python",
   "pygments_lexer": "ipython3",
   "version": "3.6.8"
  }
 },
 "nbformat": 4,
 "nbformat_minor": 2
}
