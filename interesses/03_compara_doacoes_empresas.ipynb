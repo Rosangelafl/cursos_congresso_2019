{
 "cells": [
  {
   "cell_type": "code",
   "execution_count": 1,
   "metadata": {},
   "outputs": [],
   "source": [
    "# -*- coding: utf-8\n",
    "# Abraji (https://www.abraji.org.br)\n",
    "# Reinaldo Chaves (reinaldo@abraji.org.br)\n",
    "# Programa 03 do curso Como usar Python para descobrir uma rede de interesses\n",
    "#"
   ]
  },
  {
   "cell_type": "code",
   "execution_count": null,
   "metadata": {},
   "outputs": [],
   "source": []
  },
  {
   "cell_type": "code",
   "execution_count": 2,
   "metadata": {},
   "outputs": [],
   "source": [
    "import pandas as pd\n",
    "import numpy as np"
   ]
  },
  {
   "cell_type": "code",
   "execution_count": null,
   "metadata": {},
   "outputs": [],
   "source": []
  },
  {
   "cell_type": "markdown",
   "metadata": {},
   "source": [
    "# Verifica se as indústrias farmacêuticas foram doadoras de campanha em 2010, 2014 e 2018"
   ]
  },
  {
   "cell_type": "markdown",
   "metadata": {},
   "source": [
    "# Aponta quais beneficiários foram eleitos em 2018"
   ]
  },
  {
   "cell_type": "code",
   "execution_count": null,
   "metadata": {},
   "outputs": [],
   "source": []
  },
  {
   "cell_type": "markdown",
   "metadata": {},
   "source": [
    "Formato de valores com decimais no float"
   ]
  },
  {
   "cell_type": "code",
   "execution_count": 3,
   "metadata": {},
   "outputs": [],
   "source": [
    "pd.options.display.float_format = '{:,.2f}'.format"
   ]
  },
  {
   "cell_type": "code",
   "execution_count": null,
   "metadata": {},
   "outputs": [],
   "source": []
  },
  {
   "cell_type": "markdown",
   "metadata": {},
   "source": [
    "Acessa empresas farmacêuticas"
   ]
  },
  {
   "cell_type": "code",
   "execution_count": 4,
   "metadata": {},
   "outputs": [],
   "source": [
    "farma = pd.read_csv('resultados/empresas_farm_cnae_principal.csv',\\\n",
    "                           sep=',',\\\n",
    "                           encoding = 'utf_8',\\\n",
    "                           converters={'cnpj': lambda x: str(x),\n",
    "                                       'cnae_fiscal': lambda x: str(x)},\\\n",
    "                           decimal=',')"
   ]
  },
  {
   "cell_type": "code",
   "execution_count": 5,
   "metadata": {},
   "outputs": [],
   "source": [
    "# Cria coluna com CNPJ raiz "
   ]
  },
  {
   "cell_type": "code",
   "execution_count": 6,
   "metadata": {},
   "outputs": [],
   "source": [
    "farma['cnpj_raiz'] = farma.cnpj.str[:8]"
   ]
  },
  {
   "cell_type": "code",
   "execution_count": 7,
   "metadata": {},
   "outputs": [
    {
     "name": "stdout",
     "output_type": "stream",
     "text": [
      "<class 'pandas.core.frame.DataFrame'>\n",
      "RangeIndex: 118639 entries, 0 to 118638\n",
      "Data columns (total 16 columns):\n",
      "cnpj                           118639 non-null object\n",
      "identificador_matrizfilial     118639 non-null int64\n",
      "razao_social                   118639 non-null object\n",
      "nome_fantasia                  89674 non-null object\n",
      "situacao_cadastral             118639 non-null int64\n",
      "data_situacao_cadastral        118639 non-null object\n",
      "motivo_situacao_cadastral      118639 non-null int64\n",
      "nome_cidade_exterior           42 non-null object\n",
      "codigo_natureza_juridica       118639 non-null int64\n",
      "data_inicio_atividade          118639 non-null object\n",
      "cnae_fiscal                    118639 non-null object\n",
      "uf                             118639 non-null object\n",
      "municipio                      118639 non-null object\n",
      "qualificacao_do_responsavel    118639 non-null int64\n",
      "capital_social                 118639 non-null int64\n",
      "cnpj_raiz                      118639 non-null object\n",
      "dtypes: int64(6), object(10)\n",
      "memory usage: 14.5+ MB\n"
     ]
    }
   ],
   "source": [
    "farma.info()"
   ]
  },
  {
   "cell_type": "code",
   "execution_count": null,
   "metadata": {},
   "outputs": [],
   "source": []
  },
  {
   "cell_type": "markdown",
   "metadata": {},
   "source": [
    "Acessa resultado de eleicoes 2018"
   ]
  },
  {
   "cell_type": "code",
   "execution_count": 8,
   "metadata": {},
   "outputs": [],
   "source": [
    "candidatos = pd.read_csv('resultados/candidatos_2018.csv',\\\n",
    "                         sep=',',\\\n",
    "                         encoding = 'utf-8',\\\n",
    "                         converters={'SQ_CANDIDATO': lambda x: str(x),\n",
    "                                     'NR_CPF_CANDIDATO': lambda x: str(x),\n",
    "                                     'NR_TITULO_ELEITORAL_CANDIDATO': lambda x: str(x),\n",
    "                                    })"
   ]
  },
  {
   "cell_type": "code",
   "execution_count": 9,
   "metadata": {},
   "outputs": [
    {
     "name": "stdout",
     "output_type": "stream",
     "text": [
      "<class 'pandas.core.frame.DataFrame'>\n",
      "RangeIndex: 29145 entries, 0 to 29144\n",
      "Data columns (total 14 columns):\n",
      "SG_UF                            29145 non-null object\n",
      "DS_CARGO                         29145 non-null object\n",
      "SQ_CANDIDATO                     29145 non-null object\n",
      "NR_CANDIDATO                     29145 non-null int64\n",
      "NM_CANDIDATO                     29145 non-null object\n",
      "NM_URNA_CANDIDATO                29145 non-null object\n",
      "NM_SOCIAL_CANDIDATO              29145 non-null object\n",
      "NR_CPF_CANDIDATO                 29145 non-null object\n",
      "DS_SITUACAO_CANDIDATURA          29145 non-null object\n",
      "SG_PARTIDO                       29145 non-null object\n",
      "DT_NASCIMENTO                    29145 non-null object\n",
      "NR_TITULO_ELEITORAL_CANDIDATO    29145 non-null object\n",
      "DS_GENERO                        29145 non-null object\n",
      "DS_SIT_TOT_TURNO                 29145 non-null object\n",
      "dtypes: int64(1), object(13)\n",
      "memory usage: 3.1+ MB\n"
     ]
    }
   ],
   "source": [
    "candidatos.info()"
   ]
  },
  {
   "cell_type": "code",
   "execution_count": null,
   "metadata": {},
   "outputs": [],
   "source": []
  },
  {
   "cell_type": "code",
   "execution_count": 10,
   "metadata": {},
   "outputs": [
    {
     "data": {
      "text/html": [
       "<div>\n",
       "<style scoped>\n",
       "    .dataframe tbody tr th:only-of-type {\n",
       "        vertical-align: middle;\n",
       "    }\n",
       "\n",
       "    .dataframe tbody tr th {\n",
       "        vertical-align: top;\n",
       "    }\n",
       "\n",
       "    .dataframe thead th {\n",
       "        text-align: right;\n",
       "    }\n",
       "</style>\n",
       "<table border=\"1\" class=\"dataframe\">\n",
       "  <thead>\n",
       "    <tr style=\"text-align: right;\">\n",
       "      <th></th>\n",
       "      <th>DS_SIT_TOT_TURNO</th>\n",
       "      <th>NR_CPF_CANDIDATO</th>\n",
       "    </tr>\n",
       "  </thead>\n",
       "  <tbody>\n",
       "    <tr>\n",
       "      <th>0</th>\n",
       "      <td>#NULO#</td>\n",
       "      <td>1702</td>\n",
       "    </tr>\n",
       "    <tr>\n",
       "      <th>1</th>\n",
       "      <td>2º TURNO</td>\n",
       "      <td>60</td>\n",
       "    </tr>\n",
       "    <tr>\n",
       "      <th>2</th>\n",
       "      <td>ELEITO</td>\n",
       "      <td>218</td>\n",
       "    </tr>\n",
       "    <tr>\n",
       "      <th>3</th>\n",
       "      <td>ELEITO POR MÉDIA</td>\n",
       "      <td>298</td>\n",
       "    </tr>\n",
       "    <tr>\n",
       "      <th>4</th>\n",
       "      <td>ELEITO POR QP</td>\n",
       "      <td>1274</td>\n",
       "    </tr>\n",
       "    <tr>\n",
       "      <th>5</th>\n",
       "      <td>NÃO ELEITO</td>\n",
       "      <td>6930</td>\n",
       "    </tr>\n",
       "    <tr>\n",
       "      <th>6</th>\n",
       "      <td>SUPLENTE</td>\n",
       "      <td>18663</td>\n",
       "    </tr>\n",
       "  </tbody>\n",
       "</table>\n",
       "</div>"
      ],
      "text/plain": [
       "   DS_SIT_TOT_TURNO  NR_CPF_CANDIDATO\n",
       "0            #NULO#              1702\n",
       "1          2º TURNO                60\n",
       "2            ELEITO               218\n",
       "3  ELEITO POR MÉDIA               298\n",
       "4     ELEITO POR QP              1274\n",
       "5        NÃO ELEITO              6930\n",
       "6          SUPLENTE             18663"
      ]
     },
     "execution_count": 10,
     "metadata": {},
     "output_type": "execute_result"
    }
   ],
   "source": [
    "candidatos.groupby(\"DS_SIT_TOT_TURNO\").NR_CPF_CANDIDATO.count().reset_index()"
   ]
  },
  {
   "cell_type": "code",
   "execution_count": null,
   "metadata": {},
   "outputs": [],
   "source": []
  },
  {
   "cell_type": "code",
   "execution_count": 11,
   "metadata": {},
   "outputs": [],
   "source": [
    "# Filtra apenas os eleitos"
   ]
  },
  {
   "cell_type": "code",
   "execution_count": 12,
   "metadata": {},
   "outputs": [],
   "source": [
    "identificador = candidatos['DS_SIT_TOT_TURNO'].isin(['ELEITO', \n",
    "                                                     'ELEITO POR MÉDIA',\n",
    "                                                     'ELEITO POR QP']) \n",
    "\n",
    "eleitos = candidatos[identificador]"
   ]
  },
  {
   "cell_type": "code",
   "execution_count": 13,
   "metadata": {},
   "outputs": [
    {
     "name": "stdout",
     "output_type": "stream",
     "text": [
      "<class 'pandas.core.frame.DataFrame'>\n",
      "Int64Index: 1790 entries, 22 to 29124\n",
      "Data columns (total 14 columns):\n",
      "SG_UF                            1790 non-null object\n",
      "DS_CARGO                         1790 non-null object\n",
      "SQ_CANDIDATO                     1790 non-null object\n",
      "NR_CANDIDATO                     1790 non-null int64\n",
      "NM_CANDIDATO                     1790 non-null object\n",
      "NM_URNA_CANDIDATO                1790 non-null object\n",
      "NM_SOCIAL_CANDIDATO              1790 non-null object\n",
      "NR_CPF_CANDIDATO                 1790 non-null object\n",
      "DS_SITUACAO_CANDIDATURA          1790 non-null object\n",
      "SG_PARTIDO                       1790 non-null object\n",
      "DT_NASCIMENTO                    1790 non-null object\n",
      "NR_TITULO_ELEITORAL_CANDIDATO    1790 non-null object\n",
      "DS_GENERO                        1790 non-null object\n",
      "DS_SIT_TOT_TURNO                 1790 non-null object\n",
      "dtypes: int64(1), object(13)\n",
      "memory usage: 209.8+ KB\n"
     ]
    }
   ],
   "source": [
    "eleitos.info()"
   ]
  },
  {
   "cell_type": "code",
   "execution_count": null,
   "metadata": {},
   "outputs": [],
   "source": []
  },
  {
   "cell_type": "markdown",
   "metadata": {},
   "source": [
    "Carrega doacoes"
   ]
  },
  {
   "cell_type": "markdown",
   "metadata": {},
   "source": [
    "2010"
   ]
  },
  {
   "cell_type": "code",
   "execution_count": 14,
   "metadata": {},
   "outputs": [],
   "source": [
    "doacoes_2010 = pd.read_csv('resultados/doacoes_2010.csv',\\\n",
    "                           sep=',',\\\n",
    "                           encoding = 'utf_8',\\\n",
    "                           converters={'cpf_candidato': lambda x: str(x),\n",
    "                                       'sequencial': lambda x: str(x),\n",
    "                                       'cpf_cnpj_doador': lambda x: str(x)},\n",
    "                           decimal=',')"
   ]
  },
  {
   "cell_type": "code",
   "execution_count": 15,
   "metadata": {},
   "outputs": [],
   "source": [
    "# Cria campo CNPJ raiz e que mostra quando é doação vinda PF"
   ]
  },
  {
   "cell_type": "code",
   "execution_count": 16,
   "metadata": {},
   "outputs": [],
   "source": [
    "def limpeza(linha):\n",
    "    documento = str(linha[\"cpf_cnpj_doador\"])\n",
    "    if len(documento) > 11:\n",
    "        return documento[:8]\n",
    "    else:\n",
    "        return \"documento_cpf\"\n",
    "\n",
    "doacoes_2010['cnpj_raiz'] = doacoes_2010.apply(limpeza, axis=1)"
   ]
  },
  {
   "cell_type": "code",
   "execution_count": 17,
   "metadata": {},
   "outputs": [
    {
     "name": "stdout",
     "output_type": "stream",
     "text": [
      "<class 'pandas.core.frame.DataFrame'>\n",
      "RangeIndex: 427017 entries, 0 to 427016\n",
      "Data columns (total 20 columns):\n",
      "data_hora            427017 non-null object\n",
      "sequencial           427017 non-null object\n",
      "uf                   427017 non-null object\n",
      "partido_eleicao      427017 non-null object\n",
      "numero_candidato     427017 non-null int64\n",
      "cargo                427017 non-null object\n",
      "nome_candidato       427017 non-null object\n",
      "cpf_candidato        427017 non-null object\n",
      "entrega_conjunto     427017 non-null object\n",
      "recibo_eleitoral     426186 non-null float64\n",
      "numero_documento     167807 non-null object\n",
      "cpf_cnpj_doador      427017 non-null object\n",
      "nome_doador          426636 non-null object\n",
      "data_receita         427017 non-null object\n",
      "valor_receita        427017 non-null float64\n",
      "tipo_receita         427017 non-null object\n",
      "fonte_recurso        427017 non-null object\n",
      "especie_recurso      427017 non-null object\n",
      "descricao_receita    427017 non-null object\n",
      "cnpj_raiz            427017 non-null object\n",
      "dtypes: float64(2), int64(1), object(17)\n",
      "memory usage: 65.2+ MB\n"
     ]
    }
   ],
   "source": [
    "doacoes_2010.info()"
   ]
  },
  {
   "cell_type": "code",
   "execution_count": null,
   "metadata": {},
   "outputs": [],
   "source": []
  },
  {
   "cell_type": "markdown",
   "metadata": {},
   "source": [
    "2014"
   ]
  },
  {
   "cell_type": "code",
   "execution_count": 18,
   "metadata": {},
   "outputs": [],
   "source": [
    "doacoes_2014 = pd.read_csv('resultados/doacoes_2014.csv',\\\n",
    "                           sep=',',\\\n",
    "                           encoding = 'utf_8',\\\n",
    "                           converters={'sequencial': lambda x: str(x),\n",
    "                                       'cpf_candidato': lambda x: str(x),\n",
    "                                       'cpf_cnpj_doador': lambda x: str(x),\n",
    "                                       'cpf_cnpj_doador_originario': lambda x: str(x)},\\\n",
    "                           decimal=',')"
   ]
  },
  {
   "cell_type": "code",
   "execution_count": 19,
   "metadata": {},
   "outputs": [],
   "source": [
    "# Cria campo CNPJ raiz e que mostra quando é doação vinda PF\n",
    "# Também nos doadores originários"
   ]
  },
  {
   "cell_type": "code",
   "execution_count": 20,
   "metadata": {},
   "outputs": [],
   "source": [
    "def limpeza1(linha):\n",
    "    documento = str(linha[\"cpf_cnpj_doador\"])\n",
    "    if len(documento) > 11:\n",
    "        return documento[:8]\n",
    "    else:\n",
    "        return \"documento_cpf\"\n",
    "\n",
    "def limpeza2(linha):\n",
    "    documento = str(linha[\"cpf_cnpj_doador_originario\"])\n",
    "    if len(documento) > 11:\n",
    "        return documento[:8]\n",
    "    else:\n",
    "        return \"documento_cpf\"\n",
    "\n",
    "doacoes_2014['cnpj_raiz'] = doacoes_2014.apply(limpeza1, axis=1)\n",
    "doacoes_2014['cnpj_raiz_originario'] = doacoes_2014.apply(limpeza2, axis=1)"
   ]
  },
  {
   "cell_type": "code",
   "execution_count": 21,
   "metadata": {},
   "outputs": [
    {
     "name": "stdout",
     "output_type": "stream",
     "text": [
      "<class 'pandas.core.frame.DataFrame'>\n",
      "RangeIndex: 427489 entries, 0 to 427488\n",
      "Data columns (total 34 columns):\n",
      "cod_eleicao                          427489 non-null int64\n",
      "desc_eleicao                         427489 non-null object\n",
      "data_hora                            427489 non-null object\n",
      "cnpj_prestador_conta                 427489 non-null int64\n",
      "sequencial                           427489 non-null object\n",
      "uf                                   427489 non-null object\n",
      "partido_eleicao                      427489 non-null object\n",
      "numero_candidato                     427489 non-null int64\n",
      "cargo                                427489 non-null object\n",
      "nome_candidato                       427489 non-null object\n",
      "cpf_candidato                        427489 non-null object\n",
      "recibo_eleitoral                     427489 non-null object\n",
      "numero_documento                     427472 non-null object\n",
      "cpf_cnpj_doador                      427489 non-null object\n",
      "nome_doador                          427489 non-null object\n",
      "nome_doador_receita                  427489 non-null object\n",
      "ue_doador                            427489 non-null object\n",
      "numero_partido_doador                427489 non-null object\n",
      "numero_candidato_doador              427489 non-null int64\n",
      "cod_setor_economico_doador           427489 non-null object\n",
      "setor_economico_doador               427489 non-null object\n",
      "data_receita                         427489 non-null object\n",
      "valor_receita                        427489 non-null float64\n",
      "tipo_receita                         427489 non-null object\n",
      "fonte_recurso                        427489 non-null object\n",
      "especie_recurso                      427489 non-null object\n",
      "descricao_receita                    427489 non-null object\n",
      "cpf_cnpj_doador_originario           427489 non-null object\n",
      "nome_doador_originario               427489 non-null object\n",
      "tipo_doador_originario               427489 non-null object\n",
      "setor_economico_doador_originario    427489 non-null object\n",
      "nome_doador_originario_receita       427489 non-null object\n",
      "cnpj_raiz                            427489 non-null object\n",
      "cnpj_raiz_originario                 427489 non-null object\n",
      "dtypes: float64(1), int64(4), object(29)\n",
      "memory usage: 110.9+ MB\n"
     ]
    }
   ],
   "source": [
    "doacoes_2014.info()"
   ]
  },
  {
   "cell_type": "code",
   "execution_count": null,
   "metadata": {},
   "outputs": [],
   "source": []
  },
  {
   "cell_type": "markdown",
   "metadata": {},
   "source": [
    "2018"
   ]
  },
  {
   "cell_type": "code",
   "execution_count": 22,
   "metadata": {},
   "outputs": [],
   "source": [
    "doacoes_2018 = pd.read_csv('resultados/doacoes_2018.csv',\\\n",
    "                           sep=',',\\\n",
    "                           encoding = 'utf_8',\\\n",
    "                           converters={'SQ_CANDIDATO': lambda x: str(x),\n",
    "                                       'NR_CPF_CANDIDATO': lambda x: str(x), \n",
    "                                       'NR_CPF_CNPJ_DOADOR': lambda x: str(x)},\\\n",
    "                           decimal=',')"
   ]
  },
  {
   "cell_type": "code",
   "execution_count": 23,
   "metadata": {},
   "outputs": [],
   "source": [
    "# Cria campo CNPJ raiz e que mostra quando é doação vinda PF"
   ]
  },
  {
   "cell_type": "code",
   "execution_count": 24,
   "metadata": {},
   "outputs": [],
   "source": [
    "def limpeza(linha):\n",
    "    documento = str(linha[\"NR_CPF_CNPJ_DOADOR\"])\n",
    "    if len(documento) > 11:\n",
    "        return documento[:8]\n",
    "    else:\n",
    "        return \"documento_cpf\"\n",
    "\n",
    "doacoes_2018['cnpj_raiz'] = doacoes_2018.apply(limpeza, axis=1)"
   ]
  },
  {
   "cell_type": "code",
   "execution_count": 25,
   "metadata": {},
   "outputs": [
    {
     "name": "stdout",
     "output_type": "stream",
     "text": [
      "<class 'pandas.core.frame.DataFrame'>\n",
      "RangeIndex: 321140 entries, 0 to 321139\n",
      "Data columns (total 21 columns):\n",
      "SG_UF                          321140 non-null object\n",
      "DS_CARGO                       321140 non-null object\n",
      "SQ_CANDIDATO                   321140 non-null object\n",
      "NR_CANDIDATO                   321140 non-null int64\n",
      "NM_CANDIDATO                   321140 non-null object\n",
      "NR_CPF_CANDIDATO               321140 non-null object\n",
      "NR_CPF_VICE_CANDIDATO          321140 non-null int64\n",
      "SG_PARTIDO                     321140 non-null object\n",
      "CD_CNAE_DOADOR                 321140 non-null int64\n",
      "DS_CNAE_DOADOR                 321140 non-null object\n",
      "NR_CPF_CNPJ_DOADOR             321140 non-null object\n",
      "NM_DOADOR                      321140 non-null object\n",
      "NM_DOADOR_RFB                  321140 non-null object\n",
      "DS_ESFERA_PARTIDARIA_DOADOR    321140 non-null object\n",
      "SQ_CANDIDATO_DOADOR            321140 non-null int64\n",
      "CD_CARGO_CANDIDATO_DOADOR      321140 non-null int64\n",
      "DS_CARGO_CANDIDATO_DOADOR      321140 non-null object\n",
      "DT_RECEITA                     321140 non-null object\n",
      "DS_RECEITA                     321140 non-null object\n",
      "VR_RECEITA                     321140 non-null float64\n",
      "cnpj_raiz                      321140 non-null object\n",
      "dtypes: float64(1), int64(5), object(15)\n",
      "memory usage: 51.5+ MB\n"
     ]
    }
   ],
   "source": [
    "doacoes_2018.info()"
   ]
  },
  {
   "cell_type": "code",
   "execution_count": null,
   "metadata": {},
   "outputs": [],
   "source": []
  },
  {
   "cell_type": "markdown",
   "metadata": {},
   "source": [
    "# Cruzamento 1 - de CNPJs - empresas e doacoes diretas "
   ]
  },
  {
   "cell_type": "code",
   "execution_count": null,
   "metadata": {},
   "outputs": [],
   "source": []
  },
  {
   "cell_type": "code",
   "execution_count": 26,
   "metadata": {},
   "outputs": [],
   "source": [
    "# Em doacoes eleitorais o mesmo doador pode doar várias, por isso o CPF ou CNPJ pode se repetir\n",
    "\n",
    "# No caso uso o drop_duplicates no CNPJ raiz das empresas porque são os primeiros 8 dígitos que caracterizam um mesmo grupo\n",
    "\n",
    "# Por precaução uso o drop_duplicates nos eleitos, caso o TSE tenha duplicado candidatos - isso já aconteceu"
   ]
  },
  {
   "cell_type": "code",
   "execution_count": null,
   "metadata": {},
   "outputs": [],
   "source": []
  },
  {
   "cell_type": "markdown",
   "metadata": {},
   "source": [
    "2010"
   ]
  },
  {
   "cell_type": "code",
   "execution_count": 27,
   "metadata": {},
   "outputs": [],
   "source": [
    "farma_doadores_diretos_2010 = pd.merge(doacoes_2010, farma.drop_duplicates('cnpj_raiz'), left_on='cnpj_raiz', right_on='cnpj_raiz')"
   ]
  },
  {
   "cell_type": "code",
   "execution_count": 28,
   "metadata": {},
   "outputs": [
    {
     "name": "stdout",
     "output_type": "stream",
     "text": [
      "O dataframe contém 704 linhas\n"
     ]
    }
   ],
   "source": [
    "print('O dataframe contém ' + str(farma_doadores_diretos_2010.shape[0]) + ' linhas')"
   ]
  },
  {
   "cell_type": "code",
   "execution_count": 29,
   "metadata": {},
   "outputs": [],
   "source": [
    "# Uso o how left para manter as linhas quando os políticos não tiverem sido eleitos em 2018 \n",
    "\n",
    "# As colunas ficam em branco que vem do dataframe eleitos neste caso"
   ]
  },
  {
   "cell_type": "code",
   "execution_count": 30,
   "metadata": {},
   "outputs": [],
   "source": [
    "farma_doadores_diretos_2010 = pd.merge(farma_doadores_diretos_2010, \\\n",
    "                                       eleitos.drop_duplicates('NR_CPF_CANDIDATO'), \\\n",
    "                                       left_on='cpf_candidato', \\\n",
    "                                       right_on='NR_CPF_CANDIDATO',\\\n",
    "                                       how='left')"
   ]
  },
  {
   "cell_type": "code",
   "execution_count": 31,
   "metadata": {},
   "outputs": [],
   "source": [
    "farma_doadores_diretos_2010.to_excel('resultados/compara/doacoes_diretas_empreas_2010.xlsx',sheet_name='Sheet1')"
   ]
  },
  {
   "cell_type": "code",
   "execution_count": null,
   "metadata": {},
   "outputs": [],
   "source": []
  },
  {
   "cell_type": "markdown",
   "metadata": {},
   "source": [
    "Maiores doadores"
   ]
  },
  {
   "cell_type": "code",
   "execution_count": 32,
   "metadata": {},
   "outputs": [
    {
     "data": {
      "text/html": [
       "<div>\n",
       "<style scoped>\n",
       "    .dataframe tbody tr th:only-of-type {\n",
       "        vertical-align: middle;\n",
       "    }\n",
       "\n",
       "    .dataframe tbody tr th {\n",
       "        vertical-align: top;\n",
       "    }\n",
       "\n",
       "    .dataframe thead th {\n",
       "        text-align: right;\n",
       "    }\n",
       "</style>\n",
       "<table border=\"1\" class=\"dataframe\">\n",
       "  <thead>\n",
       "    <tr style=\"text-align: right;\">\n",
       "      <th></th>\n",
       "      <th>nome_doador</th>\n",
       "      <th>valor_receita</th>\n",
       "    </tr>\n",
       "  </thead>\n",
       "  <tbody>\n",
       "    <tr>\n",
       "      <th>212</th>\n",
       "      <td>HYPERMARCAS S/A</td>\n",
       "      <td>2,500,000.00</td>\n",
       "    </tr>\n",
       "    <tr>\n",
       "      <th>21</th>\n",
       "      <td>BIOLAB SANUS FARMACEUTICA LTDA</td>\n",
       "      <td>1,609,000.00</td>\n",
       "    </tr>\n",
       "    <tr>\n",
       "      <th>51</th>\n",
       "      <td>COMPANHIA BRASILEIRA DE DISTRIBUIÇÃO</td>\n",
       "      <td>845,000.00</td>\n",
       "    </tr>\n",
       "    <tr>\n",
       "      <th>42</th>\n",
       "      <td>CIA BRASILEIRA DE DISTRIBUIÇÃO</td>\n",
       "      <td>750,000.00</td>\n",
       "    </tr>\n",
       "    <tr>\n",
       "      <th>324</th>\n",
       "      <td>STOCK COMERCIAL HOSPITALAR LTDA</td>\n",
       "      <td>728,730.00</td>\n",
       "    </tr>\n",
       "    <tr>\n",
       "      <th>243</th>\n",
       "      <td>LIBBS FARMACEUTICA LTDA</td>\n",
       "      <td>521,000.00</td>\n",
       "    </tr>\n",
       "    <tr>\n",
       "      <th>145</th>\n",
       "      <td>EXPRESSA DISTRIBUIDORA DE MEDICAMENTOS LTDA</td>\n",
       "      <td>500,000.00</td>\n",
       "    </tr>\n",
       "    <tr>\n",
       "      <th>57</th>\n",
       "      <td>CRISTALIA PRODUTOS QUIMICOS FARMACEUTICOS LTDA</td>\n",
       "      <td>425,000.00</td>\n",
       "    </tr>\n",
       "    <tr>\n",
       "      <th>347</th>\n",
       "      <td>UNIÃO QUIMICA FARMACEUTICA NACIONAL S/A</td>\n",
       "      <td>360,000.00</td>\n",
       "    </tr>\n",
       "    <tr>\n",
       "      <th>141</th>\n",
       "      <td>EUROFARMA LABORATORIOS LTDA</td>\n",
       "      <td>355,000.00</td>\n",
       "    </tr>\n",
       "  </tbody>\n",
       "</table>\n",
       "</div>"
      ],
      "text/plain": [
       "                                        nome_doador  valor_receita\n",
       "212                                 HYPERMARCAS S/A   2,500,000.00\n",
       "21                   BIOLAB SANUS FARMACEUTICA LTDA   1,609,000.00\n",
       "51             COMPANHIA BRASILEIRA DE DISTRIBUIÇÃO     845,000.00\n",
       "42                   CIA BRASILEIRA DE DISTRIBUIÇÃO     750,000.00\n",
       "324                 STOCK COMERCIAL HOSPITALAR LTDA     728,730.00\n",
       "243                         LIBBS FARMACEUTICA LTDA     521,000.00\n",
       "145     EXPRESSA DISTRIBUIDORA DE MEDICAMENTOS LTDA     500,000.00\n",
       "57   CRISTALIA PRODUTOS QUIMICOS FARMACEUTICOS LTDA     425,000.00\n",
       "347         UNIÃO QUIMICA FARMACEUTICA NACIONAL S/A     360,000.00\n",
       "141                     EUROFARMA LABORATORIOS LTDA     355,000.00"
      ]
     },
     "execution_count": 32,
     "metadata": {},
     "output_type": "execute_result"
    }
   ],
   "source": [
    "farma_doadores_diretos_2010.groupby(\"nome_doador\").valor_receita.sum().reset_index().sort_values(\"valor_receita\", ascending=False).head(10)"
   ]
  },
  {
   "cell_type": "markdown",
   "metadata": {},
   "source": [
    "Candidatos que mais receberam"
   ]
  },
  {
   "cell_type": "code",
   "execution_count": 33,
   "metadata": {},
   "outputs": [
    {
     "data": {
      "text/html": [
       "<div>\n",
       "<style scoped>\n",
       "    .dataframe tbody tr th:only-of-type {\n",
       "        vertical-align: middle;\n",
       "    }\n",
       "\n",
       "    .dataframe tbody tr th {\n",
       "        vertical-align: top;\n",
       "    }\n",
       "\n",
       "    .dataframe thead th {\n",
       "        text-align: right;\n",
       "    }\n",
       "</style>\n",
       "<table border=\"1\" class=\"dataframe\">\n",
       "  <thead>\n",
       "    <tr style=\"text-align: right;\">\n",
       "      <th></th>\n",
       "      <th>nome_candidato</th>\n",
       "      <th>valor_receita</th>\n",
       "    </tr>\n",
       "  </thead>\n",
       "  <tbody>\n",
       "    <tr>\n",
       "      <th>148</th>\n",
       "      <td>IRIS REZENDE MACHADO</td>\n",
       "      <td>1,000,000.00</td>\n",
       "    </tr>\n",
       "    <tr>\n",
       "      <th>122</th>\n",
       "      <td>FLÁVIA CARREIRO ALBUQUERQUE MORAIS</td>\n",
       "      <td>940,730.00</td>\n",
       "    </tr>\n",
       "    <tr>\n",
       "      <th>52</th>\n",
       "      <td>ARLINDO CHIGNALIA JUNIOR</td>\n",
       "      <td>825,000.00</td>\n",
       "    </tr>\n",
       "    <tr>\n",
       "      <th>187</th>\n",
       "      <td>JOSÉ ALDO REBELO FIGUEIREDO</td>\n",
       "      <td>790,000.00</td>\n",
       "    </tr>\n",
       "    <tr>\n",
       "      <th>9</th>\n",
       "      <td>AGNELO SANTOS QUEIROZ FILHO</td>\n",
       "      <td>695,000.00</td>\n",
       "    </tr>\n",
       "    <tr>\n",
       "      <th>156</th>\n",
       "      <td>JAQUES WAGNER</td>\n",
       "      <td>595,000.00</td>\n",
       "    </tr>\n",
       "    <tr>\n",
       "      <th>361</th>\n",
       "      <td>VANDERLAN VIEIRA CARDOSO</td>\n",
       "      <td>500,000.00</td>\n",
       "    </tr>\n",
       "    <tr>\n",
       "      <th>94</th>\n",
       "      <td>DEMOSTENES LAZARO XAVIER TORRES</td>\n",
       "      <td>500,000.00</td>\n",
       "    </tr>\n",
       "    <tr>\n",
       "      <th>315</th>\n",
       "      <td>RAUL BELENS JUNGMANN PINTO</td>\n",
       "      <td>450,000.00</td>\n",
       "    </tr>\n",
       "    <tr>\n",
       "      <th>239</th>\n",
       "      <td>MANOEL ALVES DA SILVA JUNIOR</td>\n",
       "      <td>450,000.00</td>\n",
       "    </tr>\n",
       "  </tbody>\n",
       "</table>\n",
       "</div>"
      ],
      "text/plain": [
       "                         nome_candidato  valor_receita\n",
       "148                IRIS REZENDE MACHADO   1,000,000.00\n",
       "122  FLÁVIA CARREIRO ALBUQUERQUE MORAIS     940,730.00\n",
       "52             ARLINDO CHIGNALIA JUNIOR     825,000.00\n",
       "187         JOSÉ ALDO REBELO FIGUEIREDO     790,000.00\n",
       "9           AGNELO SANTOS QUEIROZ FILHO     695,000.00\n",
       "156                       JAQUES WAGNER     595,000.00\n",
       "361            VANDERLAN VIEIRA CARDOSO     500,000.00\n",
       "94      DEMOSTENES LAZARO XAVIER TORRES     500,000.00\n",
       "315          RAUL BELENS JUNGMANN PINTO     450,000.00\n",
       "239        MANOEL ALVES DA SILVA JUNIOR     450,000.00"
      ]
     },
     "execution_count": 33,
     "metadata": {},
     "output_type": "execute_result"
    }
   ],
   "source": [
    "farma_doadores_diretos_2010.groupby(\"nome_candidato\").valor_receita.sum().reset_index().sort_values(\"valor_receita\", ascending=False).head(10)"
   ]
  },
  {
   "cell_type": "markdown",
   "metadata": {},
   "source": [
    "Tabela dinâmica doadores e candidatos"
   ]
  },
  {
   "cell_type": "code",
   "execution_count": 34,
   "metadata": {},
   "outputs": [
    {
     "data": {
      "text/html": [
       "<div>\n",
       "<style scoped>\n",
       "    .dataframe tbody tr th:only-of-type {\n",
       "        vertical-align: middle;\n",
       "    }\n",
       "\n",
       "    .dataframe tbody tr th {\n",
       "        vertical-align: top;\n",
       "    }\n",
       "\n",
       "    .dataframe thead th {\n",
       "        text-align: right;\n",
       "    }\n",
       "</style>\n",
       "<table border=\"1\" class=\"dataframe\">\n",
       "  <thead>\n",
       "    <tr style=\"text-align: right;\">\n",
       "      <th></th>\n",
       "      <th></th>\n",
       "      <th>valor_receita</th>\n",
       "    </tr>\n",
       "    <tr>\n",
       "      <th>nome_doador</th>\n",
       "      <th>nome_candidato</th>\n",
       "      <th></th>\n",
       "    </tr>\n",
       "  </thead>\n",
       "  <tbody>\n",
       "    <tr>\n",
       "      <th>HYPERMARCAS S/A</th>\n",
       "      <th>IRIS REZENDE MACHADO</th>\n",
       "      <td>1,000,000.00</td>\n",
       "    </tr>\n",
       "    <tr>\n",
       "      <th>STOCK COMERCIAL HOSPITALAR LTDA</th>\n",
       "      <th>FLÁVIA CARREIRO ALBUQUERQUE MORAIS</th>\n",
       "      <td>728,730.00</td>\n",
       "    </tr>\n",
       "    <tr>\n",
       "      <th rowspan=\"2\" valign=\"top\">HYPERMARCAS S/A</th>\n",
       "      <th>VANDERLAN VIEIRA CARDOSO</th>\n",
       "      <td>500,000.00</td>\n",
       "    </tr>\n",
       "    <tr>\n",
       "      <th>DEMOSTENES LAZARO XAVIER TORRES</th>\n",
       "      <td>500,000.00</td>\n",
       "    </tr>\n",
       "    <tr>\n",
       "      <th>BIOLAB SANUS FARMACEUTICA LTDA</th>\n",
       "      <th>ARLINDO CHIGNALIA JUNIOR</th>\n",
       "      <td>500,000.00</td>\n",
       "    </tr>\n",
       "    <tr>\n",
       "      <th>EXPRESSA DISTRIBUIDORA DE MEDICAMENTOS LTDA</th>\n",
       "      <th>JAQUES WAGNER</th>\n",
       "      <td>500,000.00</td>\n",
       "    </tr>\n",
       "    <tr>\n",
       "      <th>RECOL DISTRIBUIDORA DE VEICULOS LTDA</th>\n",
       "      <th>CONFUCIO AIRES DE MOURA</th>\n",
       "      <td>305,000.00</td>\n",
       "    </tr>\n",
       "    <tr>\n",
       "      <th>UNIÃO QUIMICA FARMACEUTICA NACIONAL S/A</th>\n",
       "      <th>GERALDO THADEU PEDREIRA DOS SANTOS</th>\n",
       "      <td>300,000.00</td>\n",
       "    </tr>\n",
       "    <tr>\n",
       "      <th>HYPERMARCAS S/A</th>\n",
       "      <th>AGNELO SANTOS QUEIROZ FILHO</th>\n",
       "      <td>300,000.00</td>\n",
       "    </tr>\n",
       "    <tr>\n",
       "      <th>CRISTALIA PRODUTOS QUIMICOS FARMACEUTICOS LTDA</th>\n",
       "      <th>JOSE ANTONIO BARROS MUNHOZ</th>\n",
       "      <td>300,000.00</td>\n",
       "    </tr>\n",
       "  </tbody>\n",
       "</table>\n",
       "</div>"
      ],
      "text/plain": [
       "                                                                                   valor_receita\n",
       "nome_doador                                    nome_candidato                                   \n",
       "HYPERMARCAS S/A                                IRIS REZENDE MACHADO                 1,000,000.00\n",
       "STOCK COMERCIAL HOSPITALAR LTDA                FLÁVIA CARREIRO ALBUQUERQUE MORAIS     728,730.00\n",
       "HYPERMARCAS S/A                                VANDERLAN VIEIRA CARDOSO               500,000.00\n",
       "                                               DEMOSTENES LAZARO XAVIER TORRES        500,000.00\n",
       "BIOLAB SANUS FARMACEUTICA LTDA                 ARLINDO CHIGNALIA JUNIOR               500,000.00\n",
       "EXPRESSA DISTRIBUIDORA DE MEDICAMENTOS LTDA    JAQUES WAGNER                          500,000.00\n",
       "RECOL DISTRIBUIDORA DE VEICULOS LTDA           CONFUCIO AIRES DE MOURA                305,000.00\n",
       "UNIÃO QUIMICA FARMACEUTICA NACIONAL S/A        GERALDO THADEU PEDREIRA DOS SANTOS     300,000.00\n",
       "HYPERMARCAS S/A                                AGNELO SANTOS QUEIROZ FILHO            300,000.00\n",
       "CRISTALIA PRODUTOS QUIMICOS FARMACEUTICOS LTDA JOSE ANTONIO BARROS MUNHOZ             300,000.00"
      ]
     },
     "execution_count": 34,
     "metadata": {},
     "output_type": "execute_result"
    }
   ],
   "source": [
    "tabela = pd.pivot_table(farma_doadores_diretos_2010,index=[\"nome_doador\",\"nome_candidato\"], values=[\"valor_receita\"], aggfunc=np.sum)\n",
    "result = tabela.sort_values('valor_receita', ascending=False).head(10)\n",
    "result"
   ]
  },
  {
   "cell_type": "code",
   "execution_count": null,
   "metadata": {},
   "outputs": [],
   "source": []
  },
  {
   "cell_type": "markdown",
   "metadata": {},
   "source": [
    "2014"
   ]
  },
  {
   "cell_type": "code",
   "execution_count": 35,
   "metadata": {},
   "outputs": [],
   "source": [
    "farma_doadores_diretos_2014 = pd.merge(doacoes_2014, farma.drop_duplicates('cnpj_raiz'), left_on='cnpj_raiz', right_on='cnpj_raiz')"
   ]
  },
  {
   "cell_type": "code",
   "execution_count": 36,
   "metadata": {},
   "outputs": [
    {
     "name": "stdout",
     "output_type": "stream",
     "text": [
      "O dataframe contém 451 linhas\n"
     ]
    }
   ],
   "source": [
    "print('O dataframe contém ' + str(farma_doadores_diretos_2014.shape[0]) + ' linhas')"
   ]
  },
  {
   "cell_type": "code",
   "execution_count": 37,
   "metadata": {},
   "outputs": [],
   "source": [
    "farma_doadores_diretos_2014 = pd.merge(farma_doadores_diretos_2014, \\\n",
    "                                       eleitos.drop_duplicates('NR_CPF_CANDIDATO'), \\\n",
    "                                       left_on='cpf_candidato', \\\n",
    "                                       right_on='NR_CPF_CANDIDATO',\\\n",
    "                                       how='left')"
   ]
  },
  {
   "cell_type": "code",
   "execution_count": 38,
   "metadata": {},
   "outputs": [],
   "source": [
    "farma_doadores_diretos_2014.to_excel('resultados/compara/doacoes_diretas_empresas_2014.xlsx',sheet_name='Sheet1')"
   ]
  },
  {
   "cell_type": "code",
   "execution_count": null,
   "metadata": {},
   "outputs": [],
   "source": []
  },
  {
   "cell_type": "markdown",
   "metadata": {},
   "source": [
    "Maiores doadores"
   ]
  },
  {
   "cell_type": "code",
   "execution_count": 39,
   "metadata": {},
   "outputs": [
    {
     "data": {
      "text/html": [
       "<div>\n",
       "<style scoped>\n",
       "    .dataframe tbody tr th:only-of-type {\n",
       "        vertical-align: middle;\n",
       "    }\n",
       "\n",
       "    .dataframe tbody tr th {\n",
       "        vertical-align: top;\n",
       "    }\n",
       "\n",
       "    .dataframe thead th {\n",
       "        text-align: right;\n",
       "    }\n",
       "</style>\n",
       "<table border=\"1\" class=\"dataframe\">\n",
       "  <thead>\n",
       "    <tr style=\"text-align: right;\">\n",
       "      <th></th>\n",
       "      <th>nome_doador</th>\n",
       "      <th>valor_receita</th>\n",
       "    </tr>\n",
       "  </thead>\n",
       "  <tbody>\n",
       "    <tr>\n",
       "      <th>174</th>\n",
       "      <td>HYPERMARCAS S/A</td>\n",
       "      <td>6,090,000.00</td>\n",
       "    </tr>\n",
       "    <tr>\n",
       "      <th>74</th>\n",
       "      <td>CRISTALIA PRODUTOS QUIMICOS FARMACEUTICOS LTDA</td>\n",
       "      <td>2,075,000.00</td>\n",
       "    </tr>\n",
       "    <tr>\n",
       "      <th>165</th>\n",
       "      <td>GEOLAB INDUTRIA FARMACEUTICA S/A</td>\n",
       "      <td>1,260,000.00</td>\n",
       "    </tr>\n",
       "    <tr>\n",
       "      <th>38</th>\n",
       "      <td>CENCOSUD BRASIL COMERCIAL LTDA.</td>\n",
       "      <td>1,000,000.00</td>\n",
       "    </tr>\n",
       "    <tr>\n",
       "      <th>173</th>\n",
       "      <td>HIPERMARCAS SA</td>\n",
       "      <td>800,000.00</td>\n",
       "    </tr>\n",
       "    <tr>\n",
       "      <th>116</th>\n",
       "      <td>EMPREENDIMENTOS PAGUE MENOS S/A</td>\n",
       "      <td>768,855.97</td>\n",
       "    </tr>\n",
       "    <tr>\n",
       "      <th>193</th>\n",
       "      <td>LABORATORIO TEUTO BRASILEIRO S/A</td>\n",
       "      <td>750,000.00</td>\n",
       "    </tr>\n",
       "    <tr>\n",
       "      <th>266</th>\n",
       "      <td>UTIL FARMA DISTRIBUIDORA DE MEDICAMENTOS E HOS...</td>\n",
       "      <td>720,000.00</td>\n",
       "    </tr>\n",
       "    <tr>\n",
       "      <th>44</th>\n",
       "      <td>CIFARMA CIENTIFICA E FARMACEUTICA LTDA</td>\n",
       "      <td>700,000.00</td>\n",
       "    </tr>\n",
       "    <tr>\n",
       "      <th>232</th>\n",
       "      <td>PRATI· DONADUZZI &amp; CIA LTDA</td>\n",
       "      <td>640,000.00</td>\n",
       "    </tr>\n",
       "  </tbody>\n",
       "</table>\n",
       "</div>"
      ],
      "text/plain": [
       "                                           nome_doador  valor_receita\n",
       "174                                    HYPERMARCAS S/A   6,090,000.00\n",
       "74      CRISTALIA PRODUTOS QUIMICOS FARMACEUTICOS LTDA   2,075,000.00\n",
       "165                   GEOLAB INDUTRIA FARMACEUTICA S/A   1,260,000.00\n",
       "38                     CENCOSUD BRASIL COMERCIAL LTDA.   1,000,000.00\n",
       "173                                     HIPERMARCAS SA     800,000.00\n",
       "116                    EMPREENDIMENTOS PAGUE MENOS S/A     768,855.97\n",
       "193                   LABORATORIO TEUTO BRASILEIRO S/A     750,000.00\n",
       "266  UTIL FARMA DISTRIBUIDORA DE MEDICAMENTOS E HOS...     720,000.00\n",
       "44              CIFARMA CIENTIFICA E FARMACEUTICA LTDA     700,000.00\n",
       "232                        PRATI· DONADUZZI & CIA LTDA     640,000.00"
      ]
     },
     "execution_count": 39,
     "metadata": {},
     "output_type": "execute_result"
    }
   ],
   "source": [
    "farma_doadores_diretos_2014.groupby(\"nome_doador\").valor_receita.sum().reset_index().sort_values(\"valor_receita\", ascending=False).head(10)"
   ]
  },
  {
   "cell_type": "markdown",
   "metadata": {},
   "source": [
    "Candidatos que mais receberam"
   ]
  },
  {
   "cell_type": "code",
   "execution_count": 40,
   "metadata": {},
   "outputs": [
    {
     "data": {
      "text/html": [
       "<div>\n",
       "<style scoped>\n",
       "    .dataframe tbody tr th:only-of-type {\n",
       "        vertical-align: middle;\n",
       "    }\n",
       "\n",
       "    .dataframe tbody tr th {\n",
       "        vertical-align: top;\n",
       "    }\n",
       "\n",
       "    .dataframe thead th {\n",
       "        text-align: right;\n",
       "    }\n",
       "</style>\n",
       "<table border=\"1\" class=\"dataframe\">\n",
       "  <thead>\n",
       "    <tr style=\"text-align: right;\">\n",
       "      <th></th>\n",
       "      <th>nome_candidato</th>\n",
       "      <th>valor_receita</th>\n",
       "    </tr>\n",
       "  </thead>\n",
       "  <tbody>\n",
       "    <tr>\n",
       "      <th>66</th>\n",
       "      <td>DILMA VANA ROUSSEFF</td>\n",
       "      <td>8,280,000.00</td>\n",
       "    </tr>\n",
       "    <tr>\n",
       "      <th>187</th>\n",
       "      <td>MARCOS ABRAO RORIZ SOARES DE CARVALHO</td>\n",
       "      <td>1,272,000.00</td>\n",
       "    </tr>\n",
       "    <tr>\n",
       "      <th>121</th>\n",
       "      <td>IRIS REZENDE MACHADO</td>\n",
       "      <td>800,000.00</td>\n",
       "    </tr>\n",
       "    <tr>\n",
       "      <th>186</th>\n",
       "      <td>MARCONI FERREIRA PERILLO JUNIOR</td>\n",
       "      <td>750,000.00</td>\n",
       "    </tr>\n",
       "    <tr>\n",
       "      <th>146</th>\n",
       "      <td>JOSÉ ANTÔNIO DA SILVA NETTO</td>\n",
       "      <td>700,000.00</td>\n",
       "    </tr>\n",
       "    <tr>\n",
       "      <th>168</th>\n",
       "      <td>LEONARDO LEMOS BARROS QUINTÃO</td>\n",
       "      <td>604,630.81</td>\n",
       "    </tr>\n",
       "    <tr>\n",
       "      <th>8</th>\n",
       "      <td>ALEXANDRE BALDY DE SANT'ANNA BRAGA</td>\n",
       "      <td>585,738.00</td>\n",
       "    </tr>\n",
       "    <tr>\n",
       "      <th>194</th>\n",
       "      <td>MARIA OSMARINA MARINA DA SILVA VAZ DE LIMA</td>\n",
       "      <td>500,000.00</td>\n",
       "    </tr>\n",
       "    <tr>\n",
       "      <th>40</th>\n",
       "      <td>AÉCIO NEVES DA CUNHA</td>\n",
       "      <td>500,000.00</td>\n",
       "    </tr>\n",
       "    <tr>\n",
       "      <th>34</th>\n",
       "      <td>ARLINDO CHIGNALIA JUNIOR</td>\n",
       "      <td>500,000.00</td>\n",
       "    </tr>\n",
       "  </tbody>\n",
       "</table>\n",
       "</div>"
      ],
      "text/plain": [
       "                                 nome_candidato  valor_receita\n",
       "66                          DILMA VANA ROUSSEFF   8,280,000.00\n",
       "187       MARCOS ABRAO RORIZ SOARES DE CARVALHO   1,272,000.00\n",
       "121                        IRIS REZENDE MACHADO     800,000.00\n",
       "186             MARCONI FERREIRA PERILLO JUNIOR     750,000.00\n",
       "146                 JOSÉ ANTÔNIO DA SILVA NETTO     700,000.00\n",
       "168               LEONARDO LEMOS BARROS QUINTÃO     604,630.81\n",
       "8            ALEXANDRE BALDY DE SANT'ANNA BRAGA     585,738.00\n",
       "194  MARIA OSMARINA MARINA DA SILVA VAZ DE LIMA     500,000.00\n",
       "40                         AÉCIO NEVES DA CUNHA     500,000.00\n",
       "34                     ARLINDO CHIGNALIA JUNIOR     500,000.00"
      ]
     },
     "execution_count": 40,
     "metadata": {},
     "output_type": "execute_result"
    }
   ],
   "source": [
    "farma_doadores_diretos_2014.groupby(\"nome_candidato\").valor_receita.sum().reset_index().sort_values(\"valor_receita\", ascending=False).head(10)"
   ]
  },
  {
   "cell_type": "markdown",
   "metadata": {},
   "source": [
    "Tabela dinâmica doadores e candidatos"
   ]
  },
  {
   "cell_type": "code",
   "execution_count": 41,
   "metadata": {},
   "outputs": [
    {
     "data": {
      "text/html": [
       "<div>\n",
       "<style scoped>\n",
       "    .dataframe tbody tr th:only-of-type {\n",
       "        vertical-align: middle;\n",
       "    }\n",
       "\n",
       "    .dataframe tbody tr th {\n",
       "        vertical-align: top;\n",
       "    }\n",
       "\n",
       "    .dataframe thead th {\n",
       "        text-align: right;\n",
       "    }\n",
       "</style>\n",
       "<table border=\"1\" class=\"dataframe\">\n",
       "  <thead>\n",
       "    <tr style=\"text-align: right;\">\n",
       "      <th></th>\n",
       "      <th></th>\n",
       "      <th>valor_receita</th>\n",
       "    </tr>\n",
       "    <tr>\n",
       "      <th>nome_doador</th>\n",
       "      <th>nome_candidato</th>\n",
       "      <th></th>\n",
       "    </tr>\n",
       "  </thead>\n",
       "  <tbody>\n",
       "    <tr>\n",
       "      <th>HYPERMARCAS S/A</th>\n",
       "      <th>DILMA VANA ROUSSEFF</th>\n",
       "      <td>5,000,000.00</td>\n",
       "    </tr>\n",
       "    <tr>\n",
       "      <th>CRISTALIA PRODUTOS QUIMICOS FARMACEUTICOS LTDA</th>\n",
       "      <th>DILMA VANA ROUSSEFF</th>\n",
       "      <td>2,000,000.00</td>\n",
       "    </tr>\n",
       "    <tr>\n",
       "      <th>GEOLAB INDUTRIA FARMACEUTICA S/A</th>\n",
       "      <th>MARCOS ABRAO RORIZ SOARES DE CARVALHO</th>\n",
       "      <td>1,260,000.00</td>\n",
       "    </tr>\n",
       "    <tr>\n",
       "      <th>HIPERMARCAS SA</th>\n",
       "      <th>IRIS REZENDE MACHADO</th>\n",
       "      <td>800,000.00</td>\n",
       "    </tr>\n",
       "    <tr>\n",
       "      <th>LABORATORIO TEUTO BRASILEIRO S/A</th>\n",
       "      <th>MARCONI FERREIRA PERILLO JUNIOR</th>\n",
       "      <td>750,000.00</td>\n",
       "    </tr>\n",
       "    <tr>\n",
       "      <th>CIFARMA CIENTIFICA E FARMACEUTICA LTDA</th>\n",
       "      <th>JOSÉ ANTÔNIO DA SILVA NETTO</th>\n",
       "      <td>700,000.00</td>\n",
       "    </tr>\n",
       "    <tr>\n",
       "      <th>CENCOSUD BRASIL COMERCIAL LTDA</th>\n",
       "      <th>DILMA VANA ROUSSEFF</th>\n",
       "      <td>500,000.00</td>\n",
       "    </tr>\n",
       "    <tr>\n",
       "      <th rowspan=\"2\" valign=\"top\">CENCOSUD BRASIL COMERCIAL LTDA.</th>\n",
       "      <th>AÉCIO NEVES DA CUNHA</th>\n",
       "      <td>500,000.00</td>\n",
       "    </tr>\n",
       "    <tr>\n",
       "      <th>MARIA OSMARINA MARINA DA SILVA VAZ DE LIMA</th>\n",
       "      <td>500,000.00</td>\n",
       "    </tr>\n",
       "    <tr>\n",
       "      <th>HYPERMARCAS S/A</th>\n",
       "      <th>ARLINDO CHIGNALIA JUNIOR</th>\n",
       "      <td>500,000.00</td>\n",
       "    </tr>\n",
       "  </tbody>\n",
       "</table>\n",
       "</div>"
      ],
      "text/plain": [
       "                                                                                           valor_receita\n",
       "nome_doador                                    nome_candidato                                           \n",
       "HYPERMARCAS S/A                                DILMA VANA ROUSSEFF                          5,000,000.00\n",
       "CRISTALIA PRODUTOS QUIMICOS FARMACEUTICOS LTDA DILMA VANA ROUSSEFF                          2,000,000.00\n",
       "GEOLAB INDUTRIA FARMACEUTICA S/A               MARCOS ABRAO RORIZ SOARES DE CARVALHO        1,260,000.00\n",
       "HIPERMARCAS SA                                 IRIS REZENDE MACHADO                           800,000.00\n",
       "LABORATORIO TEUTO BRASILEIRO S/A               MARCONI FERREIRA PERILLO JUNIOR                750,000.00\n",
       "CIFARMA CIENTIFICA E FARMACEUTICA LTDA         JOSÉ ANTÔNIO DA SILVA NETTO                    700,000.00\n",
       "CENCOSUD BRASIL COMERCIAL LTDA                 DILMA VANA ROUSSEFF                            500,000.00\n",
       "CENCOSUD BRASIL COMERCIAL LTDA.                AÉCIO NEVES DA CUNHA                           500,000.00\n",
       "                                               MARIA OSMARINA MARINA DA SILVA VAZ DE LIMA     500,000.00\n",
       "HYPERMARCAS S/A                                ARLINDO CHIGNALIA JUNIOR                       500,000.00"
      ]
     },
     "execution_count": 41,
     "metadata": {},
     "output_type": "execute_result"
    }
   ],
   "source": [
    "tabela = pd.pivot_table(farma_doadores_diretos_2014,index=[\"nome_doador\",\"nome_candidato\"], values=[\"valor_receita\"], aggfunc=np.sum)\n",
    "result = tabela.sort_values('valor_receita', ascending=False).head(10)\n",
    "result"
   ]
  },
  {
   "cell_type": "code",
   "execution_count": null,
   "metadata": {},
   "outputs": [],
   "source": []
  },
  {
   "cell_type": "markdown",
   "metadata": {},
   "source": [
    "2018"
   ]
  },
  {
   "cell_type": "code",
   "execution_count": 42,
   "metadata": {},
   "outputs": [],
   "source": [
    "farma_doadores_diretos_2018 = pd.merge(doacoes_2018, farma.drop_duplicates('cnpj_raiz'), left_on='cnpj_raiz', right_on='cnpj_raiz')"
   ]
  },
  {
   "cell_type": "code",
   "execution_count": 43,
   "metadata": {},
   "outputs": [
    {
     "name": "stdout",
     "output_type": "stream",
     "text": [
      "O dataframe contém 0 linhas\n"
     ]
    }
   ],
   "source": [
    "print('O dataframe contém ' + str(farma_doadores_diretos_2018.shape[0]) + ' linhas')"
   ]
  },
  {
   "cell_type": "code",
   "execution_count": null,
   "metadata": {},
   "outputs": [],
   "source": []
  },
  {
   "cell_type": "markdown",
   "metadata": {},
   "source": [
    "# Cruzamento 2 - de CNPJs - empresas e doacoes indiretas"
   ]
  },
  {
   "cell_type": "markdown",
   "metadata": {},
   "source": [
    "2010"
   ]
  },
  {
   "cell_type": "markdown",
   "metadata": {},
   "source": [
    "Não havia essa informação"
   ]
  },
  {
   "cell_type": "code",
   "execution_count": null,
   "metadata": {},
   "outputs": [],
   "source": []
  },
  {
   "cell_type": "markdown",
   "metadata": {},
   "source": [
    "2014"
   ]
  },
  {
   "cell_type": "code",
   "execution_count": 44,
   "metadata": {},
   "outputs": [],
   "source": [
    "farma_doadores_indiretos_2014 = pd.merge(doacoes_2014, farma.drop_duplicates('cnpj_raiz'), left_on='cnpj_raiz_originario', right_on='cnpj_raiz')"
   ]
  },
  {
   "cell_type": "code",
   "execution_count": 45,
   "metadata": {},
   "outputs": [
    {
     "name": "stdout",
     "output_type": "stream",
     "text": [
      "O dataframe contém 858 linhas\n"
     ]
    }
   ],
   "source": [
    "print('O dataframe contém ' + str(farma_doadores_indiretos_2014.shape[0]) + ' linhas')"
   ]
  },
  {
   "cell_type": "code",
   "execution_count": 46,
   "metadata": {},
   "outputs": [],
   "source": [
    "farma_doadores_indiretos_2014 = pd.merge(farma_doadores_indiretos_2014, \\\n",
    "                                       eleitos.drop_duplicates('NR_CPF_CANDIDATO'), \\\n",
    "                                       left_on='cpf_candidato', \\\n",
    "                                       right_on='NR_CPF_CANDIDATO',\\\n",
    "                                       how='left')"
   ]
  },
  {
   "cell_type": "code",
   "execution_count": 47,
   "metadata": {},
   "outputs": [
    {
     "name": "stdout",
     "output_type": "stream",
     "text": [
      "O dataframe contém 858 linhas\n"
     ]
    }
   ],
   "source": [
    "print('O dataframe contém ' + str(farma_doadores_indiretos_2014.shape[0]) + ' linhas')"
   ]
  },
  {
   "cell_type": "code",
   "execution_count": 48,
   "metadata": {},
   "outputs": [],
   "source": [
    "farma_doadores_indiretos_2014.to_excel('resultados/compara/doacoes_indiretas_empresas_2014.xlsx',sheet_name='Sheet1')"
   ]
  },
  {
   "cell_type": "code",
   "execution_count": null,
   "metadata": {},
   "outputs": [],
   "source": []
  },
  {
   "cell_type": "markdown",
   "metadata": {},
   "source": [
    "Maiores doadores"
   ]
  },
  {
   "cell_type": "code",
   "execution_count": 49,
   "metadata": {},
   "outputs": [
    {
     "data": {
      "text/html": [
       "<div>\n",
       "<style scoped>\n",
       "    .dataframe tbody tr th:only-of-type {\n",
       "        vertical-align: middle;\n",
       "    }\n",
       "\n",
       "    .dataframe tbody tr th {\n",
       "        vertical-align: top;\n",
       "    }\n",
       "\n",
       "    .dataframe thead th {\n",
       "        text-align: right;\n",
       "    }\n",
       "</style>\n",
       "<table border=\"1\" class=\"dataframe\">\n",
       "  <thead>\n",
       "    <tr style=\"text-align: right;\">\n",
       "      <th></th>\n",
       "      <th>nome_doador_originario_receita</th>\n",
       "      <th>valor_receita</th>\n",
       "    </tr>\n",
       "  </thead>\n",
       "  <tbody>\n",
       "    <tr>\n",
       "      <th>27</th>\n",
       "      <td>HYPERMARCAS S/A</td>\n",
       "      <td>6,214,214.72</td>\n",
       "    </tr>\n",
       "    <tr>\n",
       "      <th>32</th>\n",
       "      <td>LOGIMED DISTRIBUIDORA SOCIEDADE EMPRESARIA LIM...</td>\n",
       "      <td>3,524,585.09</td>\n",
       "    </tr>\n",
       "    <tr>\n",
       "      <th>47</th>\n",
       "      <td>UNIAO QUIMICA FARMACEUTICA NACIONAL S A</td>\n",
       "      <td>1,819,672.30</td>\n",
       "    </tr>\n",
       "    <tr>\n",
       "      <th>4</th>\n",
       "      <td>BIOLAB SANUS FARMACEUTICA LTDA</td>\n",
       "      <td>1,603,944.75</td>\n",
       "    </tr>\n",
       "    <tr>\n",
       "      <th>9</th>\n",
       "      <td>CRISTALIA PRODUTOS QUIMICOS FARMACEUTICOS LTDA</td>\n",
       "      <td>1,499,500.06</td>\n",
       "    </tr>\n",
       "    <tr>\n",
       "      <th>20</th>\n",
       "      <td>EUROFARMA LABORATORIOS S.A.</td>\n",
       "      <td>1,442,339.24</td>\n",
       "    </tr>\n",
       "    <tr>\n",
       "      <th>43</th>\n",
       "      <td>RAIA DROGASIL S/A</td>\n",
       "      <td>787,522.50</td>\n",
       "    </tr>\n",
       "    <tr>\n",
       "      <th>8</th>\n",
       "      <td>COMPANHIA BRASILEIRA DE DISTRIBUICAO</td>\n",
       "      <td>786,903.30</td>\n",
       "    </tr>\n",
       "    <tr>\n",
       "      <th>6</th>\n",
       "      <td>CENCOSUD BRASIL COMERCIAL LTDA</td>\n",
       "      <td>759,840.00</td>\n",
       "    </tr>\n",
       "    <tr>\n",
       "      <th>1</th>\n",
       "      <td>ACHE LABORATORIOS FARMACEUTICOS SA</td>\n",
       "      <td>758,500.00</td>\n",
       "    </tr>\n",
       "  </tbody>\n",
       "</table>\n",
       "</div>"
      ],
      "text/plain": [
       "                       nome_doador_originario_receita  valor_receita\n",
       "27                                    HYPERMARCAS S/A   6,214,214.72\n",
       "32  LOGIMED DISTRIBUIDORA SOCIEDADE EMPRESARIA LIM...   3,524,585.09\n",
       "47            UNIAO QUIMICA FARMACEUTICA NACIONAL S A   1,819,672.30\n",
       "4                      BIOLAB SANUS FARMACEUTICA LTDA   1,603,944.75\n",
       "9      CRISTALIA PRODUTOS QUIMICOS FARMACEUTICOS LTDA   1,499,500.06\n",
       "20                        EUROFARMA LABORATORIOS S.A.   1,442,339.24\n",
       "43                                  RAIA DROGASIL S/A     787,522.50\n",
       "8                COMPANHIA BRASILEIRA DE DISTRIBUICAO     786,903.30\n",
       "6                      CENCOSUD BRASIL COMERCIAL LTDA     759,840.00\n",
       "1                  ACHE LABORATORIOS FARMACEUTICOS SA     758,500.00"
      ]
     },
     "execution_count": 49,
     "metadata": {},
     "output_type": "execute_result"
    }
   ],
   "source": [
    "farma_doadores_indiretos_2014.groupby(\"nome_doador_originario_receita\").valor_receita.sum().reset_index().sort_values(\"valor_receita\", ascending=False).head(10)"
   ]
  },
  {
   "cell_type": "markdown",
   "metadata": {},
   "source": [
    "Candidatos que mais receberam"
   ]
  },
  {
   "cell_type": "code",
   "execution_count": 50,
   "metadata": {},
   "outputs": [
    {
     "data": {
      "text/html": [
       "<div>\n",
       "<style scoped>\n",
       "    .dataframe tbody tr th:only-of-type {\n",
       "        vertical-align: middle;\n",
       "    }\n",
       "\n",
       "    .dataframe tbody tr th {\n",
       "        vertical-align: top;\n",
       "    }\n",
       "\n",
       "    .dataframe thead th {\n",
       "        text-align: right;\n",
       "    }\n",
       "</style>\n",
       "<table border=\"1\" class=\"dataframe\">\n",
       "  <thead>\n",
       "    <tr style=\"text-align: right;\">\n",
       "      <th></th>\n",
       "      <th>nome_candidato</th>\n",
       "      <th>valor_receita</th>\n",
       "    </tr>\n",
       "  </thead>\n",
       "  <tbody>\n",
       "    <tr>\n",
       "      <th>33</th>\n",
       "      <td>AÉCIO NEVES DA CUNHA</td>\n",
       "      <td>5,754,951.33</td>\n",
       "    </tr>\n",
       "    <tr>\n",
       "      <th>87</th>\n",
       "      <td>FERNANDO DAMATA PIMENTEL</td>\n",
       "      <td>2,309,925.00</td>\n",
       "    </tr>\n",
       "    <tr>\n",
       "      <th>100</th>\n",
       "      <td>GERALDO THADEU PEDREIRA DOS SANTOS</td>\n",
       "      <td>1,000,000.00</td>\n",
       "    </tr>\n",
       "    <tr>\n",
       "      <th>197</th>\n",
       "      <td>MARIA OSMARINA MARINA DA SILVA VAZ DE LIMA</td>\n",
       "      <td>954,834.34</td>\n",
       "    </tr>\n",
       "    <tr>\n",
       "      <th>160</th>\n",
       "      <td>LEONARDO LEMOS BARROS QUINTÃO</td>\n",
       "      <td>838,717.61</td>\n",
       "    </tr>\n",
       "    <tr>\n",
       "      <th>129</th>\n",
       "      <td>JOSE RENAN VASCONCELOS CALHEIROS FILHO</td>\n",
       "      <td>600,000.00</td>\n",
       "    </tr>\n",
       "    <tr>\n",
       "      <th>159</th>\n",
       "      <td>LEONARDO CARNEIRO MONTEIRO PICCIANI</td>\n",
       "      <td>500,000.00</td>\n",
       "    </tr>\n",
       "    <tr>\n",
       "      <th>126</th>\n",
       "      <td>JOSE ANTONIO BARROS MUNHOZ</td>\n",
       "      <td>475,087.37</td>\n",
       "    </tr>\n",
       "    <tr>\n",
       "      <th>275</th>\n",
       "      <td>WILMA MARIA DE FARIA</td>\n",
       "      <td>420,000.00</td>\n",
       "    </tr>\n",
       "    <tr>\n",
       "      <th>139</th>\n",
       "      <td>JOSÉ MELO DE OLIVEIRA</td>\n",
       "      <td>400,000.00</td>\n",
       "    </tr>\n",
       "  </tbody>\n",
       "</table>\n",
       "</div>"
      ],
      "text/plain": [
       "                                 nome_candidato  valor_receita\n",
       "33                         AÉCIO NEVES DA CUNHA   5,754,951.33\n",
       "87                     FERNANDO DAMATA PIMENTEL   2,309,925.00\n",
       "100          GERALDO THADEU PEDREIRA DOS SANTOS   1,000,000.00\n",
       "197  MARIA OSMARINA MARINA DA SILVA VAZ DE LIMA     954,834.34\n",
       "160               LEONARDO LEMOS BARROS QUINTÃO     838,717.61\n",
       "129      JOSE RENAN VASCONCELOS CALHEIROS FILHO     600,000.00\n",
       "159         LEONARDO CARNEIRO MONTEIRO PICCIANI     500,000.00\n",
       "126                  JOSE ANTONIO BARROS MUNHOZ     475,087.37\n",
       "275                        WILMA MARIA DE FARIA     420,000.00\n",
       "139                       JOSÉ MELO DE OLIVEIRA     400,000.00"
      ]
     },
     "execution_count": 50,
     "metadata": {},
     "output_type": "execute_result"
    }
   ],
   "source": [
    "farma_doadores_indiretos_2014.groupby(\"nome_candidato\").valor_receita.sum().reset_index().sort_values(\"valor_receita\", ascending=False).head(10)"
   ]
  },
  {
   "cell_type": "markdown",
   "metadata": {},
   "source": [
    "Tabela dinâmica doadores candidatos"
   ]
  },
  {
   "cell_type": "code",
   "execution_count": 51,
   "metadata": {},
   "outputs": [
    {
     "data": {
      "text/html": [
       "<div>\n",
       "<style scoped>\n",
       "    .dataframe tbody tr th:only-of-type {\n",
       "        vertical-align: middle;\n",
       "    }\n",
       "\n",
       "    .dataframe tbody tr th {\n",
       "        vertical-align: top;\n",
       "    }\n",
       "\n",
       "    .dataframe thead th {\n",
       "        text-align: right;\n",
       "    }\n",
       "</style>\n",
       "<table border=\"1\" class=\"dataframe\">\n",
       "  <thead>\n",
       "    <tr style=\"text-align: right;\">\n",
       "      <th></th>\n",
       "      <th></th>\n",
       "      <th>valor_receita</th>\n",
       "    </tr>\n",
       "    <tr>\n",
       "      <th>nome_doador_originario_receita</th>\n",
       "      <th>nome_candidato</th>\n",
       "      <th></th>\n",
       "    </tr>\n",
       "  </thead>\n",
       "  <tbody>\n",
       "    <tr>\n",
       "      <th>HYPERMARCAS S/A</th>\n",
       "      <th>AÉCIO NEVES DA CUNHA</th>\n",
       "      <td>4,999,999.27</td>\n",
       "    </tr>\n",
       "    <tr>\n",
       "      <th>LOGIMED DISTRIBUIDORA SOCIEDADE EMPRESARIA LIMITADA</th>\n",
       "      <th>FERNANDO DAMATA PIMENTEL</th>\n",
       "      <td>2,309,925.00</td>\n",
       "    </tr>\n",
       "    <tr>\n",
       "      <th>UNIAO QUIMICA FARMACEUTICA NACIONAL S A</th>\n",
       "      <th>GERALDO THADEU PEDREIRA DOS SANTOS</th>\n",
       "      <td>1,000,000.00</td>\n",
       "    </tr>\n",
       "    <tr>\n",
       "      <th>CRISTALIA PRODUTOS QUIMICOS FARMACEUTICOS LTDA</th>\n",
       "      <th>AÉCIO NEVES DA CUNHA</th>\n",
       "      <td>500,000.00</td>\n",
       "    </tr>\n",
       "    <tr>\n",
       "      <th>HOSP RIO MATERIAL HOSPITALAR LTDA</th>\n",
       "      <th>LEONARDO CARNEIRO MONTEIRO PICCIANI</th>\n",
       "      <td>500,000.00</td>\n",
       "    </tr>\n",
       "    <tr>\n",
       "      <th>CRISTALIA PRODUTOS QUIMICOS FARMACEUTICOS LTDA</th>\n",
       "      <th>JOSE ANTONIO BARROS MUNHOZ</th>\n",
       "      <td>475,000.00</td>\n",
       "    </tr>\n",
       "    <tr>\n",
       "      <th>LOGIMED DISTRIBUIDORA SOCIEDADE EMPRESARIA LIMITADA</th>\n",
       "      <th>WILMA MARIA DE FARIA</th>\n",
       "      <td>420,000.00</td>\n",
       "    </tr>\n",
       "    <tr>\n",
       "      <th>UNIAO QUIMICA FARMACEUTICA NACIONAL S A</th>\n",
       "      <th>JOSE RENAN VASCONCELOS CALHEIROS FILHO</th>\n",
       "      <td>400,000.00</td>\n",
       "    </tr>\n",
       "    <tr>\n",
       "      <th>MAPEMI BRASIL MATERIAIS MEDICOS E ODONTOLOGICOS LTDA</th>\n",
       "      <th>JOSÉ MELO DE OLIVEIRA</th>\n",
       "      <td>400,000.00</td>\n",
       "    </tr>\n",
       "    <tr>\n",
       "      <th>LOGIMED DISTRIBUIDORA SOCIEDADE EMPRESARIA LIMITADA</th>\n",
       "      <th>MARIA OSMARINA MARINA DA SILVA VAZ DE LIMA</th>\n",
       "      <td>398,160.09</td>\n",
       "    </tr>\n",
       "  </tbody>\n",
       "</table>\n",
       "</div>"
      ],
      "text/plain": [
       "                                                                                               valor_receita\n",
       "nome_doador_originario_receita                     nome_candidato                                           \n",
       "HYPERMARCAS S/A                                    AÉCIO NEVES DA CUNHA                         4,999,999.27\n",
       "LOGIMED DISTRIBUIDORA SOCIEDADE EMPRESARIA LIMI... FERNANDO DAMATA PIMENTEL                     2,309,925.00\n",
       "UNIAO QUIMICA FARMACEUTICA NACIONAL S A            GERALDO THADEU PEDREIRA DOS SANTOS           1,000,000.00\n",
       "CRISTALIA PRODUTOS QUIMICOS FARMACEUTICOS LTDA     AÉCIO NEVES DA CUNHA                           500,000.00\n",
       "HOSP RIO MATERIAL HOSPITALAR LTDA                  LEONARDO CARNEIRO MONTEIRO PICCIANI            500,000.00\n",
       "CRISTALIA PRODUTOS QUIMICOS FARMACEUTICOS LTDA     JOSE ANTONIO BARROS MUNHOZ                     475,000.00\n",
       "LOGIMED DISTRIBUIDORA SOCIEDADE EMPRESARIA LIMI... WILMA MARIA DE FARIA                           420,000.00\n",
       "UNIAO QUIMICA FARMACEUTICA NACIONAL S A            JOSE RENAN VASCONCELOS CALHEIROS FILHO         400,000.00\n",
       "MAPEMI BRASIL MATERIAIS MEDICOS E ODONTOLOGICOS... JOSÉ MELO DE OLIVEIRA                          400,000.00\n",
       "LOGIMED DISTRIBUIDORA SOCIEDADE EMPRESARIA LIMI... MARIA OSMARINA MARINA DA SILVA VAZ DE LIMA     398,160.09"
      ]
     },
     "execution_count": 51,
     "metadata": {},
     "output_type": "execute_result"
    }
   ],
   "source": [
    "tabela = pd.pivot_table(farma_doadores_indiretos_2014,index=[\"nome_doador_originario_receita\",\"nome_candidato\"], values=[\"valor_receita\"], aggfunc=np.sum)\n",
    "result = tabela.sort_values('valor_receita', ascending=False).head(10)\n",
    "result"
   ]
  },
  {
   "cell_type": "code",
   "execution_count": null,
   "metadata": {},
   "outputs": [],
   "source": []
  },
  {
   "cell_type": "markdown",
   "metadata": {},
   "source": [
    "2018"
   ]
  },
  {
   "cell_type": "markdown",
   "metadata": {},
   "source": [
    "Não havia essa informação"
   ]
  },
  {
   "cell_type": "code",
   "execution_count": null,
   "metadata": {},
   "outputs": [],
   "source": []
  },
  {
   "cell_type": "code",
   "execution_count": null,
   "metadata": {},
   "outputs": [],
   "source": []
  }
 ],
 "metadata": {
  "kernelspec": {
   "display_name": "Python 3",
   "language": "python",
   "name": "python3"
  },
  "language_info": {
   "codemirror_mode": {
    "name": "ipython",
    "version": 3
   },
   "file_extension": ".py",
   "mimetype": "text/x-python",
   "name": "python",
   "nbconvert_exporter": "python",
   "pygments_lexer": "ipython3",
   "version": "3.6.8"
  }
 },
 "nbformat": 4,
 "nbformat_minor": 2
}
