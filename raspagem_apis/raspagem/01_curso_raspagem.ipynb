{
 "cells": [
  {
   "cell_type": "code",
   "execution_count": 1,
   "metadata": {},
   "outputs": [],
   "source": [
    "# -*- coding: utf-8\n",
    "# Abraji (https://www.abraji.org.br)\n",
    "# Reinaldo Chaves (reinaldo@abraji.org.br)\n",
    "# Programa 01 do curso Técnicas de raspagem de dados e acesso a APIs\n",
    "#"
   ]
  },
  {
   "cell_type": "code",
   "execution_count": null,
   "metadata": {},
   "outputs": [],
   "source": []
  },
  {
   "cell_type": "code",
   "execution_count": 2,
   "metadata": {},
   "outputs": [],
   "source": [
    "# Importa a biblioteca\n",
    "import requests"
   ]
  },
  {
   "cell_type": "code",
   "execution_count": null,
   "metadata": {},
   "outputs": [],
   "source": []
  },
  {
   "cell_type": "code",
   "execution_count": 3,
   "metadata": {},
   "outputs": [],
   "source": [
    "# Faz a requisicao inicial no site onde estão as tabelas\n",
    "requisicao = requests.get(\"https://qualipraia.cetesb.sp.gov.br/qualidade-da-praia/\")"
   ]
  },
  {
   "cell_type": "code",
   "execution_count": null,
   "metadata": {},
   "outputs": [],
   "source": []
  },
  {
   "cell_type": "code",
   "execution_count": 4,
   "metadata": {},
   "outputs": [],
   "source": [
    "# Retorna apenas o texto HTML\n",
    "requisicao_html = requisicao.text"
   ]
  },
  {
   "cell_type": "code",
   "execution_count": null,
   "metadata": {},
   "outputs": [],
   "source": []
  },
  {
   "cell_type": "code",
   "execution_count": 5,
   "metadata": {},
   "outputs": [
    {
     "data": {
      "text/plain": [
       "54083"
      ]
     },
     "execution_count": 5,
     "metadata": {},
     "output_type": "execute_result"
    }
   ],
   "source": [
    "# Mostra a quantidade de caracteres\n",
    "len(requisicao_html)"
   ]
  },
  {
   "cell_type": "code",
   "execution_count": null,
   "metadata": {},
   "outputs": [],
   "source": []
  },
  {
   "cell_type": "code",
   "execution_count": 6,
   "metadata": {},
   "outputs": [
    {
     "name": "stdout",
     "output_type": "stream",
     "text": [
      "ï»¿<html>\n",
      "<head>\n",
      "<title>CETESB</title>\n",
      "<link href=\"/media/styles/estrutura.css\" rel=\"stylesheet\" type=\"text/css\" />\n",
      "<link href=\"/media/styles/hotSite.css\" rel=\"stylesheet\" type=\"text/css\" />\n",
      "</head>\n",
      "<body>\n",
      "\n",
      "<div id=\"conteudo\">\n",
      "     <div id=\"conteudoHotSite\">\n",
      "  \n",
      "\t\n",
      "        <h2>Boletim Semanal - Qualidade das Praias - 2019</h2>\n",
      "        <!--<div style=\"margin-top:10px; margin-bottom:10px; padding:0; float:left; width:759px;\"><p style=\"margin:0; padding:0;\"><h2>PerÃ­odo de Amostragem:</h2> <h3><font color='#000000'>De 19/05/2019 atÃ© 16/06/2019</font></h3></p>-->\n",
      "        <div style=\"margin-top:10px; margin-bottom:10px; padding:0; float:left; width:759px;\"><p style=\"margin:0; padding:0;\"><h2>PerÃ­odo de Amostragem:</h2> <h3><font color='#000000'>De 19/05/2019 atÃ© 16/06/2019</font></h3></p>\n",
      "\t\t\n",
      "\t\t\n",
      "\t\t\n",
      "        </div>\n",
      "\n",
      "\n",
      "\n",
      "\n",
      "<!-- Webservice RegiÃ£o -->\n",
      "<h2>Litoral Norte</h2>\n",
      "<h2>Ubatuba</h2>\n",
      "<table width='800'>\n",
      "  <tr>\n",
      "    <td align='left'><b>Praia</b></td><td><b>Local</b\n"
     ]
    }
   ],
   "source": [
    "#Vamos apenas ver o que está apenas nos primeiros 1000 caracteres \n",
    "print(requisicao_html[0:1000])"
   ]
  },
  {
   "cell_type": "code",
   "execution_count": null,
   "metadata": {},
   "outputs": [],
   "source": []
  }
 ],
 "metadata": {
  "kernelspec": {
   "display_name": "Python 3",
   "language": "python",
   "name": "python3"
  },
  "language_info": {
   "codemirror_mode": {
    "name": "ipython",
    "version": 3
   },
   "file_extension": ".py",
   "mimetype": "text/x-python",
   "name": "python",
   "nbconvert_exporter": "python",
   "pygments_lexer": "ipython3",
   "version": "3.6.8"
  }
 },
 "nbformat": 4,
 "nbformat_minor": 2
}
