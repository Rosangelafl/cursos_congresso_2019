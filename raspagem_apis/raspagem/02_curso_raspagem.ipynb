{
 "cells": [
  {
   "cell_type": "code",
   "execution_count": 1,
   "metadata": {},
   "outputs": [],
   "source": [
    "# -*- coding: utf-8\n",
    "# Abraji (https://www.abraji.org.br)\n",
    "# Reinaldo Chaves (reinaldo@abraji.org.br)\n",
    "# Programa 02 do curso Técnicas de raspagem de dados e acesso a APIs\n",
    "#"
   ]
  },
  {
   "cell_type": "code",
   "execution_count": null,
   "metadata": {},
   "outputs": [],
   "source": []
  },
  {
   "cell_type": "markdown",
   "metadata": {},
   "source": [
    "Aqui um exemplo de lista - com o sinal de [ ]"
   ]
  },
  {
   "cell_type": "code",
   "execution_count": 2,
   "metadata": {},
   "outputs": [],
   "source": [
    "# Uma lista de estudantes por classe\n",
    "classroom0 = ['Alice','Bob','Carol','Dave']\n",
    "classroom1 = ['Eve','Frank','Grace','Harold']\n",
    "classroom2 = ['Isabel','Jack','Katy','Lloyd']\n",
    "classroom3 = ['Maria','Nate','Olivia','Philip']"
   ]
  },
  {
   "cell_type": "code",
   "execution_count": null,
   "metadata": {},
   "outputs": [],
   "source": []
  },
  {
   "cell_type": "code",
   "execution_count": 3,
   "metadata": {},
   "outputs": [
    {
     "data": {
      "text/plain": [
       "['Alice', 'Bob', 'Carol', 'Dave']"
      ]
     },
     "execution_count": 3,
     "metadata": {},
     "output_type": "execute_result"
    }
   ],
   "source": [
    "classroom0"
   ]
  },
  {
   "cell_type": "code",
   "execution_count": null,
   "metadata": {},
   "outputs": [],
   "source": []
  },
  {
   "cell_type": "code",
   "execution_count": 5,
   "metadata": {},
   "outputs": [],
   "source": [
    "# Listas de escolas, formadas pelas classes\n",
    "school0 = [classroom0,classroom1]\n",
    "school1 = [classroom2,classroom3]"
   ]
  },
  {
   "cell_type": "code",
   "execution_count": null,
   "metadata": {},
   "outputs": [],
   "source": []
  },
  {
   "cell_type": "code",
   "execution_count": 6,
   "metadata": {},
   "outputs": [
    {
     "data": {
      "text/plain": [
       "[['Alice', 'Bob', 'Carol', 'Dave'], ['Eve', 'Frank', 'Grace', 'Harold']]"
      ]
     },
     "execution_count": 6,
     "metadata": {},
     "output_type": "execute_result"
    }
   ],
   "source": [
    "school0 "
   ]
  },
  {
   "cell_type": "code",
   "execution_count": null,
   "metadata": {},
   "outputs": [],
   "source": []
  },
  {
   "cell_type": "code",
   "execution_count": 7,
   "metadata": {},
   "outputs": [],
   "source": [
    "# Agora a lista do distrito, formada pelas escolas\n",
    "school_district = [school0,school1]"
   ]
  },
  {
   "cell_type": "code",
   "execution_count": null,
   "metadata": {},
   "outputs": [],
   "source": []
  },
  {
   "cell_type": "code",
   "execution_count": 8,
   "metadata": {},
   "outputs": [
    {
     "data": {
      "text/plain": [
       "[[['Alice', 'Bob', 'Carol', 'Dave'], ['Eve', 'Frank', 'Grace', 'Harold']],\n",
       " [['Isabel', 'Jack', 'Katy', 'Lloyd'], ['Maria', 'Nate', 'Olivia', 'Philip']]]"
      ]
     },
     "execution_count": 8,
     "metadata": {},
     "output_type": "execute_result"
    }
   ],
   "source": [
    "# Veja o resultado\n",
    "school_district"
   ]
  },
  {
   "cell_type": "code",
   "execution_count": null,
   "metadata": {},
   "outputs": [],
   "source": []
  },
  {
   "cell_type": "markdown",
   "metadata": {},
   "source": [
    "Agora um exemplo de dicionário, de dados de cidades da Bahia - https://cidades.ibge.gov.br/brasil/ba/anage/panorama\n",
    "\n",
    "Caracterizado por { }"
   ]
  },
  {
   "cell_type": "code",
   "execution_count": 10,
   "metadata": {},
   "outputs": [],
   "source": [
    "cidades_ba = {'Anagé': {'Gentilico': 'anageense',\n",
    "                              'Area': 1336.361,\n",
    "                              'PIB_per_capita': 8089.98,\n",
    "                              'Mortalidade_infantil': 21.43,\n",
    "                              'Pessoal_ocupado': 1262,\n",
    "                              'Populacao': 18194,\n",
    "                              'Prefeito': 'ELEN ZITE PEREIRA DOS SANTOS'},\n",
    "              'Amargosa': {'Gentilico': 'amargosense',\n",
    "                              'Area': 431.673,\n",
    "                              'PIB_per_capita': 8892.67,\n",
    "                              'Mortalidade_infantil': 8.81,\n",
    "                              'Pessoal_ocupado': 3506,\n",
    "                              'Populacao': 37031,\n",
    "                              'Prefeito': 'JULIO PINHEIRO DOS SANTOS JUNIOR'},\n",
    "              'Riachão do Jacuípe': {'Gentilico': 'jacuipense',\n",
    "                              'Area': 1155.418,\n",
    "                              'PIB_per_capita': 9361.70,\n",
    "                              'Mortalidade_infantil': 12.76,\n",
    "                              'Pessoal_ocupado': 3292,\n",
    "                              'Populacao': 33403,\n",
    "                              'Prefeito': 'JOSÉ RAMIRO FERREIRA FILHO'}}"
   ]
  },
  {
   "cell_type": "code",
   "execution_count": null,
   "metadata": {},
   "outputs": [],
   "source": []
  },
  {
   "cell_type": "code",
   "execution_count": 11,
   "metadata": {},
   "outputs": [
    {
     "data": {
      "text/plain": [
       "dict_keys(['Anagé', 'Amargosa', 'Riachão do Jacuípe'])"
      ]
     },
     "execution_count": 11,
     "metadata": {},
     "output_type": "execute_result"
    }
   ],
   "source": [
    "#Vamos ver as chaves deste dicionário\n",
    "cidades_ba.keys()"
   ]
  },
  {
   "cell_type": "code",
   "execution_count": null,
   "metadata": {},
   "outputs": [],
   "source": []
  },
  {
   "cell_type": "code",
   "execution_count": 12,
   "metadata": {},
   "outputs": [
    {
     "data": {
      "text/plain": [
       "dict_values([{'Gentilico': 'anageense', 'Area': 1336.361, 'PIB_per_capita': 8089.98, 'Mortalidade_infantil': 21.43, 'Pessoal_ocupado': 1262, 'Populacao': 18194, 'Prefeito': 'ELEN ZITE PEREIRA DOS SANTOS'}, {'Gentilico': 'amargosense', 'Area': 431.673, 'PIB_per_capita': 8892.67, 'Mortalidade_infantil': 8.81, 'Pessoal_ocupado': 3506, 'Populacao': 37031, 'Prefeito': 'JULIO PINHEIRO DOS SANTOS JUNIOR'}, {'Gentilico': 'jacuipense', 'Area': 1155.418, 'PIB_per_capita': 9361.7, 'Mortalidade_infantil': 12.76, 'Pessoal_ocupado': 3292, 'Populacao': 33403, 'Prefeito': 'JOSÉ RAMIRO FERREIRA FILHO'}])"
      ]
     },
     "execution_count": 12,
     "metadata": {},
     "output_type": "execute_result"
    }
   ],
   "source": [
    "#E os valores\n",
    "cidades_ba.values()"
   ]
  },
  {
   "cell_type": "code",
   "execution_count": null,
   "metadata": {},
   "outputs": [],
   "source": []
  },
  {
   "cell_type": "code",
   "execution_count": 13,
   "metadata": {},
   "outputs": [
    {
     "data": {
      "text/plain": [
       "{'Gentilico': 'jacuipense',\n",
       " 'Area': 1155.418,\n",
       " 'PIB_per_capita': 9361.7,\n",
       " 'Mortalidade_infantil': 12.76,\n",
       " 'Pessoal_ocupado': 3292,\n",
       " 'Populacao': 33403,\n",
       " 'Prefeito': 'JOSÉ RAMIRO FERREIRA FILHO'}"
      ]
     },
     "execution_count": 13,
     "metadata": {},
     "output_type": "execute_result"
    }
   ],
   "source": [
    "#Você acessa os valores do dicionário por suas chaves\n",
    "cidades_ba['Riachão do Jacuípe']"
   ]
  },
  {
   "cell_type": "code",
   "execution_count": null,
   "metadata": {},
   "outputs": [],
   "source": []
  },
  {
   "cell_type": "code",
   "execution_count": 14,
   "metadata": {},
   "outputs": [
    {
     "data": {
      "text/plain": [
       "37031"
      ]
     },
     "execution_count": 14,
     "metadata": {},
     "output_type": "execute_result"
    }
   ],
   "source": [
    "#Qual é a população do Amargosa? Em um dicionário de dicionários, você pode acessar o dicionário interno com outra chave.\n",
    "cidades_ba['Amargosa']['Populacao']"
   ]
  },
  {
   "cell_type": "code",
   "execution_count": null,
   "metadata": {},
   "outputs": [],
   "source": []
  }
 ],
 "metadata": {
  "kernelspec": {
   "display_name": "Python 3",
   "language": "python",
   "name": "python3"
  },
  "language_info": {
   "codemirror_mode": {
    "name": "ipython",
    "version": 3
   },
   "file_extension": ".py",
   "mimetype": "text/x-python",
   "name": "python",
   "nbconvert_exporter": "python",
   "pygments_lexer": "ipython3",
   "version": "3.6.8"
  }
 },
 "nbformat": 4,
 "nbformat_minor": 2
}
