{
 "cells": [
  {
   "cell_type": "code",
   "execution_count": 1,
   "metadata": {},
   "outputs": [],
   "source": [
    "# -*- coding: utf-8\n",
    "# Abraji (https://www.abraji.org.br)\n",
    "# Reinaldo Chaves (reinaldo@abraji.org.br)\n",
    "# Acessa gastos de vereadores da Câmara Municipal de São Paulo\n",
    "#"
   ]
  },
  {
   "cell_type": "code",
   "execution_count": null,
   "metadata": {},
   "outputs": [],
   "source": []
  },
  {
   "cell_type": "code",
   "execution_count": 1,
   "metadata": {},
   "outputs": [],
   "source": [
    "import requests\n",
    "from bs4 import BeautifulSoup\n",
    "import pandas as pd"
   ]
  },
  {
   "cell_type": "markdown",
   "metadata": {},
   "source": [
    "Dica de Pedro Burgos: https://github.com/BurgosNY"
   ]
  },
  {
   "cell_type": "code",
   "execution_count": null,
   "metadata": {},
   "outputs": [],
   "source": []
  },
  {
   "cell_type": "markdown",
   "metadata": {},
   "source": [
    "Relatório Mensal por Natureza de Despesas da Câmara de Vereadores de SP\n",
    "\n",
    "http://www.saopaulo.sp.leg.br/relatorio-por-natureza-de-despesa-partir-de-2015/"
   ]
  },
  {
   "cell_type": "code",
   "execution_count": null,
   "metadata": {},
   "outputs": [],
   "source": []
  },
  {
   "cell_type": "code",
   "execution_count": null,
   "metadata": {},
   "outputs": [],
   "source": [
    "# Exemplo de janeiro de 2019"
   ]
  },
  {
   "cell_type": "code",
   "execution_count": null,
   "metadata": {},
   "outputs": [],
   "source": [
    "# No meu computador foi necessário fazer essas verificações de encoding e adaptações\n",
    "# Isso depende de cada configuração e também do site que será raspado\n",
    "# Talvez no seu computador não seja necessário"
   ]
  },
  {
   "cell_type": "code",
   "execution_count": 2,
   "metadata": {},
   "outputs": [
    {
     "data": {
      "text/plain": [
       "'ISO-8859-1'"
      ]
     },
     "execution_count": 2,
     "metadata": {},
     "output_type": "execute_result"
    }
   ],
   "source": [
    "req = requests.get('https://sisgvarmazenamento.blob.core.windows.net/prd/PublicacaoPortal/Arquivos/201901.htm')\n",
    "req.encoding"
   ]
  },
  {
   "cell_type": "code",
   "execution_count": null,
   "metadata": {},
   "outputs": [],
   "source": []
  },
  {
   "cell_type": "code",
   "execution_count": 3,
   "metadata": {},
   "outputs": [],
   "source": [
    "# Quando você recebe uma resposta, Requests faz uma suposição sobre a codificação a ser usada para decodificar a resposta quando você acessa o atributo Response.text. \n",
    "# As solicitações primeiro verificarão uma codificação no cabeçalho HTTP e, se nenhuma estiver presente, usarão o chardet para tentar adivinhar a codificação.\n",
    "\n",
    "# A única vez que Requests não fará isso é se nenhum charset explícito estiver presente nos cabeçalhos HTTP e o cabeçalho Content-Type contiver texto. \n",
    "# Nessa situação, o RFC 2616 especifica que o conjunto de caracteres padrão deve ser ISO-8859-1. \n",
    "# Requests segue a especificação neste caso. Se você precisar de uma codificação diferente, poderá definir manualmente a propriedade Response.encoding ou usar o Response.content bruto."
   ]
  },
  {
   "cell_type": "code",
   "execution_count": null,
   "metadata": {},
   "outputs": [],
   "source": []
  },
  {
   "cell_type": "code",
   "execution_count": 5,
   "metadata": {},
   "outputs": [],
   "source": [
    "# Inspecionar os cabeçalhos de solicitação mostra que, de fato, \"nenhum charset explícito está presente nos cabeçalhos HTTP e o cabeçalho Content-Type contém texto\""
   ]
  },
  {
   "cell_type": "code",
   "execution_count": 6,
   "metadata": {},
   "outputs": [
    {
     "data": {
      "text/plain": [
       "'text/html'"
      ]
     },
     "execution_count": 6,
     "metadata": {},
     "output_type": "execute_result"
    }
   ],
   "source": [
    "req.headers['content-type']"
   ]
  },
  {
   "cell_type": "code",
   "execution_count": null,
   "metadata": {},
   "outputs": [],
   "source": []
  },
  {
   "cell_type": "code",
   "execution_count": null,
   "metadata": {},
   "outputs": [],
   "source": [
    "# Portanto, o request segue fielmente o padrão e são decodificadas como ISO-8859-1 (latin-1).\n",
    "\n",
    "# No conteúdo da resposta, um conjunto de caracteres é especificado"
   ]
  },
  {
   "cell_type": "code",
   "execution_count": null,
   "metadata": {},
   "outputs": [],
   "source": []
  },
  {
   "cell_type": "code",
   "execution_count": 7,
   "metadata": {},
   "outputs": [],
   "source": [
    "# No entanto, isso está errado: a decodificação como UTF-16 produz mojibake \n",
    "# Que é o texto truncado que é o resultado do texto ser decodificado usando uma codificação de caracteres não intencional"
   ]
  },
  {
   "cell_type": "code",
   "execution_count": null,
   "metadata": {},
   "outputs": [],
   "source": []
  },
  {
   "cell_type": "code",
   "execution_count": null,
   "metadata": {},
   "outputs": [],
   "source": [
    "# O chardet identifica corretamente a codificação como UTF-8."
   ]
  },
  {
   "cell_type": "code",
   "execution_count": null,
   "metadata": {},
   "outputs": [],
   "source": []
  },
  {
   "cell_type": "code",
   "execution_count": 8,
   "metadata": {},
   "outputs": [],
   "source": [
    "#Então, para resumir:\n",
    "\n",
    "# Não há uma maneira geral de determinar a codificação de texto com precisão total\n",
    "# Nesse caso específico, a codificação correta é UTF-8."
   ]
  },
  {
   "cell_type": "code",
   "execution_count": null,
   "metadata": {},
   "outputs": [],
   "source": []
  },
  {
   "cell_type": "code",
   "execution_count": 9,
   "metadata": {},
   "outputs": [],
   "source": [
    "# Então eu preciso trocar manualmente o encoding aqui"
   ]
  },
  {
   "cell_type": "code",
   "execution_count": 10,
   "metadata": {},
   "outputs": [],
   "source": [
    "req.encoding = 'UTF-8'"
   ]
  },
  {
   "cell_type": "code",
   "execution_count": 11,
   "metadata": {},
   "outputs": [],
   "source": [
    "sopa = BeautifulSoup(req.text,'lxml')"
   ]
  },
  {
   "cell_type": "code",
   "execution_count": null,
   "metadata": {},
   "outputs": [],
   "source": []
  },
  {
   "cell_type": "code",
   "execution_count": 12,
   "metadata": {},
   "outputs": [],
   "source": [
    "# Exemplo capta título principal"
   ]
  },
  {
   "cell_type": "code",
   "execution_count": 13,
   "metadata": {},
   "outputs": [
    {
     "data": {
      "text/plain": [
       "'\\r\\n                        CÂMARA MUNICIPAL DE SÃO PAULO'"
      ]
     },
     "execution_count": 13,
     "metadata": {},
     "output_type": "execute_result"
    }
   ],
   "source": [
    "sopa.find('h1').text"
   ]
  },
  {
   "cell_type": "code",
   "execution_count": null,
   "metadata": {},
   "outputs": [],
   "source": []
  },
  {
   "cell_type": "code",
   "execution_count": 14,
   "metadata": {},
   "outputs": [],
   "source": [
    "# Em Inspecionar elemento vemos que cada tabela de vereador fica em table e class=bloco"
   ]
  },
  {
   "cell_type": "code",
   "execution_count": 15,
   "metadata": {},
   "outputs": [],
   "source": [
    "# Mostra a primeira tabela"
   ]
  },
  {
   "cell_type": "code",
   "execution_count": 16,
   "metadata": {},
   "outputs": [
    {
     "data": {
      "text/plain": [
       "<table border=\"0\" class=\"bloco\" width=\"100%\">\n",
       "<tr>\n",
       "<td>\n",
       "<p class=\"itembusca\"><b>\n",
       "                        Vereador(a): ADILSON AMADEU</b></p>\n",
       "</td>\n",
       "</tr>\n",
       "<tr>\n",
       "<td>\n",
       "<table align=\"center\" border=\"1\" width=\"100%\">\n",
       "<tr>\n",
       "<td colspan=\"2\">Natureza da despesa</td>\n",
       "<td>Valor utilizado</td>\n",
       "</tr>\n",
       "<tr>\n",
       "<td colspan=\"3\">INTERMEDIADO - CORREIOS</td>\n",
       "</tr>\n",
       "<tr>\n",
       "<td width=\"15%\">50.176.288/0001-28</td>\n",
       "<td width=\"60%\">CAMARA MUNICIPAL DE SÃO PAULO</td>\n",
       "<td align=\"RIGHT\" width=\"20%\">5.020,12</td>\n",
       "</tr>\n",
       "<tr>\n",
       "<td align=\"RIGHT\" colspan=\"2\">TOTAL DO ITEM</td>\n",
       "<td align=\"RIGHT\">5.020,12</td>\n",
       "</tr>\n",
       "<tr>\n",
       "<td colspan=\"3\">INTERMEDIADO - LOCAÇÃO DE VEÍCULOS</td>\n",
       "</tr>\n",
       "<tr>\n",
       "<td width=\"15%\">50.176.288/0001-28</td>\n",
       "<td width=\"60%\">CAMARA MUNICIPAL DE SÃO PAULO</td>\n",
       "<td align=\"RIGHT\" width=\"20%\">2.199,17</td>\n",
       "</tr>\n",
       "<tr>\n",
       "<td align=\"RIGHT\" colspan=\"2\">TOTAL DO ITEM</td>\n",
       "<td align=\"RIGHT\">2.199,17</td>\n",
       "</tr>\n",
       "<tr>\n",
       "<td align=\"RIGHT\" colspan=\"2\">TOTAL DO MÊS</td>\n",
       "<td align=\"RIGHT\">7.219,29</td>\n",
       "</tr>\n",
       "</table>\n",
       "</td>\n",
       "</tr>\n",
       "<tr>\n",
       "<td> </td>\n",
       "</tr>\n",
       "<tr>\n",
       "<td>\n",
       "<table border=\"0\" width=\"100%\">\n",
       "<tr>\n",
       "<td>\n",
       "<table align=\"center\" border=\"1\" width=\"100%\">\n",
       "<tr>\n",
       "<td colspan=\"2\">RESUMO DO MÊS DO AUXÍLIO-ENCARGOS GERAIS DE GABINETE</td>\n",
       "</tr>\n",
       "<tr>\n",
       "<td width=\"15%\">\n",
       "                                VALORES DISPONIBILIZADOS\n",
       "                              </td>\n",
       "<td align=\"RIGHT\" width=\"20%\">24.871,88</td>\n",
       "</tr>\n",
       "<tr>\n",
       "<td width=\"15%\">\n",
       "                                VALORES GASTOS\n",
       "                              </td>\n",
       "<td align=\"RIGHT\" width=\"20%\">7.219,29</td>\n",
       "</tr>\n",
       "</table>\n",
       "</td>\n",
       "</tr>\n",
       "<tr>\n",
       "<td> </td>\n",
       "</tr>\n",
       "</table>\n",
       "</td>\n",
       "</tr>\n",
       "<table border=\"0\" width=\"100%\">\n",
       "<tr>\n",
       "<td>\n",
       "<table align=\"center\" border=\"1\" width=\"100%\">\n",
       "<tr>\n",
       "<td colspan=\"2\">RESUMO DO ANO DO AUXÍLIO-ENCARGOS GERAIS DE GABINETE</td>\n",
       "</tr>\n",
       "<tr>\n",
       "<td width=\"15%\">\n",
       "                        VALORES DISPONIBILIZADOS\n",
       "                      </td>\n",
       "<td align=\"RIGHT\" width=\"20%\">24.871,88</td>\n",
       "</tr>\n",
       "<tr>\n",
       "<td width=\"15%\">\n",
       "                        VALORES GASTOS\n",
       "                      </td>\n",
       "<td align=\"RIGHT\" width=\"20%\">7.219,29</td>\n",
       "</tr>\n",
       "</table>\n",
       "</td>\n",
       "</tr>\n",
       "<tr>\n",
       "<td> </td>\n",
       "</tr>\n",
       "</table>\n",
       "<tr>\n",
       "<td> </td>\n",
       "</tr>\n",
       "</table>"
      ]
     },
     "execution_count": 16,
     "metadata": {},
     "output_type": "execute_result"
    }
   ],
   "source": [
    "sopa.find(\"table\", {\"class\": \"bloco\"})"
   ]
  },
  {
   "cell_type": "code",
   "execution_count": null,
   "metadata": {},
   "outputs": [],
   "source": []
  },
  {
   "cell_type": "code",
   "execution_count": 17,
   "metadata": {},
   "outputs": [],
   "source": [
    "# Extrai todos os blocos"
   ]
  },
  {
   "cell_type": "code",
   "execution_count": 18,
   "metadata": {},
   "outputs": [],
   "source": [
    "blocos = sopa.findAll(\"table\", {\"class\": \"bloco\"})"
   ]
  },
  {
   "cell_type": "code",
   "execution_count": null,
   "metadata": {},
   "outputs": [],
   "source": []
  },
  {
   "cell_type": "markdown",
   "metadata": {},
   "source": [
    "Exemplos de como navegar"
   ]
  },
  {
   "cell_type": "code",
   "execution_count": 19,
   "metadata": {},
   "outputs": [],
   "source": [
    "# O nome do quinto vereador"
   ]
  },
  {
   "cell_type": "code",
   "execution_count": 20,
   "metadata": {},
   "outputs": [
    {
     "data": {
      "text/plain": [
       "'Vereador(a): ANDRÉ SANTOS'"
      ]
     },
     "execution_count": 20,
     "metadata": {},
     "output_type": "execute_result"
    }
   ],
   "source": [
    "blocos[4].find(\"p\").text.strip()"
   ]
  },
  {
   "cell_type": "code",
   "execution_count": null,
   "metadata": {},
   "outputs": [],
   "source": []
  },
  {
   "cell_type": "code",
   "execution_count": 21,
   "metadata": {},
   "outputs": [],
   "source": [
    "# Seu gasto total está na tag td"
   ]
  },
  {
   "cell_type": "code",
   "execution_count": 22,
   "metadata": {},
   "outputs": [],
   "source": [
    "tds = blocos[4].find_all(\"td\")"
   ]
  },
  {
   "cell_type": "code",
   "execution_count": 24,
   "metadata": {},
   "outputs": [],
   "source": [
    "#tds"
   ]
  },
  {
   "cell_type": "code",
   "execution_count": null,
   "metadata": {},
   "outputs": [],
   "source": []
  },
  {
   "cell_type": "code",
   "execution_count": 25,
   "metadata": {},
   "outputs": [],
   "source": [
    "# E o valor final na antepenúltima td"
   ]
  },
  {
   "cell_type": "code",
   "execution_count": 26,
   "metadata": {},
   "outputs": [
    {
     "data": {
      "text/plain": [
       "'15.636,94'"
      ]
     },
     "execution_count": 26,
     "metadata": {},
     "output_type": "execute_result"
    }
   ],
   "source": [
    "tds[-3].text"
   ]
  },
  {
   "cell_type": "code",
   "execution_count": null,
   "metadata": {},
   "outputs": [],
   "source": []
  },
  {
   "cell_type": "code",
   "execution_count": 27,
   "metadata": {},
   "outputs": [],
   "source": [
    "# Local com o nome dos vereadores"
   ]
  },
  {
   "cell_type": "code",
   "execution_count": 28,
   "metadata": {},
   "outputs": [],
   "source": [
    "primeiro_bloco = sopa.find(\"table\", {\"class\": \"bloco\"})"
   ]
  },
  {
   "cell_type": "code",
   "execution_count": 29,
   "metadata": {},
   "outputs": [
    {
     "data": {
      "text/plain": [
       "'Vereador(a): ADILSON AMADEU'"
      ]
     },
     "execution_count": 29,
     "metadata": {},
     "output_type": "execute_result"
    }
   ],
   "source": [
    "vereador = primeiro_bloco.find(\"p\").text.strip()\n",
    "vereador"
   ]
  },
  {
   "cell_type": "code",
   "execution_count": 30,
   "metadata": {},
   "outputs": [],
   "source": [
    "vereador = vereador.split(\": \")[1]"
   ]
  },
  {
   "cell_type": "code",
   "execution_count": 31,
   "metadata": {},
   "outputs": [
    {
     "data": {
      "text/plain": [
       "'ADILSON AMADEU'"
      ]
     },
     "execution_count": 31,
     "metadata": {},
     "output_type": "execute_result"
    }
   ],
   "source": [
    "vereador"
   ]
  },
  {
   "cell_type": "code",
   "execution_count": null,
   "metadata": {},
   "outputs": [],
   "source": []
  },
  {
   "cell_type": "code",
   "execution_count": 32,
   "metadata": {},
   "outputs": [],
   "source": [
    "# Faz uma iteração pelos blocos e armazena resultados"
   ]
  },
  {
   "cell_type": "code",
   "execution_count": 33,
   "metadata": {},
   "outputs": [
    {
     "name": "stdout",
     "output_type": "stream",
     "text": [
      "Vereador(a): ADILSON AMADEU\n",
      "Vereador(a): ADRIANA RAMALHO\n",
      "Vereador(a): ALESSANDRO GUEDES\n",
      "Vereador(a): ALFREDINHO\n",
      "Vereador(a): ANDRÉ SANTOS\n",
      "Vereador(a): ARSELINO TATTO\n",
      "Vereador(a): ATILIO FRANCISCO\n",
      "Vereador(a): AURELIO NOMURA\n",
      "Vereador(a): CAIO MIRANDA\n",
      "Vereador(a): CAMILO CRISTÓFARO\n",
      "Vereador(a): CELSO GIANNAZI\n",
      "Vereador(a): CELSO JATENE\n",
      "Vereador(a): CLAUDINHO DE SOUZA\n",
      "Vereador(a): CLAUDIO FONSECA\n",
      "Vereador(a): CONTE LOPES\n",
      "Vereador(a): DALTON SILVANO\n",
      "Vereador(a): DAVID SOARES\n",
      "Vereador(a): DONATO\n",
      "Vereador(a): EDIR SALES\n",
      "Vereador(a): EDUARDO MATARAZZO SUPLICY\n",
      "Vereador(a): EDUARDO TUMA\n",
      "Vereador(a): ELISEU GABRIEL\n",
      "Vereador(a): FABIO RIVA\n",
      "Vereador(a): FERNANDO HOLIDAY\n",
      "Vereador(a): GEORGE HATO\n",
      "Vereador(a): GILBERTO NASCIMENTO\n",
      "Vereador(a): GILSON BARRETO\n",
      "Vereador(a): ISAC FELIX\n",
      "Vereador(a): JAIR TATTO\n",
      "Vereador(a): JANAINA LIMA\n",
      "Vereador(a): JOSÉ POLICE NETO\n",
      "Vereador(a): JULIANA CARDOSO\n",
      "Vereador(a): MÁRIO COVAS NETO\n",
      "Vereador(a): MILTON FERREIRA\n",
      "Vereador(a): MILTON LEITE\n",
      "Vereador(a): NATALINI\n",
      "Vereador(a): NOEMI NONATO\n",
      "Vereador(a): OTA\n",
      "Vereador(a): PATRÍCIA BEZERRA\n",
      "Vereador(a): PAULO FRANGE\n",
      "Vereador(a): QUITO FORMIGA\n",
      "Vereador(a): REIS\n",
      "Vereador(a): RICARDO NUNES\n",
      "Vereador(a): RICARDO TEIXEIRA\n",
      "Vereador(a): RINALDI DIGILIO\n",
      "Vereador(a): RODRIGO GOULART\n",
      "Vereador(a): RUTE COSTA\n",
      "Vereador(a): SÂMIA BOMFIM\n",
      "Vereador(a): SANDRA TADEU\n",
      "Vereador(a): SENIVAL MOURA\n",
      "Vereador(a): SONINHA\n",
      "Vereador(a): SOUZA SANTOS\n",
      "Vereador(a): TONINHO PAIVA\n",
      "Vereador(a): TONINHO VESPOLI\n",
      "Vereador(a): XEXÉU TRIPOLI\n",
      "Vereador(a): ZÉ TURIN\n",
      "Liderança  PHS\n"
     ]
    }
   ],
   "source": [
    "planilha = [] # lista vazia armazenar os resultados\n",
    "\n",
    "for linha in blocos:\n",
    "    vereador = linha.find(\"p\").text.strip()\n",
    "    \n",
    "    print(vereador)\n",
    "    \n",
    "    if vereador.startswith(\"Liderança\"): # se o nome do vereador for Liderança não contabiliza\n",
    "        break\n",
    "    vereador = vereador.split(\": \")[1] # pega o segundo valor a partir da divisão :\n",
    "    vereador = vereador.title() # transforma em maiúscula\n",
    "    \n",
    "    celulas = linha.find_all(\"td\") # valores\n",
    "    valor = celulas[-3].text # valor total\n",
    "    \n",
    "    valor = valor.replace('.', '') # deixa no formato com decimal ,\n",
    "    valor = valor.replace(',','.') # deixa no formato com decimal ,\n",
    "    \n",
    "    dicionario = {\"vereador\": vereador, \"gasto\": float(valor)} # cria dicionário com o resultado\n",
    "    planilha.append(dicionario)"
   ]
  },
  {
   "cell_type": "code",
   "execution_count": null,
   "metadata": {},
   "outputs": [],
   "source": []
  },
  {
   "cell_type": "code",
   "execution_count": 34,
   "metadata": {},
   "outputs": [],
   "source": [
    "# Transforma em dataframe"
   ]
  },
  {
   "cell_type": "code",
   "execution_count": 35,
   "metadata": {},
   "outputs": [],
   "source": [
    "df = pd.DataFrame(planilha)"
   ]
  },
  {
   "cell_type": "code",
   "execution_count": 36,
   "metadata": {},
   "outputs": [
    {
     "name": "stdout",
     "output_type": "stream",
     "text": [
      "<class 'pandas.core.frame.DataFrame'>\n",
      "RangeIndex: 56 entries, 0 to 55\n",
      "Data columns (total 2 columns):\n",
      "gasto       56 non-null float64\n",
      "vereador    56 non-null object\n",
      "dtypes: float64(1), object(1)\n",
      "memory usage: 976.0+ bytes\n"
     ]
    }
   ],
   "source": [
    "df.info()"
   ]
  },
  {
   "cell_type": "code",
   "execution_count": 37,
   "metadata": {},
   "outputs": [
    {
     "data": {
      "text/html": [
       "<div>\n",
       "<style scoped>\n",
       "    .dataframe tbody tr th:only-of-type {\n",
       "        vertical-align: middle;\n",
       "    }\n",
       "\n",
       "    .dataframe tbody tr th {\n",
       "        vertical-align: top;\n",
       "    }\n",
       "\n",
       "    .dataframe thead th {\n",
       "        text-align: right;\n",
       "    }\n",
       "</style>\n",
       "<table border=\"1\" class=\"dataframe\">\n",
       "  <thead>\n",
       "    <tr style=\"text-align: right;\">\n",
       "      <th></th>\n",
       "      <th>index</th>\n",
       "      <th>gasto</th>\n",
       "      <th>vereador</th>\n",
       "    </tr>\n",
       "  </thead>\n",
       "  <tbody>\n",
       "    <tr>\n",
       "      <th>0</th>\n",
       "      <td>0</td>\n",
       "      <td>7219.29</td>\n",
       "      <td>Adilson Amadeu</td>\n",
       "    </tr>\n",
       "    <tr>\n",
       "      <th>1</th>\n",
       "      <td>1</td>\n",
       "      <td>21111.66</td>\n",
       "      <td>Adriana Ramalho</td>\n",
       "    </tr>\n",
       "    <tr>\n",
       "      <th>2</th>\n",
       "      <td>2</td>\n",
       "      <td>20431.91</td>\n",
       "      <td>Alessandro Guedes</td>\n",
       "    </tr>\n",
       "    <tr>\n",
       "      <th>3</th>\n",
       "      <td>3</td>\n",
       "      <td>22911.42</td>\n",
       "      <td>Alfredinho</td>\n",
       "    </tr>\n",
       "    <tr>\n",
       "      <th>4</th>\n",
       "      <td>4</td>\n",
       "      <td>15636.94</td>\n",
       "      <td>André Santos</td>\n",
       "    </tr>\n",
       "  </tbody>\n",
       "</table>\n",
       "</div>"
      ],
      "text/plain": [
       "   index     gasto           vereador\n",
       "0      0   7219.29     Adilson Amadeu\n",
       "1      1  21111.66    Adriana Ramalho\n",
       "2      2  20431.91  Alessandro Guedes\n",
       "3      3  22911.42         Alfredinho\n",
       "4      4  15636.94       André Santos"
      ]
     },
     "execution_count": 37,
     "metadata": {},
     "output_type": "execute_result"
    }
   ],
   "source": [
    "df.reset_index().head()"
   ]
  },
  {
   "cell_type": "code",
   "execution_count": null,
   "metadata": {},
   "outputs": [],
   "source": []
  },
  {
   "cell_type": "code",
   "execution_count": 38,
   "metadata": {},
   "outputs": [],
   "source": [
    "# Ordena gastos"
   ]
  },
  {
   "cell_type": "code",
   "execution_count": 39,
   "metadata": {},
   "outputs": [
    {
     "data": {
      "text/html": [
       "<div>\n",
       "<style scoped>\n",
       "    .dataframe tbody tr th:only-of-type {\n",
       "        vertical-align: middle;\n",
       "    }\n",
       "\n",
       "    .dataframe tbody tr th {\n",
       "        vertical-align: top;\n",
       "    }\n",
       "\n",
       "    .dataframe thead th {\n",
       "        text-align: right;\n",
       "    }\n",
       "</style>\n",
       "<table border=\"1\" class=\"dataframe\">\n",
       "  <thead>\n",
       "    <tr style=\"text-align: right;\">\n",
       "      <th></th>\n",
       "      <th>gasto</th>\n",
       "      <th>vereador</th>\n",
       "    </tr>\n",
       "  </thead>\n",
       "  <tbody>\n",
       "    <tr>\n",
       "      <th>31</th>\n",
       "      <td>24871.88</td>\n",
       "      <td>Juliana Cardoso</td>\n",
       "    </tr>\n",
       "    <tr>\n",
       "      <th>33</th>\n",
       "      <td>24871.88</td>\n",
       "      <td>Milton Ferreira</td>\n",
       "    </tr>\n",
       "    <tr>\n",
       "      <th>27</th>\n",
       "      <td>24123.88</td>\n",
       "      <td>Isac Felix</td>\n",
       "    </tr>\n",
       "    <tr>\n",
       "      <th>15</th>\n",
       "      <td>24113.44</td>\n",
       "      <td>Dalton Silvano</td>\n",
       "    </tr>\n",
       "    <tr>\n",
       "      <th>19</th>\n",
       "      <td>23704.16</td>\n",
       "      <td>Eduardo Matarazzo Suplicy</td>\n",
       "    </tr>\n",
       "    <tr>\n",
       "      <th>55</th>\n",
       "      <td>23555.01</td>\n",
       "      <td>Zé Turin</td>\n",
       "    </tr>\n",
       "    <tr>\n",
       "      <th>3</th>\n",
       "      <td>22911.42</td>\n",
       "      <td>Alfredinho</td>\n",
       "    </tr>\n",
       "    <tr>\n",
       "      <th>18</th>\n",
       "      <td>22183.60</td>\n",
       "      <td>Edir Sales</td>\n",
       "    </tr>\n",
       "    <tr>\n",
       "      <th>17</th>\n",
       "      <td>21882.66</td>\n",
       "      <td>Donato</td>\n",
       "    </tr>\n",
       "    <tr>\n",
       "      <th>6</th>\n",
       "      <td>21877.55</td>\n",
       "      <td>Atilio Francisco</td>\n",
       "    </tr>\n",
       "    <tr>\n",
       "      <th>9</th>\n",
       "      <td>21650.50</td>\n",
       "      <td>Camilo Cristófaro</td>\n",
       "    </tr>\n",
       "    <tr>\n",
       "      <th>1</th>\n",
       "      <td>21111.66</td>\n",
       "      <td>Adriana Ramalho</td>\n",
       "    </tr>\n",
       "    <tr>\n",
       "      <th>2</th>\n",
       "      <td>20431.91</td>\n",
       "      <td>Alessandro Guedes</td>\n",
       "    </tr>\n",
       "    <tr>\n",
       "      <th>26</th>\n",
       "      <td>19815.10</td>\n",
       "      <td>Gilson Barreto</td>\n",
       "    </tr>\n",
       "    <tr>\n",
       "      <th>36</th>\n",
       "      <td>19627.69</td>\n",
       "      <td>Noemi Nonato</td>\n",
       "    </tr>\n",
       "    <tr>\n",
       "      <th>47</th>\n",
       "      <td>19600.00</td>\n",
       "      <td>Sâmia Bomfim</td>\n",
       "    </tr>\n",
       "    <tr>\n",
       "      <th>53</th>\n",
       "      <td>19014.45</td>\n",
       "      <td>Toninho Vespoli</td>\n",
       "    </tr>\n",
       "    <tr>\n",
       "      <th>5</th>\n",
       "      <td>18650.45</td>\n",
       "      <td>Arselino Tatto</td>\n",
       "    </tr>\n",
       "    <tr>\n",
       "      <th>28</th>\n",
       "      <td>18034.13</td>\n",
       "      <td>Jair Tatto</td>\n",
       "    </tr>\n",
       "    <tr>\n",
       "      <th>39</th>\n",
       "      <td>17791.01</td>\n",
       "      <td>Paulo Frange</td>\n",
       "    </tr>\n",
       "    <tr>\n",
       "      <th>21</th>\n",
       "      <td>17708.66</td>\n",
       "      <td>Eliseu Gabriel</td>\n",
       "    </tr>\n",
       "    <tr>\n",
       "      <th>43</th>\n",
       "      <td>17630.27</td>\n",
       "      <td>Ricardo Teixeira</td>\n",
       "    </tr>\n",
       "    <tr>\n",
       "      <th>51</th>\n",
       "      <td>17079.70</td>\n",
       "      <td>Souza Santos</td>\n",
       "    </tr>\n",
       "    <tr>\n",
       "      <th>41</th>\n",
       "      <td>16830.58</td>\n",
       "      <td>Reis</td>\n",
       "    </tr>\n",
       "    <tr>\n",
       "      <th>7</th>\n",
       "      <td>16191.75</td>\n",
       "      <td>Aurelio Nomura</td>\n",
       "    </tr>\n",
       "    <tr>\n",
       "      <th>46</th>\n",
       "      <td>15984.87</td>\n",
       "      <td>Rute Costa</td>\n",
       "    </tr>\n",
       "    <tr>\n",
       "      <th>4</th>\n",
       "      <td>15636.94</td>\n",
       "      <td>André Santos</td>\n",
       "    </tr>\n",
       "    <tr>\n",
       "      <th>20</th>\n",
       "      <td>15599.78</td>\n",
       "      <td>Eduardo Tuma</td>\n",
       "    </tr>\n",
       "    <tr>\n",
       "      <th>49</th>\n",
       "      <td>15081.99</td>\n",
       "      <td>Senival Moura</td>\n",
       "    </tr>\n",
       "    <tr>\n",
       "      <th>45</th>\n",
       "      <td>13890.83</td>\n",
       "      <td>Rodrigo Goulart</td>\n",
       "    </tr>\n",
       "    <tr>\n",
       "      <th>50</th>\n",
       "      <td>13532.68</td>\n",
       "      <td>Soninha</td>\n",
       "    </tr>\n",
       "    <tr>\n",
       "      <th>52</th>\n",
       "      <td>13502.64</td>\n",
       "      <td>Toninho Paiva</td>\n",
       "    </tr>\n",
       "    <tr>\n",
       "      <th>37</th>\n",
       "      <td>12997.58</td>\n",
       "      <td>Ota</td>\n",
       "    </tr>\n",
       "    <tr>\n",
       "      <th>40</th>\n",
       "      <td>12984.42</td>\n",
       "      <td>Quito Formiga</td>\n",
       "    </tr>\n",
       "    <tr>\n",
       "      <th>24</th>\n",
       "      <td>12959.34</td>\n",
       "      <td>George Hato</td>\n",
       "    </tr>\n",
       "    <tr>\n",
       "      <th>44</th>\n",
       "      <td>12404.04</td>\n",
       "      <td>Rinaldi Digilio</td>\n",
       "    </tr>\n",
       "    <tr>\n",
       "      <th>35</th>\n",
       "      <td>11247.68</td>\n",
       "      <td>Natalini</td>\n",
       "    </tr>\n",
       "    <tr>\n",
       "      <th>12</th>\n",
       "      <td>11022.13</td>\n",
       "      <td>Claudinho De Souza</td>\n",
       "    </tr>\n",
       "    <tr>\n",
       "      <th>13</th>\n",
       "      <td>10595.85</td>\n",
       "      <td>Claudio Fonseca</td>\n",
       "    </tr>\n",
       "    <tr>\n",
       "      <th>32</th>\n",
       "      <td>10239.26</td>\n",
       "      <td>Mário Covas Neto</td>\n",
       "    </tr>\n",
       "    <tr>\n",
       "      <th>16</th>\n",
       "      <td>10093.63</td>\n",
       "      <td>David Soares</td>\n",
       "    </tr>\n",
       "    <tr>\n",
       "      <th>38</th>\n",
       "      <td>9056.43</td>\n",
       "      <td>Patrícia Bezerra</td>\n",
       "    </tr>\n",
       "    <tr>\n",
       "      <th>54</th>\n",
       "      <td>8710.67</td>\n",
       "      <td>Xexéu Tripoli</td>\n",
       "    </tr>\n",
       "    <tr>\n",
       "      <th>48</th>\n",
       "      <td>8043.04</td>\n",
       "      <td>Sandra Tadeu</td>\n",
       "    </tr>\n",
       "    <tr>\n",
       "      <th>0</th>\n",
       "      <td>7219.29</td>\n",
       "      <td>Adilson Amadeu</td>\n",
       "    </tr>\n",
       "    <tr>\n",
       "      <th>22</th>\n",
       "      <td>6634.70</td>\n",
       "      <td>Fabio Riva</td>\n",
       "    </tr>\n",
       "    <tr>\n",
       "      <th>42</th>\n",
       "      <td>5666.71</td>\n",
       "      <td>Ricardo Nunes</td>\n",
       "    </tr>\n",
       "    <tr>\n",
       "      <th>14</th>\n",
       "      <td>4776.28</td>\n",
       "      <td>Conte Lopes</td>\n",
       "    </tr>\n",
       "    <tr>\n",
       "      <th>8</th>\n",
       "      <td>2891.94</td>\n",
       "      <td>Caio Miranda</td>\n",
       "    </tr>\n",
       "    <tr>\n",
       "      <th>34</th>\n",
       "      <td>2199.17</td>\n",
       "      <td>Milton Leite</td>\n",
       "    </tr>\n",
       "    <tr>\n",
       "      <th>23</th>\n",
       "      <td>1739.40</td>\n",
       "      <td>Fernando Holiday</td>\n",
       "    </tr>\n",
       "    <tr>\n",
       "      <th>30</th>\n",
       "      <td>1549.27</td>\n",
       "      <td>José Police Neto</td>\n",
       "    </tr>\n",
       "    <tr>\n",
       "      <th>11</th>\n",
       "      <td>1268.08</td>\n",
       "      <td>Celso Jatene</td>\n",
       "    </tr>\n",
       "    <tr>\n",
       "      <th>25</th>\n",
       "      <td>921.46</td>\n",
       "      <td>Gilberto Nascimento</td>\n",
       "    </tr>\n",
       "    <tr>\n",
       "      <th>10</th>\n",
       "      <td>0.00</td>\n",
       "      <td>Celso Giannazi</td>\n",
       "    </tr>\n",
       "    <tr>\n",
       "      <th>29</th>\n",
       "      <td>0.00</td>\n",
       "      <td>Janaina Lima</td>\n",
       "    </tr>\n",
       "  </tbody>\n",
       "</table>\n",
       "</div>"
      ],
      "text/plain": [
       "       gasto                   vereador\n",
       "31  24871.88            Juliana Cardoso\n",
       "33  24871.88            Milton Ferreira\n",
       "27  24123.88                 Isac Felix\n",
       "15  24113.44             Dalton Silvano\n",
       "19  23704.16  Eduardo Matarazzo Suplicy\n",
       "55  23555.01                   Zé Turin\n",
       "3   22911.42                 Alfredinho\n",
       "18  22183.60                 Edir Sales\n",
       "17  21882.66                     Donato\n",
       "6   21877.55           Atilio Francisco\n",
       "9   21650.50          Camilo Cristófaro\n",
       "1   21111.66            Adriana Ramalho\n",
       "2   20431.91          Alessandro Guedes\n",
       "26  19815.10             Gilson Barreto\n",
       "36  19627.69               Noemi Nonato\n",
       "47  19600.00               Sâmia Bomfim\n",
       "53  19014.45            Toninho Vespoli\n",
       "5   18650.45             Arselino Tatto\n",
       "28  18034.13                 Jair Tatto\n",
       "39  17791.01               Paulo Frange\n",
       "21  17708.66             Eliseu Gabriel\n",
       "43  17630.27           Ricardo Teixeira\n",
       "51  17079.70               Souza Santos\n",
       "41  16830.58                       Reis\n",
       "7   16191.75             Aurelio Nomura\n",
       "46  15984.87                 Rute Costa\n",
       "4   15636.94               André Santos\n",
       "20  15599.78               Eduardo Tuma\n",
       "49  15081.99              Senival Moura\n",
       "45  13890.83            Rodrigo Goulart\n",
       "50  13532.68                    Soninha\n",
       "52  13502.64              Toninho Paiva\n",
       "37  12997.58                        Ota\n",
       "40  12984.42              Quito Formiga\n",
       "24  12959.34                George Hato\n",
       "44  12404.04            Rinaldi Digilio\n",
       "35  11247.68                   Natalini\n",
       "12  11022.13         Claudinho De Souza\n",
       "13  10595.85            Claudio Fonseca\n",
       "32  10239.26           Mário Covas Neto\n",
       "16  10093.63               David Soares\n",
       "38   9056.43           Patrícia Bezerra\n",
       "54   8710.67              Xexéu Tripoli\n",
       "48   8043.04               Sandra Tadeu\n",
       "0    7219.29             Adilson Amadeu\n",
       "22   6634.70                 Fabio Riva\n",
       "42   5666.71              Ricardo Nunes\n",
       "14   4776.28                Conte Lopes\n",
       "8    2891.94               Caio Miranda\n",
       "34   2199.17               Milton Leite\n",
       "23   1739.40           Fernando Holiday\n",
       "30   1549.27           José Police Neto\n",
       "11   1268.08               Celso Jatene\n",
       "25    921.46        Gilberto Nascimento\n",
       "10      0.00             Celso Giannazi\n",
       "29      0.00               Janaina Lima"
      ]
     },
     "execution_count": 39,
     "metadata": {},
     "output_type": "execute_result"
    }
   ],
   "source": [
    "df.sort_values(by=\"gasto\", ascending=False)"
   ]
  },
  {
   "cell_type": "code",
   "execution_count": null,
   "metadata": {},
   "outputs": [],
   "source": []
  },
  {
   "cell_type": "code",
   "execution_count": null,
   "metadata": {},
   "outputs": [],
   "source": [
    "df.to_csv('gastos_vereadores_sp_jan_2019.csv', index=False)"
   ]
  },
  {
   "cell_type": "code",
   "execution_count": null,
   "metadata": {},
   "outputs": [],
   "source": [
    "df.to_excel('gastos_vereadores_sp_jan_2019.xlsx',sheet_name='Sheet1')"
   ]
  }
 ],
 "metadata": {
  "kernelspec": {
   "display_name": "Python 3",
   "language": "python",
   "name": "python3"
  },
  "language_info": {
   "codemirror_mode": {
    "name": "ipython",
    "version": 3
   },
   "file_extension": ".py",
   "mimetype": "text/x-python",
   "name": "python",
   "nbconvert_exporter": "python",
   "pygments_lexer": "ipython3",
   "version": "3.6.8"
  }
 },
 "nbformat": 4,
 "nbformat_minor": 2
}
