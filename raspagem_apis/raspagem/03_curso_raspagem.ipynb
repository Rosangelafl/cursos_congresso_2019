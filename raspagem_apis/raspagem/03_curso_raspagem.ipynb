{
 "cells": [
  {
   "cell_type": "code",
   "execution_count": 1,
   "metadata": {},
   "outputs": [],
   "source": [
    "# -*- coding: utf-8\n",
    "# Abraji (https://www.abraji.org.br)\n",
    "# Reinaldo Chaves (reinaldo@abraji.org.br)\n",
    "# Programa 03 do curso Técnicas de raspagem de dados e acesso a APIs\n",
    "#"
   ]
  },
  {
   "cell_type": "code",
   "execution_count": null,
   "metadata": {},
   "outputs": [],
   "source": []
  },
  {
   "cell_type": "code",
   "execution_count": null,
   "metadata": {},
   "outputs": [],
   "source": [
    "# Texto retirado da API do Twitter - texto de apenas um tweet do presidente Jair Bolsonaro"
   ]
  },
  {
   "cell_type": "code",
   "execution_count": 3,
   "metadata": {},
   "outputs": [],
   "source": [
    "bolso_tweet = {'created_at': 'Thu May 02 21:24:36 +0000 2019', 'id': 1124062156989902883, 'id_str': '1124062156989902883', 'text': 'Muito obrigado pela homenagem! Belo anime! 👍🏻 (autor desconhecido) https://t.co/o4bzREQFg8', 'truncated': False, 'entities': {'hashtags': [], 'symbols': [], 'user_mentions': [], 'urls': [], 'media': [{'id': 1124062150601977859, 'id_str': '1124062150601977859', 'indices': [67, 90], 'media_url': 'http://pbs.twimg.com/media/D5l4kggXsAMewZO.jpg', 'media_url_https': 'https://pbs.twimg.com/media/D5l4kggXsAMewZO.jpg', 'url': 'https://t.co/o4bzREQFg8', 'display_url': 'pic.twitter.com/o4bzREQFg8', 'expanded_url': 'https://twitter.com/jairbolsonaro/status/1124062156989902883/photo/1', 'type': 'photo', 'sizes': {'medium': {'w': 500, 'h': 739, 'resize': 'fit'}, 'thumb': {'w': 150, 'h': 150, 'resize': 'crop'}, 'small': {'w': 460, 'h': 680, 'resize': 'fit'}, 'large': {'w': 500, 'h': 739, 'resize': 'fit'}}}]}, 'extended_entities': {'media': [{'id': 1124062150601977859, 'id_str': '1124062150601977859', 'indices': [67, 90], 'media_url': 'http://pbs.twimg.com/media/D5l4kggXsAMewZO.jpg', 'media_url_https': 'https://pbs.twimg.com/media/D5l4kggXsAMewZO.jpg', 'url': 'https://t.co/o4bzREQFg8', 'display_url': 'pic.twitter.com/o4bzREQFg8', 'expanded_url': 'https://twitter.com/jairbolsonaro/status/1124062156989902883/photo/1', 'type': 'photo', 'sizes': {'medium': {'w': 500, 'h': 739, 'resize': 'fit'}, 'thumb': {'w': 150, 'h': 150, 'resize': 'crop'}, 'small': {'w': 460, 'h': 680, 'resize': 'fit'}, 'large': {'w': 500, 'h': 739, 'resize': 'fit'}}}]}, 'source': '<a href=\"http://twitter.com/download/iphone\" rel=\"nofollow\">Twitter for iPhone</a>', 'in_reply_to_status_id': None, 'in_reply_to_status_id_str': None, 'in_reply_to_user_id': None, 'in_reply_to_user_id_str': None, 'in_reply_to_screen_name': None, 'user': {'id': 128372940, 'id_str': '128372940', 'name': 'Jair M. Bolsonaro', 'screen_name': 'jairbolsonaro', 'location': 'Brasília, Brasil', 'description': 'Capitão do Exército Brasileiro, eleito 38° Presidente da República Federativa do Brasil. 🇧🇷', 'url': 'https://t.co/bqpNS6l0al', 'entities': {'url': {'urls': [{'url': 'https://t.co/bqpNS6l0al', 'expanded_url': 'http://www.bolsonaro.com.br', 'display_url': 'bolsonaro.com.br', 'indices': [0, 23]}]}, 'description': {'urls': []}}, 'protected': False, 'followers_count': 4134354, 'friends_count': 335, 'listed_count': 4317, 'created_at': 'Wed Mar 31 23:13:44 +0000 2010', 'favourites_count': 1882, 'utc_offset': None, 'time_zone': None, 'geo_enabled': True, 'verified': True, 'statuses_count': 6679, 'lang': 'pt', 'contributors_enabled': False, 'is_translator': False, 'is_translation_enabled': False, 'profile_background_color': '175C17', 'profile_background_image_url': 'http://abs.twimg.com/images/themes/theme1/bg.png', 'profile_background_image_url_https': 'https://abs.twimg.com/images/themes/theme1/bg.png', 'profile_background_tile': False, 'profile_image_url': 'http://pbs.twimg.com/profile_images/1057631480459886595/9VPdGJJz_normal.jpg', 'profile_image_url_https': 'https://pbs.twimg.com/profile_images/1057631480459886595/9VPdGJJz_normal.jpg', 'profile_banner_url': 'https://pbs.twimg.com/profile_banners/128372940/1540929521', 'profile_link_color': '0084B4', 'profile_sidebar_border_color': 'FFFFFF', 'profile_sidebar_fill_color': 'A4E37F', 'profile_text_color': '1414FF', 'profile_use_background_image': True, 'has_extended_profile': True, 'default_profile': False, 'default_profile_image': False, 'following': False, 'follow_request_sent': False, 'notifications': False, 'translator_type': 'none'}, 'geo': None, 'coordinates': None, 'place': None, 'contributors': None, 'is_quote_status': False, 'retweet_count': 14330, 'favorite_count': 89511, 'favorited': False, 'retweeted': False, 'possibly_sensitive': False, 'lang': 'pt'}"
   ]
  },
  {
   "cell_type": "code",
   "execution_count": 3,
   "metadata": {},
   "outputs": [
    {
     "data": {
      "text/plain": [
       "{'created_at': 'Thu May 02 21:24:36 +0000 2019',\n",
       " 'id': 1124062156989902883,\n",
       " 'id_str': '1124062156989902883',\n",
       " 'text': 'Muito obrigado pela homenagem! Belo anime! 👍🏻 (autor desconhecido) https://t.co/o4bzREQFg8',\n",
       " 'truncated': False,\n",
       " 'entities': {'hashtags': [],\n",
       "  'symbols': [],\n",
       "  'user_mentions': [],\n",
       "  'urls': [],\n",
       "  'media': [{'id': 1124062150601977859,\n",
       "    'id_str': '1124062150601977859',\n",
       "    'indices': [67, 90],\n",
       "    'media_url': 'http://pbs.twimg.com/media/D5l4kggXsAMewZO.jpg',\n",
       "    'media_url_https': 'https://pbs.twimg.com/media/D5l4kggXsAMewZO.jpg',\n",
       "    'url': 'https://t.co/o4bzREQFg8',\n",
       "    'display_url': 'pic.twitter.com/o4bzREQFg8',\n",
       "    'expanded_url': 'https://twitter.com/jairbolsonaro/status/1124062156989902883/photo/1',\n",
       "    'type': 'photo',\n",
       "    'sizes': {'medium': {'w': 500, 'h': 739, 'resize': 'fit'},\n",
       "     'thumb': {'w': 150, 'h': 150, 'resize': 'crop'},\n",
       "     'small': {'w': 460, 'h': 680, 'resize': 'fit'},\n",
       "     'large': {'w': 500, 'h': 739, 'resize': 'fit'}}}]},\n",
       " 'extended_entities': {'media': [{'id': 1124062150601977859,\n",
       "    'id_str': '1124062150601977859',\n",
       "    'indices': [67, 90],\n",
       "    'media_url': 'http://pbs.twimg.com/media/D5l4kggXsAMewZO.jpg',\n",
       "    'media_url_https': 'https://pbs.twimg.com/media/D5l4kggXsAMewZO.jpg',\n",
       "    'url': 'https://t.co/o4bzREQFg8',\n",
       "    'display_url': 'pic.twitter.com/o4bzREQFg8',\n",
       "    'expanded_url': 'https://twitter.com/jairbolsonaro/status/1124062156989902883/photo/1',\n",
       "    'type': 'photo',\n",
       "    'sizes': {'medium': {'w': 500, 'h': 739, 'resize': 'fit'},\n",
       "     'thumb': {'w': 150, 'h': 150, 'resize': 'crop'},\n",
       "     'small': {'w': 460, 'h': 680, 'resize': 'fit'},\n",
       "     'large': {'w': 500, 'h': 739, 'resize': 'fit'}}}]},\n",
       " 'source': '<a href=\"http://twitter.com/download/iphone\" rel=\"nofollow\">Twitter for iPhone</a>',\n",
       " 'in_reply_to_status_id': None,\n",
       " 'in_reply_to_status_id_str': None,\n",
       " 'in_reply_to_user_id': None,\n",
       " 'in_reply_to_user_id_str': None,\n",
       " 'in_reply_to_screen_name': None,\n",
       " 'user': {'id': 128372940,\n",
       "  'id_str': '128372940',\n",
       "  'name': 'Jair M. Bolsonaro',\n",
       "  'screen_name': 'jairbolsonaro',\n",
       "  'location': 'Brasília, Brasil',\n",
       "  'description': 'Capitão do Exército Brasileiro, eleito 38° Presidente da República Federativa do Brasil. 🇧🇷',\n",
       "  'url': 'https://t.co/bqpNS6l0al',\n",
       "  'entities': {'url': {'urls': [{'url': 'https://t.co/bqpNS6l0al',\n",
       "      'expanded_url': 'http://www.bolsonaro.com.br',\n",
       "      'display_url': 'bolsonaro.com.br',\n",
       "      'indices': [0, 23]}]},\n",
       "   'description': {'urls': []}},\n",
       "  'protected': False,\n",
       "  'followers_count': 4134354,\n",
       "  'friends_count': 335,\n",
       "  'listed_count': 4317,\n",
       "  'created_at': 'Wed Mar 31 23:13:44 +0000 2010',\n",
       "  'favourites_count': 1882,\n",
       "  'utc_offset': None,\n",
       "  'time_zone': None,\n",
       "  'geo_enabled': True,\n",
       "  'verified': True,\n",
       "  'statuses_count': 6679,\n",
       "  'lang': 'pt',\n",
       "  'contributors_enabled': False,\n",
       "  'is_translator': False,\n",
       "  'is_translation_enabled': False,\n",
       "  'profile_background_color': '175C17',\n",
       "  'profile_background_image_url': 'http://abs.twimg.com/images/themes/theme1/bg.png',\n",
       "  'profile_background_image_url_https': 'https://abs.twimg.com/images/themes/theme1/bg.png',\n",
       "  'profile_background_tile': False,\n",
       "  'profile_image_url': 'http://pbs.twimg.com/profile_images/1057631480459886595/9VPdGJJz_normal.jpg',\n",
       "  'profile_image_url_https': 'https://pbs.twimg.com/profile_images/1057631480459886595/9VPdGJJz_normal.jpg',\n",
       "  'profile_banner_url': 'https://pbs.twimg.com/profile_banners/128372940/1540929521',\n",
       "  'profile_link_color': '0084B4',\n",
       "  'profile_sidebar_border_color': 'FFFFFF',\n",
       "  'profile_sidebar_fill_color': 'A4E37F',\n",
       "  'profile_text_color': '1414FF',\n",
       "  'profile_use_background_image': True,\n",
       "  'has_extended_profile': True,\n",
       "  'default_profile': False,\n",
       "  'default_profile_image': False,\n",
       "  'following': False,\n",
       "  'follow_request_sent': False,\n",
       "  'notifications': False,\n",
       "  'translator_type': 'none'},\n",
       " 'geo': None,\n",
       " 'coordinates': None,\n",
       " 'place': None,\n",
       " 'contributors': None,\n",
       " 'is_quote_status': False,\n",
       " 'retweet_count': 14330,\n",
       " 'favorite_count': 89511,\n",
       " 'favorited': False,\n",
       " 'retweeted': False,\n",
       " 'possibly_sensitive': False,\n",
       " 'lang': 'pt'}"
      ]
     },
     "execution_count": 3,
     "metadata": {},
     "output_type": "execute_result"
    }
   ],
   "source": [
    "bolso_tweet"
   ]
  },
  {
   "cell_type": "code",
   "execution_count": null,
   "metadata": {},
   "outputs": [],
   "source": []
  },
  {
   "cell_type": "markdown",
   "metadata": {},
   "source": [
    "1 - Quais são as chaves do objeto bolso_tweet?\n",
    "\n",
    "2 - Quando esse tweet foi enviado?\n",
    "\n",
    "3 - Este tweet menciona alguém?\n",
    "\n",
    "4 - Quantos retweets este tweet recebeu (no momento em que o coletei)?\n",
    "\n",
    "5 - Quantos seguidores o \"usuário\" que escreveu este tweet tem (no momento em que o coletei)?\n",
    "\n",
    "6 - Qual é o \"media_url\" para a imagem neste tweet?"
   ]
  },
  {
   "cell_type": "code",
   "execution_count": null,
   "metadata": {},
   "outputs": [],
   "source": []
  },
  {
   "cell_type": "code",
   "execution_count": 5,
   "metadata": {},
   "outputs": [
    {
     "data": {
      "text/plain": [
       "dict_keys(['created_at', 'id', 'id_str', 'text', 'truncated', 'entities', 'extended_entities', 'source', 'in_reply_to_status_id', 'in_reply_to_status_id_str', 'in_reply_to_user_id', 'in_reply_to_user_id_str', 'in_reply_to_screen_name', 'user', 'geo', 'coordinates', 'place', 'contributors', 'is_quote_status', 'retweet_count', 'favorite_count', 'favorited', 'retweeted', 'possibly_sensitive', 'lang'])"
      ]
     },
     "execution_count": 5,
     "metadata": {},
     "output_type": "execute_result"
    }
   ],
   "source": [
    "#1\n",
    "bolso_tweet.keys()"
   ]
  },
  {
   "cell_type": "code",
   "execution_count": null,
   "metadata": {},
   "outputs": [],
   "source": []
  },
  {
   "cell_type": "code",
   "execution_count": 6,
   "metadata": {},
   "outputs": [
    {
     "data": {
      "text/plain": [
       "'Thu May 02 21:24:36 +0000 2019'"
      ]
     },
     "execution_count": 6,
     "metadata": {},
     "output_type": "execute_result"
    }
   ],
   "source": [
    "#2\n",
    "bolso_tweet['created_at']"
   ]
  },
  {
   "cell_type": "code",
   "execution_count": null,
   "metadata": {},
   "outputs": [],
   "source": []
  },
  {
   "cell_type": "code",
   "execution_count": 7,
   "metadata": {},
   "outputs": [
    {
     "data": {
      "text/plain": [
       "'Muito obrigado pela homenagem! Belo anime! 👍🏻 (autor desconhecido) https://t.co/o4bzREQFg8'"
      ]
     },
     "execution_count": 7,
     "metadata": {},
     "output_type": "execute_result"
    }
   ],
   "source": [
    "#3\n",
    "bolso_tweet['text']"
   ]
  },
  {
   "cell_type": "code",
   "execution_count": null,
   "metadata": {},
   "outputs": [],
   "source": []
  },
  {
   "cell_type": "code",
   "execution_count": 8,
   "metadata": {},
   "outputs": [
    {
     "data": {
      "text/plain": [
       "14330"
      ]
     },
     "execution_count": 8,
     "metadata": {},
     "output_type": "execute_result"
    }
   ],
   "source": [
    "#4\n",
    "bolso_tweet['retweet_count']"
   ]
  },
  {
   "cell_type": "code",
   "execution_count": null,
   "metadata": {},
   "outputs": [],
   "source": []
  },
  {
   "cell_type": "code",
   "execution_count": 9,
   "metadata": {},
   "outputs": [
    {
     "data": {
      "text/plain": [
       "4134354"
      ]
     },
     "execution_count": 9,
     "metadata": {},
     "output_type": "execute_result"
    }
   ],
   "source": [
    "#5\n",
    "bolso_tweet['user']['followers_count']"
   ]
  },
  {
   "cell_type": "code",
   "execution_count": null,
   "metadata": {},
   "outputs": [],
   "source": []
  },
  {
   "cell_type": "code",
   "execution_count": 10,
   "metadata": {},
   "outputs": [
    {
     "data": {
      "text/plain": [
       "'https://pbs.twimg.com/media/D5l4kggXsAMewZO.jpg'"
      ]
     },
     "execution_count": 10,
     "metadata": {},
     "output_type": "execute_result"
    }
   ],
   "source": [
    "#6\n",
    "bolso_tweet['entities']['media'][0]['media_url_https']"
   ]
  },
  {
   "cell_type": "code",
   "execution_count": null,
   "metadata": {},
   "outputs": [],
   "source": []
  }
 ],
 "metadata": {
  "kernelspec": {
   "display_name": "Python 3",
   "language": "python",
   "name": "python3"
  },
  "language_info": {
   "codemirror_mode": {
    "name": "ipython",
    "version": 3
   },
   "file_extension": ".py",
   "mimetype": "text/x-python",
   "name": "python",
   "nbconvert_exporter": "python",
   "pygments_lexer": "ipython3",
   "version": "3.6.8"
  }
 },
 "nbformat": 4,
 "nbformat_minor": 2
}
