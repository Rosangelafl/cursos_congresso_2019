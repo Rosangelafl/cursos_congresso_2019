{
 "cells": [
  {
   "cell_type": "code",
   "execution_count": 1,
   "metadata": {},
   "outputs": [],
   "source": [
    "# -*- coding: utf-8\n",
    "# Abraji (https://www.abraji.org.br)\n",
    "# Reinaldo Chaves (reinaldo@abraji.org.br)\n",
    "# Programa 04 do curso Técnicas de raspagem de dados e acesso a APIs\n",
    "#"
   ]
  },
  {
   "cell_type": "code",
   "execution_count": null,
   "metadata": {},
   "outputs": [],
   "source": []
  },
  {
   "cell_type": "code",
   "execution_count": 1,
   "metadata": {},
   "outputs": [],
   "source": [
    "import requests"
   ]
  },
  {
   "cell_type": "code",
   "execution_count": null,
   "metadata": {},
   "outputs": [],
   "source": []
  },
  {
   "cell_type": "code",
   "execution_count": 2,
   "metadata": {},
   "outputs": [],
   "source": [
    "# BeautifulSoup é um módulo dentro da biblioteca \"bs4\", só importamos o módulo BeautifulSoup\n",
    "from bs4 import BeautifulSoup"
   ]
  },
  {
   "cell_type": "code",
   "execution_count": null,
   "metadata": {},
   "outputs": [],
   "source": []
  },
  {
   "cell_type": "code",
   "execution_count": 3,
   "metadata": {},
   "outputs": [],
   "source": [
    "# Nós importamos pandas, mas damos à biblioteca um apelido de atalho \"pd\", já que chamaremos suas funções muitas vezes\n",
    "import pandas as pd"
   ]
  },
  {
   "cell_type": "code",
   "execution_count": null,
   "metadata": {},
   "outputs": [],
   "source": []
  },
  {
   "cell_type": "code",
   "execution_count": 6,
   "metadata": {},
   "outputs": [],
   "source": [
    "# Faz o request\n",
    "praias_tudo = requests.get('https://qualipraia.cetesb.sp.gov.br/qualidade-da-praia/').text"
   ]
  },
  {
   "cell_type": "code",
   "execution_count": null,
   "metadata": {},
   "outputs": [],
   "source": []
  },
  {
   "cell_type": "code",
   "execution_count": 7,
   "metadata": {},
   "outputs": [],
   "source": [
    "# Transforma em sopa, especificando o HTML parser (analisador)\n",
    "praias_sopa = BeautifulSoup(praias_tudo,'html.parser')"
   ]
  },
  {
   "cell_type": "code",
   "execution_count": null,
   "metadata": {},
   "outputs": [],
   "source": []
  },
  {
   "cell_type": "code",
   "execution_count": 8,
   "metadata": {},
   "outputs": [],
   "source": [
    "# Use .find_all para recuperar todas as tabelas na página\n",
    "praias_tabelas = praias_sopa.find_all('table')"
   ]
  },
  {
   "cell_type": "code",
   "execution_count": null,
   "metadata": {},
   "outputs": [],
   "source": []
  },
  {
   "cell_type": "code",
   "execution_count": 15,
   "metadata": {},
   "outputs": [],
   "source": [
    "#print(praias_tabelas)"
   ]
  },
  {
   "cell_type": "code",
   "execution_count": null,
   "metadata": {},
   "outputs": [],
   "source": []
  },
  {
   "cell_type": "code",
   "execution_count": 16,
   "metadata": {},
   "outputs": [],
   "source": [
    "# Capta a primeira tabela\n",
    "# No Python o primeiro item de uma lista, dicionário ou ordenação começa por zero e não 1"
   ]
  },
  {
   "cell_type": "code",
   "execution_count": 17,
   "metadata": {},
   "outputs": [],
   "source": [
    "praias_trs = praias_tabelas[0].find_all('tr')"
   ]
  },
  {
   "cell_type": "code",
   "execution_count": 18,
   "metadata": {},
   "outputs": [
    {
     "data": {
      "text/plain": [
       "[<tr>\n",
       " <td align=\"left\"><b>Praia</b></td><td><b>Local</b></td><td><b>Qualidade</b></td>\n",
       " </tr>, <tr>\n",
       " <td align=\"left\" bgcolor=\"#F0F0F0\" width=\"300\"> PICINGUABA</td>\n",
       " <td bgcolor=\"#F0F0F0\" width=\"300\"> MEIO DA PRAIA</td>\n",
       " <td bgcolor=\"#F0F0F0\" width=\"300\"> \n",
       "       <b style=\"color: green;\">Própria</b> </td>\n",
       " </tr>, <tr>\n",
       " <td align=\"left\" width=\"300\"> PRAIA DO PRUMIRIM</td>\n",
       " <td width=\"300\"> MEIO DA PRAIA</td>\n",
       " <td width=\"300\"> \n",
       "       <b style=\"color: green;\">Própria</b> </td>\n",
       " </tr>, <tr>\n",
       " <td align=\"left\" bgcolor=\"#F0F0F0\" width=\"300\"> FÉLIX</td>\n",
       " <td bgcolor=\"#F0F0F0\" width=\"300\"> MEIO DA PRAIA</td>\n",
       " <td bgcolor=\"#F0F0F0\" width=\"300\"> \n",
       "       <b style=\"color: green;\">Própria</b> </td>\n",
       " </tr>, <tr>\n",
       " <td align=\"left\" width=\"300\"> ITAMAMBUCA</td>\n",
       " <td width=\"300\"> EM FRENTE À R.TRÊS</td>\n",
       " <td width=\"300\"> \n",
       "       <b style=\"color: green;\">Própria</b> </td>\n",
       " </tr>, <tr>\n",
       " <td align=\"left\" bgcolor=\"#F0F0F0\" width=\"300\"> RIO ITAMAMBUCA</td>\n",
       " <td bgcolor=\"#F0F0F0\" width=\"300\"> FOZ DO RIO</td>\n",
       " <td bgcolor=\"#F0F0F0\" width=\"300\"> \n",
       "       <b style=\"color: green;\">Própria</b> </td>\n",
       " </tr>, <tr>\n",
       " <td align=\"left\" width=\"300\"> VERMELHA DO NORTE</td>\n",
       " <td width=\"300\"> 200M AO SUL DA PRAIA</td>\n",
       " <td width=\"300\"> \n",
       "       <b style=\"color: green;\">Própria</b> </td>\n",
       " </tr>, <tr>\n",
       " <td align=\"left\" bgcolor=\"#F0F0F0\" width=\"300\"> PEREQUÊ-AÇU</td>\n",
       " <td bgcolor=\"#F0F0F0\" width=\"300\"> EM FRENTE À R. PEDRA NEGRA</td>\n",
       " <td bgcolor=\"#F0F0F0\" width=\"300\"> \n",
       "       <b style=\"color: red;\">Imprópria</b> </td>\n",
       " </tr>, <tr>\n",
       " <td align=\"left\" width=\"300\"> IPEROIG</td>\n",
       " <td width=\"300\"> EM FRENTE AO CRUZEIRO</td>\n",
       " <td width=\"300\"> \n",
       "       <b style=\"color: green;\">Própria</b> </td>\n",
       " </tr>, <tr>\n",
       " <td align=\"left\" bgcolor=\"#F0F0F0\" width=\"300\"> ITAGUÁ-AV. LEOVEGILDO, 240</td>\n",
       " <td bgcolor=\"#F0F0F0\" width=\"300\"> EM FRENTE AO Nº 240 DA AV. LEOVEGILDO D. VIEIRA</td>\n",
       " <td bgcolor=\"#F0F0F0\" width=\"300\"> \n",
       "       <b style=\"color: green;\">Própria</b> </td>\n",
       " </tr>, <tr>\n",
       " <td align=\"left\" width=\"300\"> ITAGUA-AV. LEOVEGILDO, 1724</td>\n",
       " <td width=\"300\"> EM FRENTE AO Nº 1724 DA AV. LEOVEGILDO D. VIEIRA</td>\n",
       " <td width=\"300\"> \n",
       "       <b style=\"color: red;\">Imprópria</b> </td>\n",
       " </tr>, <tr>\n",
       " <td align=\"left\" bgcolor=\"#F0F0F0\" width=\"300\"> TENÓRIO</td>\n",
       " <td bgcolor=\"#F0F0F0\" width=\"300\"> MEIO DA PRAIA</td>\n",
       " <td bgcolor=\"#F0F0F0\" width=\"300\"> \n",
       "       <b style=\"color: green;\">Própria</b> </td>\n",
       " </tr>, <tr>\n",
       " <td align=\"left\" width=\"300\"> VERMELHA</td>\n",
       " <td width=\"300\"> MEIO DA PRAIA</td>\n",
       " <td width=\"300\"> \n",
       "       <b style=\"color: green;\">Própria</b> </td>\n",
       " </tr>, <tr>\n",
       " <td align=\"left\" bgcolor=\"#F0F0F0\" width=\"300\"> GRANDE</td>\n",
       " <td bgcolor=\"#F0F0F0\" width=\"300\"> EM FRENTE AO CORPO DE BOMBEIROS</td>\n",
       " <td bgcolor=\"#F0F0F0\" width=\"300\"> \n",
       "       <b style=\"color: green;\">Própria</b> </td>\n",
       " </tr>, <tr>\n",
       " <td align=\"left\" width=\"300\"> TONINHAS</td>\n",
       " <td width=\"300\"> ENTRE A R. QUATRO E A R. DAS TONINHAS</td>\n",
       " <td width=\"300\"> \n",
       "       <b style=\"color: green;\">Própria</b> </td>\n",
       " </tr>, <tr>\n",
       " <td align=\"left\" bgcolor=\"#F0F0F0\" width=\"300\"> ENSEADA</td>\n",
       " <td bgcolor=\"#F0F0F0\" width=\"300\"> EM FRENTE À R. JOÃO VITÓRIO</td>\n",
       " <td bgcolor=\"#F0F0F0\" width=\"300\"> \n",
       "       <b style=\"color: green;\">Própria</b> </td>\n",
       " </tr>, <tr>\n",
       " <td align=\"left\" width=\"300\"> SANTA RITA</td>\n",
       " <td width=\"300\"> MEIO DA PRAIA</td>\n",
       " <td width=\"300\"> \n",
       "       <b style=\"color: red;\">Imprópria</b> </td>\n",
       " </tr>, <tr>\n",
       " <td align=\"left\" bgcolor=\"#F0F0F0\" width=\"300\"> PEREQUÊ-MIRIM</td>\n",
       " <td bgcolor=\"#F0F0F0\" width=\"300\"> EM FRENTE À R. HENRIQUE ANTONIO DE JESUS</td>\n",
       " <td bgcolor=\"#F0F0F0\" width=\"300\"> \n",
       "       <b style=\"color: red;\">Imprópria</b> </td>\n",
       " </tr>, <tr>\n",
       " <td align=\"left\" width=\"300\"> SUNUNGA</td>\n",
       " <td width=\"300\"> MEIO DA PRAIA</td>\n",
       " <td width=\"300\"> \n",
       "       <b style=\"color: green;\">Própria</b> </td>\n",
       " </tr>, <tr>\n",
       " <td align=\"left\" bgcolor=\"#F0F0F0\" width=\"300\"> LÁZARO</td>\n",
       " <td bgcolor=\"#F0F0F0\" width=\"300\"> MEIO DA PRAIA ( CERCA DE 100M AO SUL )</td>\n",
       " <td bgcolor=\"#F0F0F0\" width=\"300\"> \n",
       "       <b style=\"color: green;\">Própria</b> </td>\n",
       " </tr>, <tr>\n",
       " <td align=\"left\" width=\"300\"> DOMINGAS DIAS</td>\n",
       " <td width=\"300\"> MEIO DA PRAIA</td>\n",
       " <td width=\"300\"> \n",
       "       <b style=\"color: green;\">Própria</b> </td>\n",
       " </tr>, <tr>\n",
       " <td align=\"left\" bgcolor=\"#F0F0F0\" width=\"300\"> DURA</td>\n",
       " <td bgcolor=\"#F0F0F0\" width=\"300\"> EM FRENTE À R. G</td>\n",
       " <td bgcolor=\"#F0F0F0\" width=\"300\"> \n",
       "       <b style=\"color: green;\">Própria</b> </td>\n",
       " </tr>, <tr>\n",
       " <td align=\"left\" width=\"300\"> LAGOINHA-AV. E. VELHO</td>\n",
       " <td width=\"300\"> EM FRENTE À AV. ENGENHO VELHO</td>\n",
       " <td width=\"300\"> \n",
       "       <b style=\"color: green;\">Própria</b> </td>\n",
       " </tr>, <tr>\n",
       " <td align=\"left\" bgcolor=\"#F0F0F0\" width=\"300\"> LAGOINHA-CAMPING</td>\n",
       " <td bgcolor=\"#F0F0F0\" width=\"300\"> AO LADO DO CAMPING</td>\n",
       " <td bgcolor=\"#F0F0F0\" width=\"300\"> \n",
       "       <b style=\"color: green;\">Própria</b> </td>\n",
       " </tr>, <tr>\n",
       " <td align=\"left\" width=\"300\"> SAPÉ</td>\n",
       " <td width=\"300\"> EM FRENTE AO HOTEL PONTO DO EIXO</td>\n",
       " <td width=\"300\"> \n",
       "       <b style=\"color: green;\">Própria</b> </td>\n",
       " </tr>, <tr>\n",
       " <td align=\"left\" bgcolor=\"#F0F0F0\" width=\"300\"> MARANDUBA</td>\n",
       " <td bgcolor=\"#F0F0F0\" width=\"300\"> MEIO DA PRAIA</td>\n",
       " <td bgcolor=\"#F0F0F0\" width=\"300\"> \n",
       "       <b style=\"color: green;\">Própria</b> </td>\n",
       " </tr>, <tr>\n",
       " <td align=\"left\" width=\"300\"> PULSO</td>\n",
       " <td width=\"300\"> MEIO DA PRAIA</td>\n",
       " <td width=\"300\"> \n",
       "       <b style=\"color: green;\">Própria</b> </td>\n",
       " </tr>, <tr>\n",
       " <td align=\"left\" bgcolor=\"#F0F0F0\" width=\"300\"> PRAIA DAS PALMAS - ILHA ANCHIETA</td>\n",
       " <td bgcolor=\"#F0F0F0\" width=\"300\"> MEIO DA PRAIA</td>\n",
       " <td bgcolor=\"#F0F0F0\" width=\"300\"> \n",
       "       <b style=\"color: green;\">Própria</b> </td>\n",
       " </tr>, <tr>\n",
       " <td align=\"left\" width=\"300\"> PRAIA DO SAPATEIRO - ILHA ANCHIETA</td>\n",
       " <td width=\"300\"> MEIO DA PRAIA</td>\n",
       " <td width=\"300\"> \n",
       "       <b style=\"color: green;\">Própria</b> </td>\n",
       " </tr>, <tr>\n",
       " <td align=\"left\" bgcolor=\"#F0F0F0\" width=\"300\"> PRAIA DO PRESÍDIO - ILHA ANCHIETA</td>\n",
       " <td bgcolor=\"#F0F0F0\" width=\"300\"> MEIO DA PRAIA</td>\n",
       " <td bgcolor=\"#F0F0F0\" width=\"300\"> \n",
       "       <b style=\"color: green;\">Própria</b> </td>\n",
       " </tr>, <tr>\n",
       " <td align=\"left\" width=\"300\"> PRAINHA DO ENGENHO - ILHA ANCHIETA</td>\n",
       " <td width=\"300\"> MEIO DA PRAIA</td>\n",
       " <td width=\"300\"> \n",
       "       <b style=\"color: green;\">Própria</b> </td>\n",
       " </tr>, <tr>\n",
       " <td align=\"left\" bgcolor=\"#F0F0F0\" width=\"300\"> PRAIA DE FORA - ILHA ANCHIETA</td>\n",
       " <td bgcolor=\"#F0F0F0\" width=\"300\"> MEIO DA PRAIA</td>\n",
       " <td bgcolor=\"#F0F0F0\" width=\"300\"> \n",
       "       <b style=\"color: green;\">Própria</b> </td>\n",
       " </tr>, <tr>\n",
       " <td align=\"left\" width=\"300\"> PRAIA DO SUL - ILHA ANCHIETA</td>\n",
       " <td width=\"300\"> MEIO DA PRAIA</td>\n",
       " <td width=\"300\"> \n",
       "       <b style=\"color: green;\">Própria</b> </td>\n",
       " </tr>, <tr>\n",
       " <td align=\"left\" bgcolor=\"#F0F0F0\" width=\"300\"> PRAINHA DO LESTE - ILHA ANCHIETA</td>\n",
       " <td bgcolor=\"#F0F0F0\" width=\"300\"> MEIO DA PRAIA</td>\n",
       " <td bgcolor=\"#F0F0F0\" width=\"300\"> \n",
       "       <b style=\"color: green;\">Própria</b> </td>\n",
       " </tr>]"
      ]
     },
     "execution_count": 18,
     "metadata": {},
     "output_type": "execute_result"
    }
   ],
   "source": [
    "praias_trs"
   ]
  },
  {
   "cell_type": "code",
   "execution_count": null,
   "metadata": {},
   "outputs": [],
   "source": []
  },
  {
   "cell_type": "code",
   "execution_count": null,
   "metadata": {},
   "outputs": [],
   "source": []
  }
 ],
 "metadata": {
  "kernelspec": {
   "display_name": "Python 3",
   "language": "python",
   "name": "python3"
  },
  "language_info": {
   "codemirror_mode": {
    "name": "ipython",
    "version": 3
   },
   "file_extension": ".py",
   "mimetype": "text/x-python",
   "name": "python",
   "nbconvert_exporter": "python",
   "pygments_lexer": "ipython3",
   "version": "3.6.8"
  }
 },
 "nbformat": 4,
 "nbformat_minor": 2
}
