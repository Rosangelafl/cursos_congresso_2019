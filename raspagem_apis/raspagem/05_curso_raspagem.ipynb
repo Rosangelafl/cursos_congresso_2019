{
 "cells": [
  {
   "cell_type": "code",
   "execution_count": 1,
   "metadata": {},
   "outputs": [],
   "source": [
    "# -*- coding: utf-8\n",
    "# Abraji (https://www.abraji.org.br)\n",
    "# Reinaldo Chaves (reinaldo@abraji.org.br)\n",
    "# Programa 05 do curso Técnicas de raspagem de dados e acesso a APIs\n",
    "#"
   ]
  },
  {
   "cell_type": "code",
   "execution_count": null,
   "metadata": {},
   "outputs": [],
   "source": []
  },
  {
   "cell_type": "code",
   "execution_count": 2,
   "metadata": {},
   "outputs": [],
   "source": [
    "# Apenas repito os comandos anteriores primeiro"
   ]
  },
  {
   "cell_type": "code",
   "execution_count": 4,
   "metadata": {},
   "outputs": [],
   "source": [
    "import requests\n",
    "\n",
    "from bs4 import BeautifulSoup\n",
    "\n",
    "import pandas as pd\n",
    "\n",
    "praias_tudo = requests.get('https://qualipraia.cetesb.sp.gov.br/qualidade-da-praia/').text\n",
    "\n",
    "praias_sopa = BeautifulSoup(praias_tudo,'html.parser')\n",
    "\n",
    "praias_tabelas = praias_sopa.find_all('table')"
   ]
  },
  {
   "cell_type": "code",
   "execution_count": null,
   "metadata": {},
   "outputs": [],
   "source": []
  },
  {
   "cell_type": "code",
   "execution_count": null,
   "metadata": {},
   "outputs": [],
   "source": [
    "# Acessa a primeira tabela"
   ]
  },
  {
   "cell_type": "code",
   "execution_count": 6,
   "metadata": {},
   "outputs": [],
   "source": [
    "praias_trs = praias_tabelas[0].find_all('tr')"
   ]
  },
  {
   "cell_type": "code",
   "execution_count": null,
   "metadata": {},
   "outputs": [],
   "source": []
  },
  {
   "cell_type": "code",
   "execution_count": 7,
   "metadata": {},
   "outputs": [],
   "source": [
    "# E dentro dessa seleção posso acessar apenas os selecionados pelo seu número"
   ]
  },
  {
   "cell_type": "code",
   "execution_count": 8,
   "metadata": {},
   "outputs": [
    {
     "data": {
      "text/plain": [
       "<tr>\n",
       "<td align=\"left\" bgcolor=\"#F0F0F0\" width=\"300\"> PICINGUABA</td>\n",
       "<td bgcolor=\"#F0F0F0\" width=\"300\"> MEIO DA PRAIA</td>\n",
       "<td bgcolor=\"#F0F0F0\" width=\"300\"> \n",
       "      <b style=\"color: green;\">Própria</b> </td>\n",
       "</tr>"
      ]
     },
     "execution_count": 8,
     "metadata": {},
     "output_type": "execute_result"
    }
   ],
   "source": [
    "praias_trs[1]"
   ]
  },
  {
   "cell_type": "code",
   "execution_count": null,
   "metadata": {},
   "outputs": [],
   "source": []
  },
  {
   "cell_type": "code",
   "execution_count": 9,
   "metadata": {},
   "outputs": [
    {
     "data": {
      "text/plain": [
       "<tr>\n",
       "<td align=\"left\" width=\"300\"> PRAIA DO PRUMIRIM</td>\n",
       "<td width=\"300\"> MEIO DA PRAIA</td>\n",
       "<td width=\"300\"> \n",
       "      <b style=\"color: green;\">Própria</b> </td>\n",
       "</tr>"
      ]
     },
     "execution_count": 9,
     "metadata": {},
     "output_type": "execute_result"
    }
   ],
   "source": [
    "praias_trs[2]"
   ]
  },
  {
   "cell_type": "code",
   "execution_count": null,
   "metadata": {},
   "outputs": [],
   "source": []
  },
  {
   "cell_type": "code",
   "execution_count": 10,
   "metadata": {},
   "outputs": [
    {
     "data": {
      "text/plain": [
       "<tr>\n",
       "<td align=\"left\"><b>Praia</b></td><td><b>Local</b></td><td><b>Qualidade</b></td>\n",
       "</tr>"
      ]
     },
     "execution_count": 10,
     "metadata": {},
     "output_type": "execute_result"
    }
   ],
   "source": [
    "praias_trs[0]"
   ]
  },
  {
   "cell_type": "code",
   "execution_count": null,
   "metadata": {},
   "outputs": [],
   "source": []
  },
  {
   "cell_type": "code",
   "execution_count": 11,
   "metadata": {},
   "outputs": [],
   "source": [
    "# Se quiséssemos acessar o conteúdo dessa linha da tabela, poderíamos usar o método .contents para obter uma lista de cada \n",
    "# uma das <td> células da tabela"
   ]
  },
  {
   "cell_type": "code",
   "execution_count": 12,
   "metadata": {},
   "outputs": [
    {
     "data": {
      "text/plain": [
       "['\\n',\n",
       " <td align=\"left\" bgcolor=\"#F0F0F0\" width=\"300\"> RIO ITAMAMBUCA</td>,\n",
       " '\\n',\n",
       " <td bgcolor=\"#F0F0F0\" width=\"300\"> FOZ DO RIO</td>,\n",
       " '\\n',\n",
       " <td bgcolor=\"#F0F0F0\" width=\"300\"> \n",
       "       <b style=\"color: green;\">Própria</b> </td>,\n",
       " '\\n']"
      ]
     },
     "execution_count": 12,
     "metadata": {},
     "output_type": "execute_result"
    }
   ],
   "source": [
    "praias_trs[5].contents"
   ]
  },
  {
   "cell_type": "code",
   "execution_count": null,
   "metadata": {},
   "outputs": [],
   "source": []
  },
  {
   "cell_type": "code",
   "execution_count": 13,
   "metadata": {},
   "outputs": [],
   "source": [
    "# Outra alternativa é usar o método .text para obter o conteúdo de texto de todas as células nessa linha."
   ]
  },
  {
   "cell_type": "code",
   "execution_count": 14,
   "metadata": {},
   "outputs": [
    {
     "data": {
      "text/plain": [
       "'\\n\\xa0RIO ITAMAMBUCA\\n\\xa0FOZ DO RIO\\n\\xa0\\r\\n      Própria \\n'"
      ]
     },
     "execution_count": 14,
     "metadata": {},
     "output_type": "execute_result"
    }
   ],
   "source": [
    "praias_trs[5].text"
   ]
  },
  {
   "cell_type": "code",
   "execution_count": null,
   "metadata": {},
   "outputs": [],
   "source": []
  },
  {
   "cell_type": "code",
   "execution_count": 15,
   "metadata": {},
   "outputs": [],
   "source": [
    "# Os caracteres \\n (que pulam linha) aparecem aqui novamente, mas se imprimirmos, veremos a funcionalidade de nova linha."
   ]
  },
  {
   "cell_type": "code",
   "execution_count": 16,
   "metadata": {},
   "outputs": [
    {
     "name": "stdout",
     "output_type": "stream",
     "text": [
      "\n",
      " RIO ITAMAMBUCA\n",
      " FOZ DO RIO\n",
      " \n",
      "      Própria \n",
      "\n"
     ]
    }
   ],
   "source": [
    "print(praias_trs[5].text)"
   ]
  },
  {
   "cell_type": "code",
   "execution_count": null,
   "metadata": {},
   "outputs": [],
   "source": []
  },
  {
   "cell_type": "code",
   "execution_count": 17,
   "metadata": {},
   "outputs": [],
   "source": [
    "# Poderíamos usar o processamento de strings para capturar essa string de texto e convertê-la em uma lista simples de dados. \n",
    "# .split('\\ n') dividirá a string nos caracteres de nova linha e retornará uma lista do que existe entre eles."
   ]
  },
  {
   "cell_type": "code",
   "execution_count": 16,
   "metadata": {},
   "outputs": [
    {
     "data": {
      "text/plain": [
       "['', '\\xa0RIO ITAMAMBUCA', '\\xa0FOZ DO RIO', '\\xa0\\r', '      Própria ', '']"
      ]
     },
     "execution_count": 16,
     "metadata": {},
     "output_type": "execute_result"
    }
   ],
   "source": [
    "praias_trs[5].text.split('\\n')"
   ]
  },
  {
   "cell_type": "code",
   "execution_count": null,
   "metadata": {},
   "outputs": [],
   "source": []
  },
  {
   "cell_type": "code",
   "execution_count": 17,
   "metadata": {},
   "outputs": [],
   "source": [
    "#Vamos escrever um loop for para percorrer todas as linhas da tabela em praias_trs, \n",
    "#obter a lista de dados da linha e incluí-la em uma lista de todas as linhas(praias_linhas)"
   ]
  },
  {
   "cell_type": "code",
   "execution_count": 18,
   "metadata": {},
   "outputs": [
    {
     "data": {
      "text/plain": [
       "[['', '\\xa0PICINGUABA', '\\xa0MEIO DA PRAIA', '\\xa0\\r', '      Própria ', ''],\n",
       " ['',\n",
       "  '\\xa0PRAIA DO PRUMIRIM',\n",
       "  '\\xa0MEIO DA PRAIA',\n",
       "  '\\xa0\\r',\n",
       "  '      Própria ',\n",
       "  '']]"
      ]
     },
     "execution_count": 18,
     "metadata": {},
     "output_type": "execute_result"
    }
   ],
   "source": [
    "praias_linhas = [] # cria uma lista vazia para armazenar os resultados \n",
    "\n",
    "# Faz um loop por todas as linhas da tabela sem cabeçalho (primeira linha)\n",
    "for linha in praias_trs[1:]: # começa na segunda linha e vai até a última\n",
    "    \n",
    "    # Obter o texto da linha e dividir nas novas linhas (como acima)\n",
    "    praias_linhas_vez = linha.text.split('\\n')\n",
    "    \n",
    "    # Adicione esta linha limpa de volta à lista externa de dados de linha\n",
    "    praias_linhas.append(praias_linhas_vez)\n",
    "    \n",
    "# Inspecione as primeiras 2 linhas de dados\n",
    "praias_linhas[:2]"
   ]
  },
  {
   "cell_type": "code",
   "execution_count": null,
   "metadata": {},
   "outputs": [],
   "source": []
  },
  {
   "cell_type": "code",
   "execution_count": 19,
   "metadata": {},
   "outputs": [],
   "source": [
    "#Agora podemos passar esta lista de listas em praias_linhas para a função DataFrame do pandas e esperamos conseguir uma boa tabela"
   ]
  },
  {
   "cell_type": "code",
   "execution_count": 21,
   "metadata": {},
   "outputs": [
    {
     "data": {
      "text/html": [
       "<div>\n",
       "<style scoped>\n",
       "    .dataframe tbody tr th:only-of-type {\n",
       "        vertical-align: middle;\n",
       "    }\n",
       "\n",
       "    .dataframe tbody tr th {\n",
       "        vertical-align: top;\n",
       "    }\n",
       "\n",
       "    .dataframe thead th {\n",
       "        text-align: right;\n",
       "    }\n",
       "</style>\n",
       "<table border=\"1\" class=\"dataframe\">\n",
       "  <thead>\n",
       "    <tr style=\"text-align: right;\">\n",
       "      <th></th>\n",
       "      <th>0</th>\n",
       "      <th>1</th>\n",
       "      <th>2</th>\n",
       "      <th>3</th>\n",
       "      <th>4</th>\n",
       "      <th>5</th>\n",
       "    </tr>\n",
       "  </thead>\n",
       "  <tbody>\n",
       "    <tr>\n",
       "      <th>0</th>\n",
       "      <td></td>\n",
       "      <td>PICINGUABA</td>\n",
       "      <td>MEIO DA PRAIA</td>\n",
       "      <td>\\r</td>\n",
       "      <td>Própria</td>\n",
       "      <td></td>\n",
       "    </tr>\n",
       "    <tr>\n",
       "      <th>1</th>\n",
       "      <td></td>\n",
       "      <td>PRAIA DO PRUMIRIM</td>\n",
       "      <td>MEIO DA PRAIA</td>\n",
       "      <td>\\r</td>\n",
       "      <td>Própria</td>\n",
       "      <td></td>\n",
       "    </tr>\n",
       "    <tr>\n",
       "      <th>2</th>\n",
       "      <td></td>\n",
       "      <td>FÉLIX</td>\n",
       "      <td>MEIO DA PRAIA</td>\n",
       "      <td>\\r</td>\n",
       "      <td>Própria</td>\n",
       "      <td></td>\n",
       "    </tr>\n",
       "    <tr>\n",
       "      <th>3</th>\n",
       "      <td></td>\n",
       "      <td>ITAMAMBUCA</td>\n",
       "      <td>EM FRENTE À R.TRÊS</td>\n",
       "      <td>\\r</td>\n",
       "      <td>Própria</td>\n",
       "      <td></td>\n",
       "    </tr>\n",
       "    <tr>\n",
       "      <th>4</th>\n",
       "      <td></td>\n",
       "      <td>RIO ITAMAMBUCA</td>\n",
       "      <td>FOZ DO RIO</td>\n",
       "      <td>\\r</td>\n",
       "      <td>Própria</td>\n",
       "      <td></td>\n",
       "    </tr>\n",
       "  </tbody>\n",
       "</table>\n",
       "</div>"
      ],
      "text/plain": [
       "  0                   1                    2    3               4 5\n",
       "0            PICINGUABA        MEIO DA PRAIA   \\r        Própria   \n",
       "1     PRAIA DO PRUMIRIM        MEIO DA PRAIA   \\r        Própria   \n",
       "2                 FÉLIX        MEIO DA PRAIA   \\r        Própria   \n",
       "3            ITAMAMBUCA   EM FRENTE À R.TRÊS   \\r        Própria   \n",
       "4        RIO ITAMAMBUCA           FOZ DO RIO   \\r        Própria   "
      ]
     },
     "execution_count": 21,
     "metadata": {},
     "output_type": "execute_result"
    }
   ],
   "source": [
    "praias_df = pd.DataFrame(praias_linhas)\n",
    "\n",
    "# Mostra as cinco primeiras linhas\n",
    "praias_df.head()"
   ]
  },
  {
   "cell_type": "code",
   "execution_count": 22,
   "metadata": {},
   "outputs": [
    {
     "data": {
      "text/html": [
       "<div>\n",
       "<style scoped>\n",
       "    .dataframe tbody tr th:only-of-type {\n",
       "        vertical-align: middle;\n",
       "    }\n",
       "\n",
       "    .dataframe tbody tr th {\n",
       "        vertical-align: top;\n",
       "    }\n",
       "\n",
       "    .dataframe thead th {\n",
       "        text-align: right;\n",
       "    }\n",
       "</style>\n",
       "<table border=\"1\" class=\"dataframe\">\n",
       "  <thead>\n",
       "    <tr style=\"text-align: right;\">\n",
       "      <th></th>\n",
       "      <th>0</th>\n",
       "      <th>1</th>\n",
       "      <th>2</th>\n",
       "      <th>3</th>\n",
       "      <th>4</th>\n",
       "      <th>5</th>\n",
       "    </tr>\n",
       "  </thead>\n",
       "  <tbody>\n",
       "    <tr>\n",
       "      <th>28</th>\n",
       "      <td></td>\n",
       "      <td>PRAIA DO PRESÍDIO - ILHA ANCHIETA</td>\n",
       "      <td>MEIO DA PRAIA</td>\n",
       "      <td>\\r</td>\n",
       "      <td>Própria</td>\n",
       "      <td></td>\n",
       "    </tr>\n",
       "    <tr>\n",
       "      <th>29</th>\n",
       "      <td></td>\n",
       "      <td>PRAINHA DO ENGENHO - ILHA ANCHIETA</td>\n",
       "      <td>MEIO DA PRAIA</td>\n",
       "      <td>\\r</td>\n",
       "      <td>Própria</td>\n",
       "      <td></td>\n",
       "    </tr>\n",
       "    <tr>\n",
       "      <th>30</th>\n",
       "      <td></td>\n",
       "      <td>PRAIA DE FORA - ILHA ANCHIETA</td>\n",
       "      <td>MEIO DA PRAIA</td>\n",
       "      <td>\\r</td>\n",
       "      <td>Própria</td>\n",
       "      <td></td>\n",
       "    </tr>\n",
       "    <tr>\n",
       "      <th>31</th>\n",
       "      <td></td>\n",
       "      <td>PRAIA DO SUL - ILHA ANCHIETA</td>\n",
       "      <td>MEIO DA PRAIA</td>\n",
       "      <td>\\r</td>\n",
       "      <td>Própria</td>\n",
       "      <td></td>\n",
       "    </tr>\n",
       "    <tr>\n",
       "      <th>32</th>\n",
       "      <td></td>\n",
       "      <td>PRAINHA DO LESTE - ILHA ANCHIETA</td>\n",
       "      <td>MEIO DA PRAIA</td>\n",
       "      <td>\\r</td>\n",
       "      <td>Própria</td>\n",
       "      <td></td>\n",
       "    </tr>\n",
       "  </tbody>\n",
       "</table>\n",
       "</div>"
      ],
      "text/plain": [
       "   0                                    1               2    3  \\\n",
       "28      PRAIA DO PRESÍDIO - ILHA ANCHIETA   MEIO DA PRAIA   \\r   \n",
       "29     PRAINHA DO ENGENHO - ILHA ANCHIETA   MEIO DA PRAIA   \\r   \n",
       "30          PRAIA DE FORA - ILHA ANCHIETA   MEIO DA PRAIA   \\r   \n",
       "31           PRAIA DO SUL - ILHA ANCHIETA   MEIO DA PRAIA   \\r   \n",
       "32       PRAINHA DO LESTE - ILHA ANCHIETA   MEIO DA PRAIA   \\r   \n",
       "\n",
       "                 4 5  \n",
       "28        Própria     \n",
       "29        Própria     \n",
       "30        Própria     \n",
       "31        Própria     \n",
       "32        Própria     "
      ]
     },
     "execution_count": 22,
     "metadata": {},
     "output_type": "execute_result"
    }
   ],
   "source": [
    "# Mostra as cinco últimas linhas\n",
    "praias_df.tail()"
   ]
  },
  {
   "cell_type": "code",
   "execution_count": null,
   "metadata": {},
   "outputs": [],
   "source": []
  },
  {
   "cell_type": "code",
   "execution_count": 22,
   "metadata": {},
   "outputs": [],
   "source": [
    "# E se quisermos extrair todas as tabelas"
   ]
  },
  {
   "cell_type": "code",
   "execution_count": 23,
   "metadata": {},
   "outputs": [
    {
     "name": "stdout",
     "output_type": "stream",
     "text": [
      "0\n",
      "1\n",
      "2\n",
      "3\n",
      "4\n",
      "5\n",
      "6\n",
      "7\n",
      "8\n",
      "9\n",
      "10\n",
      "11\n",
      "12\n",
      "13\n",
      "14\n"
     ]
    }
   ],
   "source": [
    "praias_linhas = [] # lista vazia para armazenar os resultados \n",
    "\n",
    "# Faz um loop nas 14 tabelas\n",
    "# O range faz sempre um a menos\n",
    "for n in range(0, 15):\n",
    "    print(n)\n",
    "    praias_trs = praias_tabelas[n].find_all('tr')\n",
    "    \n",
    "    # Faz um loop por todas as linhas da tabela sem cabeçalho (primeira linha)\n",
    "    for linha in praias_trs[1:]:\n",
    "    \n",
    "        # Obter o texto da linha e dividir nas novas linhas (como acima)\n",
    "        praias_linhas_vez = linha.text.split('\\n')\n",
    "    \n",
    "        # Adicione esta linha limpa de volta à lista externa de dados de linha\n",
    "        praias_linhas.append(praias_linhas_vez)"
   ]
  },
  {
   "cell_type": "code",
   "execution_count": null,
   "metadata": {},
   "outputs": [],
   "source": []
  },
  {
   "cell_type": "code",
   "execution_count": 24,
   "metadata": {},
   "outputs": [
    {
     "data": {
      "text/html": [
       "<div>\n",
       "<style scoped>\n",
       "    .dataframe tbody tr th:only-of-type {\n",
       "        vertical-align: middle;\n",
       "    }\n",
       "\n",
       "    .dataframe tbody tr th {\n",
       "        vertical-align: top;\n",
       "    }\n",
       "\n",
       "    .dataframe thead th {\n",
       "        text-align: right;\n",
       "    }\n",
       "</style>\n",
       "<table border=\"1\" class=\"dataframe\">\n",
       "  <thead>\n",
       "    <tr style=\"text-align: right;\">\n",
       "      <th></th>\n",
       "      <th>0</th>\n",
       "      <th>1</th>\n",
       "      <th>2</th>\n",
       "      <th>3</th>\n",
       "      <th>4</th>\n",
       "      <th>5</th>\n",
       "    </tr>\n",
       "  </thead>\n",
       "  <tbody>\n",
       "    <tr>\n",
       "      <th>0</th>\n",
       "      <td></td>\n",
       "      <td>PICINGUABA</td>\n",
       "      <td>MEIO DA PRAIA</td>\n",
       "      <td>\\r</td>\n",
       "      <td>Própria</td>\n",
       "      <td></td>\n",
       "    </tr>\n",
       "    <tr>\n",
       "      <th>1</th>\n",
       "      <td></td>\n",
       "      <td>PRAIA DO PRUMIRIM</td>\n",
       "      <td>MEIO DA PRAIA</td>\n",
       "      <td>\\r</td>\n",
       "      <td>Própria</td>\n",
       "      <td></td>\n",
       "    </tr>\n",
       "    <tr>\n",
       "      <th>2</th>\n",
       "      <td></td>\n",
       "      <td>FÉLIX</td>\n",
       "      <td>MEIO DA PRAIA</td>\n",
       "      <td>\\r</td>\n",
       "      <td>Própria</td>\n",
       "      <td></td>\n",
       "    </tr>\n",
       "    <tr>\n",
       "      <th>3</th>\n",
       "      <td></td>\n",
       "      <td>ITAMAMBUCA</td>\n",
       "      <td>EM FRENTE À R.TRÊS</td>\n",
       "      <td>\\r</td>\n",
       "      <td>Própria</td>\n",
       "      <td></td>\n",
       "    </tr>\n",
       "    <tr>\n",
       "      <th>4</th>\n",
       "      <td></td>\n",
       "      <td>RIO ITAMAMBUCA</td>\n",
       "      <td>FOZ DO RIO</td>\n",
       "      <td>\\r</td>\n",
       "      <td>Própria</td>\n",
       "      <td></td>\n",
       "    </tr>\n",
       "  </tbody>\n",
       "</table>\n",
       "</div>"
      ],
      "text/plain": [
       "  0                   1                    2    3               4 5\n",
       "0            PICINGUABA        MEIO DA PRAIA   \\r        Própria   \n",
       "1     PRAIA DO PRUMIRIM        MEIO DA PRAIA   \\r        Própria   \n",
       "2                 FÉLIX        MEIO DA PRAIA   \\r        Própria   \n",
       "3            ITAMAMBUCA   EM FRENTE À R.TRÊS   \\r        Própria   \n",
       "4        RIO ITAMAMBUCA           FOZ DO RIO   \\r        Própria   "
      ]
     },
     "execution_count": 24,
     "metadata": {},
     "output_type": "execute_result"
    }
   ],
   "source": [
    "praias_df = pd.DataFrame(praias_linhas)\n",
    "praias_df.head()"
   ]
  },
  {
   "cell_type": "code",
   "execution_count": null,
   "metadata": {},
   "outputs": [],
   "source": []
  },
  {
   "cell_type": "code",
   "execution_count": 25,
   "metadata": {},
   "outputs": [
    {
     "data": {
      "text/html": [
       "<div>\n",
       "<style scoped>\n",
       "    .dataframe tbody tr th:only-of-type {\n",
       "        vertical-align: middle;\n",
       "    }\n",
       "\n",
       "    .dataframe tbody tr th {\n",
       "        vertical-align: top;\n",
       "    }\n",
       "\n",
       "    .dataframe thead th {\n",
       "        text-align: right;\n",
       "    }\n",
       "</style>\n",
       "<table border=\"1\" class=\"dataframe\">\n",
       "  <thead>\n",
       "    <tr style=\"text-align: right;\">\n",
       "      <th></th>\n",
       "      <th>0</th>\n",
       "      <th>1</th>\n",
       "      <th>2</th>\n",
       "      <th>3</th>\n",
       "      <th>4</th>\n",
       "      <th>5</th>\n",
       "    </tr>\n",
       "  </thead>\n",
       "  <tbody>\n",
       "    <tr>\n",
       "      <th>169</th>\n",
       "      <td></td>\n",
       "      <td>JURÉIA</td>\n",
       "      <td>EM FRENTE À AV. PAPA JOÃO XXIII</td>\n",
       "      <td>\\r</td>\n",
       "      <td>Própria</td>\n",
       "      <td></td>\n",
       "    </tr>\n",
       "    <tr>\n",
       "      <th>170</th>\n",
       "      <td></td>\n",
       "      <td>BALNEÁRIO ADRIANA</td>\n",
       "      <td>EM FRENTE À AV. STA CATARINA</td>\n",
       "      <td>\\r</td>\n",
       "      <td>Própria</td>\n",
       "      <td></td>\n",
       "    </tr>\n",
       "    <tr>\n",
       "      <th>171</th>\n",
       "      <td></td>\n",
       "      <td>CENTRO</td>\n",
       "      <td>EM FRENTE À AV. COPACABANA</td>\n",
       "      <td>\\r</td>\n",
       "      <td>Própria</td>\n",
       "      <td></td>\n",
       "    </tr>\n",
       "    <tr>\n",
       "      <th>172</th>\n",
       "      <td></td>\n",
       "      <td>PONTAL</td>\n",
       "      <td>EM FRENTE À ENTRADA DA PRAIA</td>\n",
       "      <td>\\r</td>\n",
       "      <td>Própria</td>\n",
       "      <td></td>\n",
       "    </tr>\n",
       "    <tr>\n",
       "      <th>173</th>\n",
       "      <td></td>\n",
       "      <td>PRAINHA</td>\n",
       "      <td>NA SAíDA DA BALSA</td>\n",
       "      <td>\\r</td>\n",
       "      <td>Própria</td>\n",
       "      <td></td>\n",
       "    </tr>\n",
       "  </tbody>\n",
       "</table>\n",
       "</div>"
      ],
      "text/plain": [
       "    0                   1                                 2    3  \\\n",
       "169                JURÉIA   EM FRENTE À AV. PAPA JOÃO XXIII   \\r   \n",
       "170     BALNEÁRIO ADRIANA      EM FRENTE À AV. STA CATARINA   \\r   \n",
       "171                CENTRO        EM FRENTE À AV. COPACABANA   \\r   \n",
       "172                PONTAL      EM FRENTE À ENTRADA DA PRAIA   \\r   \n",
       "173               PRAINHA                 NA SAíDA DA BALSA   \\r   \n",
       "\n",
       "                  4 5  \n",
       "169        Própria     \n",
       "170        Própria     \n",
       "171        Própria     \n",
       "172        Própria     \n",
       "173        Própria     "
      ]
     },
     "execution_count": 25,
     "metadata": {},
     "output_type": "execute_result"
    }
   ],
   "source": [
    "praias_df.tail()"
   ]
  },
  {
   "cell_type": "code",
   "execution_count": null,
   "metadata": {},
   "outputs": [],
   "source": []
  },
  {
   "cell_type": "markdown",
   "metadata": {},
   "source": [
    "Precisamos fazer um pouco de limpeza nesses dados:\n",
    "\n",
    "As colunas 0, 3  e 5 estão todas vazias\n",
    "\n",
    "Adicionar nomes de coluna"
   ]
  },
  {
   "cell_type": "code",
   "execution_count": null,
   "metadata": {},
   "outputs": [],
   "source": []
  },
  {
   "cell_type": "code",
   "execution_count": 26,
   "metadata": {},
   "outputs": [],
   "source": [
    "# Apaga as colunas 0, 3 e 5 e sobrescreva a variável praias_df\n",
    "praias_df = praias_df.drop(columns=[0,3,5])\n",
    "\n",
    "# Renomeia colunas\n",
    "praias_df.columns = ['nome_praia','localizacao','qualidade']"
   ]
  },
  {
   "cell_type": "code",
   "execution_count": null,
   "metadata": {},
   "outputs": [],
   "source": []
  },
  {
   "cell_type": "code",
   "execution_count": 33,
   "metadata": {},
   "outputs": [
    {
     "data": {
      "text/html": [
       "<div>\n",
       "<style scoped>\n",
       "    .dataframe tbody tr th:only-of-type {\n",
       "        vertical-align: middle;\n",
       "    }\n",
       "\n",
       "    .dataframe tbody tr th {\n",
       "        vertical-align: top;\n",
       "    }\n",
       "\n",
       "    .dataframe thead th {\n",
       "        text-align: right;\n",
       "    }\n",
       "</style>\n",
       "<table border=\"1\" class=\"dataframe\">\n",
       "  <thead>\n",
       "    <tr style=\"text-align: right;\">\n",
       "      <th></th>\n",
       "      <th>nome_praia</th>\n",
       "      <th>localizacao</th>\n",
       "      <th>qualidade</th>\n",
       "    </tr>\n",
       "  </thead>\n",
       "  <tbody>\n",
       "    <tr>\n",
       "      <th>169</th>\n",
       "      <td>JURÉIA</td>\n",
       "      <td>EM FRENTE À AV. PAPA JOÃO XXIII</td>\n",
       "      <td>Própria</td>\n",
       "    </tr>\n",
       "    <tr>\n",
       "      <th>170</th>\n",
       "      <td>BALNEÁRIO ADRIANA</td>\n",
       "      <td>EM FRENTE À AV. STA CATARINA</td>\n",
       "      <td>Própria</td>\n",
       "    </tr>\n",
       "    <tr>\n",
       "      <th>171</th>\n",
       "      <td>CENTRO</td>\n",
       "      <td>EM FRENTE À AV. COPACABANA</td>\n",
       "      <td>Própria</td>\n",
       "    </tr>\n",
       "    <tr>\n",
       "      <th>172</th>\n",
       "      <td>PONTAL</td>\n",
       "      <td>EM FRENTE À ENTRADA DA PRAIA</td>\n",
       "      <td>Própria</td>\n",
       "    </tr>\n",
       "    <tr>\n",
       "      <th>173</th>\n",
       "      <td>PRAINHA</td>\n",
       "      <td>NA SAíDA DA BALSA</td>\n",
       "      <td>Própria</td>\n",
       "    </tr>\n",
       "  </tbody>\n",
       "</table>\n",
       "</div>"
      ],
      "text/plain": [
       "             nome_praia                       localizacao       qualidade\n",
       "169              JURÉIA   EM FRENTE À AV. PAPA JOÃO XXIII        Própria \n",
       "170   BALNEÁRIO ADRIANA      EM FRENTE À AV. STA CATARINA        Própria \n",
       "171              CENTRO        EM FRENTE À AV. COPACABANA        Própria \n",
       "172              PONTAL      EM FRENTE À ENTRADA DA PRAIA        Própria \n",
       "173             PRAINHA                 NA SAíDA DA BALSA        Própria "
      ]
     },
     "execution_count": 33,
     "metadata": {},
     "output_type": "execute_result"
    }
   ],
   "source": [
    "praias_df.tail()"
   ]
  },
  {
   "cell_type": "code",
   "execution_count": null,
   "metadata": {},
   "outputs": [],
   "source": []
  },
  {
   "cell_type": "code",
   "execution_count": 27,
   "metadata": {},
   "outputs": [],
   "source": [
    "# Limpeza final para retirar espaços em branco antes e depois das informações"
   ]
  },
  {
   "cell_type": "code",
   "execution_count": 28,
   "metadata": {},
   "outputs": [],
   "source": [
    "def limpeza1(linha):\n",
    "    documento = linha[\"nome_praia\"]\n",
    "    documento = documento.strip() # retira espaços em branco\n",
    "    return str(documento)\n",
    "\n",
    "def limpeza2(linha):\n",
    "    documento = linha[\"localizacao\"]\n",
    "    documento = documento.strip()\n",
    "    return str(documento)\n",
    "\n",
    "def limpeza3(linha):\n",
    "    documento = linha[\"qualidade\"]\n",
    "    documento = documento.strip()\n",
    "    return str(documento)\n",
    "\n",
    "praias_df[\"nome_praia\"] = praias_df.apply(limpeza1, axis=1)\n",
    "praias_df[\"localizacao\"] = praias_df.apply(limpeza2, axis=1)\n",
    "praias_df[\"qualidade\"] = praias_df.apply(limpeza3, axis=1)"
   ]
  },
  {
   "cell_type": "code",
   "execution_count": null,
   "metadata": {},
   "outputs": [],
   "source": []
  },
  {
   "cell_type": "code",
   "execution_count": 29,
   "metadata": {},
   "outputs": [
    {
     "data": {
      "text/html": [
       "<div>\n",
       "<style scoped>\n",
       "    .dataframe tbody tr th:only-of-type {\n",
       "        vertical-align: middle;\n",
       "    }\n",
       "\n",
       "    .dataframe tbody tr th {\n",
       "        vertical-align: top;\n",
       "    }\n",
       "\n",
       "    .dataframe thead th {\n",
       "        text-align: right;\n",
       "    }\n",
       "</style>\n",
       "<table border=\"1\" class=\"dataframe\">\n",
       "  <thead>\n",
       "    <tr style=\"text-align: right;\">\n",
       "      <th></th>\n",
       "      <th>index</th>\n",
       "      <th>nome_praia</th>\n",
       "      <th>localizacao</th>\n",
       "      <th>qualidade</th>\n",
       "    </tr>\n",
       "  </thead>\n",
       "  <tbody>\n",
       "    <tr>\n",
       "      <th>0</th>\n",
       "      <td>0</td>\n",
       "      <td>PICINGUABA</td>\n",
       "      <td>MEIO DA PRAIA</td>\n",
       "      <td>Própria</td>\n",
       "    </tr>\n",
       "    <tr>\n",
       "      <th>1</th>\n",
       "      <td>1</td>\n",
       "      <td>PRAIA DO PRUMIRIM</td>\n",
       "      <td>MEIO DA PRAIA</td>\n",
       "      <td>Própria</td>\n",
       "    </tr>\n",
       "    <tr>\n",
       "      <th>2</th>\n",
       "      <td>2</td>\n",
       "      <td>FÉLIX</td>\n",
       "      <td>MEIO DA PRAIA</td>\n",
       "      <td>Própria</td>\n",
       "    </tr>\n",
       "    <tr>\n",
       "      <th>3</th>\n",
       "      <td>3</td>\n",
       "      <td>ITAMAMBUCA</td>\n",
       "      <td>EM FRENTE À R.TRÊS</td>\n",
       "      <td>Própria</td>\n",
       "    </tr>\n",
       "    <tr>\n",
       "      <th>4</th>\n",
       "      <td>4</td>\n",
       "      <td>RIO ITAMAMBUCA</td>\n",
       "      <td>FOZ DO RIO</td>\n",
       "      <td>Própria</td>\n",
       "    </tr>\n",
       "    <tr>\n",
       "      <th>5</th>\n",
       "      <td>5</td>\n",
       "      <td>VERMELHA DO NORTE</td>\n",
       "      <td>200M AO SUL DA PRAIA</td>\n",
       "      <td>Própria</td>\n",
       "    </tr>\n",
       "    <tr>\n",
       "      <th>6</th>\n",
       "      <td>6</td>\n",
       "      <td>PEREQUÊ-AÇU</td>\n",
       "      <td>EM FRENTE À R. PEDRA NEGRA</td>\n",
       "      <td>Imprópria</td>\n",
       "    </tr>\n",
       "    <tr>\n",
       "      <th>7</th>\n",
       "      <td>7</td>\n",
       "      <td>IPEROIG</td>\n",
       "      <td>EM FRENTE AO CRUZEIRO</td>\n",
       "      <td>Própria</td>\n",
       "    </tr>\n",
       "    <tr>\n",
       "      <th>8</th>\n",
       "      <td>8</td>\n",
       "      <td>ITAGUÁ-AV. LEOVEGILDO, 240</td>\n",
       "      <td>EM FRENTE AO Nº 240 DA AV. LEOVEGILDO D. VIEIRA</td>\n",
       "      <td>Própria</td>\n",
       "    </tr>\n",
       "    <tr>\n",
       "      <th>9</th>\n",
       "      <td>9</td>\n",
       "      <td>ITAGUA-AV. LEOVEGILDO, 1724</td>\n",
       "      <td>EM FRENTE AO Nº 1724 DA AV. LEOVEGILDO D. VIEIRA</td>\n",
       "      <td>Imprópria</td>\n",
       "    </tr>\n",
       "  </tbody>\n",
       "</table>\n",
       "</div>"
      ],
      "text/plain": [
       "   index                   nome_praia  \\\n",
       "0      0                   PICINGUABA   \n",
       "1      1            PRAIA DO PRUMIRIM   \n",
       "2      2                        FÉLIX   \n",
       "3      3                   ITAMAMBUCA   \n",
       "4      4               RIO ITAMAMBUCA   \n",
       "5      5            VERMELHA DO NORTE   \n",
       "6      6                  PEREQUÊ-AÇU   \n",
       "7      7                      IPEROIG   \n",
       "8      8   ITAGUÁ-AV. LEOVEGILDO, 240   \n",
       "9      9  ITAGUA-AV. LEOVEGILDO, 1724   \n",
       "\n",
       "                                        localizacao  qualidade  \n",
       "0                                     MEIO DA PRAIA    Própria  \n",
       "1                                     MEIO DA PRAIA    Própria  \n",
       "2                                     MEIO DA PRAIA    Própria  \n",
       "3                                EM FRENTE À R.TRÊS    Própria  \n",
       "4                                        FOZ DO RIO    Própria  \n",
       "5                              200M AO SUL DA PRAIA    Própria  \n",
       "6                        EM FRENTE À R. PEDRA NEGRA  Imprópria  \n",
       "7                             EM FRENTE AO CRUZEIRO    Própria  \n",
       "8   EM FRENTE AO Nº 240 DA AV. LEOVEGILDO D. VIEIRA    Própria  \n",
       "9  EM FRENTE AO Nº 1724 DA AV. LEOVEGILDO D. VIEIRA  Imprópria  "
      ]
     },
     "execution_count": 29,
     "metadata": {},
     "output_type": "execute_result"
    }
   ],
   "source": [
    "praias_df.reset_index().head(10)"
   ]
  },
  {
   "cell_type": "code",
   "execution_count": null,
   "metadata": {},
   "outputs": [],
   "source": []
  },
  {
   "cell_type": "code",
   "execution_count": 32,
   "metadata": {},
   "outputs": [],
   "source": [
    "# Salva um arquivo - neste exemplo o encoding não funcionou adequadamente no Mac, então salvei como XLSX também abaixo\n",
    "praias_df.to_csv('resultado/qualidade_praias_19mai_16_jun.csv', index=False, encoding='latin_1')"
   ]
  },
  {
   "cell_type": "code",
   "execution_count": 33,
   "metadata": {},
   "outputs": [],
   "source": [
    "praias_df.to_excel('resultado/qualidade_praias_19mar_16_jun.xlsx',sheet_name='Sheet1')"
   ]
  },
  {
   "cell_type": "code",
   "execution_count": null,
   "metadata": {},
   "outputs": [],
   "source": []
  }
 ],
 "metadata": {
  "kernelspec": {
   "display_name": "Python 3",
   "language": "python",
   "name": "python3"
  },
  "language_info": {
   "codemirror_mode": {
    "name": "ipython",
    "version": 3
   },
   "file_extension": ".py",
   "mimetype": "text/x-python",
   "name": "python",
   "nbconvert_exporter": "python",
   "pygments_lexer": "ipython3",
   "version": "3.6.8"
  }
 },
 "nbformat": 4,
 "nbformat_minor": 2
}
